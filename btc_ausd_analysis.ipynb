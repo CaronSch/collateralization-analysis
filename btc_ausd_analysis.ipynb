{
 "cells": [
  {
   "cell_type": "code",
   "execution_count": 1,
   "metadata": {},
   "outputs": [
    {
     "name": "stdout",
     "output_type": "stream",
     "text": [
      "aUSD/USD had an annualized std of 0.21050053774519478\n",
      "aUSD/USD had an annualized mean return of -0.07836015912397953\n"
     ]
    }
   ],
   "source": [
    "# %%\n",
    "from data.data_request import Token, Token_Pair\n",
    "from analysis.analysis import Analysis\n",
    "from simulation.simulation import Simulation\n",
    "\n",
    "quote_currency = Token(\"usd\", \"USD\")\n",
    "base_currency = Token(\"acala-dollar\", \"aUSD\")\n",
    "\n",
    "ausd_pair = Token_Pair(base_currency, quote_currency)\n",
    "ausd_pair.get_prices()\n",
    "ausd_pair.calculate_returns()\n",
    "print(f\"aUSD/USD had an annualized std of {ausd_pair.returns.std()[0] *365**0.5}\") # the std scaled by the square-root of time, 365 days to annulize it, **0.5 to square it\n",
    "print(f\"aUSD/USD had an annualized mean return of {ausd_pair.calculate_mean_return()}\")\n",
    "# We can disregard the mean return as it is assumed to be 0 for stable coins due to arbitrage\n",
    "# We have to take into consideration the standard deviation of the price, which we will\n",
    "# add to the standard deviation of BTC"
   ]
  },
  {
   "cell_type": "code",
   "execution_count": 2,
   "metadata": {},
   "outputs": [
    {
     "name": "stdout",
     "output_type": "stream",
     "text": [
      "USD/BTC had an annualized std of 0.8137701117680453\n",
      "USD/BTC had an annualized mean return of -0.3516283023472878\n"
     ]
    }
   ],
   "source": [
    "# BTC is the debt in the system and if BTC increases in price, the over-collateralization ratio drops\n",
    "# To model this, we get the inverse price to have BTC as quote currency\n",
    "# If we select the n-th worst trajectories of the inverse price,\n",
    "# it's equivalent to the n-th best price appreciation.\n",
    "# We choose a 5 year period to get a decent sample period with 3 bull runs & crashes\n",
    "quote_currency = Token(\"usd\", \"USD\")\n",
    "base_currency = Token(\"bitcoin\", \"BTC\")\n",
    "\n",
    "btc_pair = Token_Pair(base_currency, quote_currency)\n",
    "btc_pair.get_prices(start_date=\"2017-07-01\", inverse=True)\n",
    "btc_pair.calculate_returns()\n",
    "\n",
    "print(f\"USD/BTC had an annualized std of {btc_pair.returns.std()[0] *365**0.5}\") # the std scaled by the square-root of time, 365 days to annulize it, **0.5 to square it\n",
    "print(f\"USD/BTC had an annualized mean return of {btc_pair.calculate_mean_return()}\")"
   ]
  },
  {
   "cell_type": "code",
   "execution_count": 3,
   "metadata": {},
   "outputs": [
    {
     "name": "stdout",
     "output_type": "stream",
     "text": [
      "The estimated liquidation threshold is ~146% of the debt value\n",
      "The estimated premium redeem threshold is ~176% of the debt value\n"
     ]
    }
   ],
   "source": [
    "# We adjust the variance by adding the covariance of the aUSD/USD pair.\n",
    "corr = ausd_pair.returns.corrwith(btc_pair.returns)\n",
    "cov = corr * btc_pair.returns.std()[0] * ausd_pair.returns.std()[0]\n",
    "# daily var, add 2*covariance and take the square root to get the std\n",
    "adj_btc_std = (btc_pair.returns.var()[0] + 2 * cov) ** 0.5\n",
    "\n",
    "# Initialize and run the simulation: Each path represents the price change of the collateral/debt\n",
    "# We simulate 10,000 trajectories with a duration of 7 days and 24 hours each\n",
    "# and assume a normal distribution (GBM) with the mean and std of bitcoin over the past 5 years\n",
    "sim = Simulation(btc_pair, strategy=\"GBM\")\n",
    "sim.simulate(steps=24,\n",
    "             maturity=7,\n",
    "             n_simulations=10_000,\n",
    "             initial_value=1,\n",
    "             sigma=adj_btc_std[0],\n",
    "             mu=btc_pair.calculate_mean_return(type=\"arithmetic\", standardization_period=\"daily\"))\n",
    "\n",
    "\n",
    "# Analize the results\n",
    "# Initialize the analysis\n",
    "simple_analysis = Analysis(sim)\n",
    "\n",
    "# This gives us the secure threshold multiplier, stating that:\n",
    "# The collateral/debt ratio will fall below 1 only with a 0.1% chance in 7 days or...\n",
    "# This assumes no premium redeem, additional collateralization or liquidation.\n",
    "liquidation_threshold_margin = simple_analysis.get_threshold_multiplier(alpha=0.999) # <- this can be changed ofc \n",
    "premium_redeem_threshold_margin = simple_analysis.get_threshold_multiplier(alpha=0.90) # <- this can be changed ofc \n",
    "\n",
    "print(f\"The estimated liquidation threshold is ~{int(liquidation_threshold_margin * 100)}% of the debt value\")\n",
    "print(f\"The estimated premium redeem threshold is ~{int(liquidation_threshold_margin * premium_redeem_threshold_margin * 100)}% of the debt value\")"
   ]
  },
  {
   "cell_type": "code",
   "execution_count": 4,
   "metadata": {},
   "outputs": [],
   "source": [
    "# Initialize and run the simulation: Each path represents the price change of the collateral/debt\n",
    "# We simulate 10,000 trajectories with a duration of 21 days and 24 hours each\n",
    "# and assume a normal distribution (GBM) with the mean and std of bitcoin over the past 5 years\n",
    "sim = Simulation(btc_pair, strategy=\"GBM\")\n",
    "sim.simulate(steps=24,\n",
    "             maturity=21,\n",
    "             n_simulations=10_000,\n",
    "             initial_value=1,\n",
    "             sigma=adj_btc_std[0],\n",
    "             mu=btc_pair.calculate_mean_return(type=\"arithmetic\", standardization_period=\"daily\"))\n",
    "\n"
   ]
  },
  {
   "cell_type": "code",
   "execution_count": 5,
   "metadata": {},
   "outputs": [
    {
     "name": "stdout",
     "output_type": "stream",
     "text": [
      "The estimated liquidation threshold is ~204% of the debt value\n"
     ]
    }
   ],
   "source": [
    "\n",
    "# Analize the results\n",
    "# Initialize the analysis\n",
    "simple_analysis = Analysis(sim)\n",
    "\n",
    "# This gives us the secure threshold multiplier, stating that:\n",
    "# The collateral/debt ratio will fall below the liquidation_threshold_margin with a 10% chance in 21 days or...\n",
    "# This assumes no premium redeem, additional collateralization or liquidation.\n",
    "secure_threshold_margin = simple_analysis.get_threshold_multiplier(alpha=0.90) # <- this can be changed ofc \n",
    "\n",
    "print(f\"The estimated secure threshold is ~{int(liquidation_threshold_margin * secure_threshold_margin * 100)}% of the debt value\")"
   ]
  },
  {
   "cell_type": "code",
   "execution_count": null,
   "metadata": {},
   "outputs": [],
   "source": []
  }
 ],
 "metadata": {
  "kernelspec": {
   "display_name": "Python 3.10.5 ('collateralization-analysis-gRqjFBpx')",
   "language": "python",
   "name": "python3"
  },
  "language_info": {
   "codemirror_mode": {
    "name": "ipython",
    "version": 3
   },
   "file_extension": ".py",
   "mimetype": "text/x-python",
   "name": "python",
   "nbconvert_exporter": "python",
   "pygments_lexer": "ipython3",
   "version": "3.10.5"
  },
  "orig_nbformat": 4,
  "vscode": {
   "interpreter": {
    "hash": "cc42073f12327550f2355876a56d3048797f9e26fef48a9a1337775e8ffa07f1"
   }
  }
 },
 "nbformat": 4,
 "nbformat_minor": 2
}
