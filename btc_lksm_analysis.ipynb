{
 "cells": [
  {
   "cell_type": "code",
   "execution_count": 10,
   "metadata": {},
   "outputs": [
    {
     "ename": "KeyError",
     "evalue": "'prices'",
     "output_type": "error",
     "traceback": [
      "\u001b[0;31m---------------------------------------------------------------------------\u001b[0m",
      "\u001b[0;31mKeyError\u001b[0m                                  Traceback (most recent call last)",
      "\u001b[1;32m/home/philipp/Programms/repos/work/collateralization-analysis/btc_lksm_analysis.ipynb Cell 1\u001b[0m in \u001b[0;36m<cell line: 16>\u001b[0;34m()\u001b[0m\n\u001b[1;32m     <a href='vscode-notebook-cell:/home/philipp/Programms/repos/work/collateralization-analysis/btc_lksm_analysis.ipynb#ch0000000?line=12'>13</a>\u001b[0m base_currency \u001b[39m=\u001b[39m Token(\u001b[39m\"\u001b[39m\u001b[39mbitcoin\u001b[39m\u001b[39m\"\u001b[39m, \u001b[39m\"\u001b[39m\u001b[39mBTC\u001b[39m\u001b[39m\"\u001b[39m)\n\u001b[1;32m     <a href='vscode-notebook-cell:/home/philipp/Programms/repos/work/collateralization-analysis/btc_lksm_analysis.ipynb#ch0000000?line=14'>15</a>\u001b[0m pair \u001b[39m=\u001b[39m Token_Pair(base_currency, quote_currency)\n\u001b[0;32m---> <a href='vscode-notebook-cell:/home/philipp/Programms/repos/work/collateralization-analysis/btc_lksm_analysis.ipynb#ch0000000?line=15'>16</a>\u001b[0m pair\u001b[39m.\u001b[39;49mget_prices(start_date\u001b[39m=\u001b[39;49m\u001b[39m\"\u001b[39;49m\u001b[39m2017-07-01\u001b[39;49m\u001b[39m\"\u001b[39;49m)\n\u001b[1;32m     <a href='vscode-notebook-cell:/home/philipp/Programms/repos/work/collateralization-analysis/btc_lksm_analysis.ipynb#ch0000000?line=16'>17</a>\u001b[0m pair\u001b[39m.\u001b[39mcalculate_returns()\n\u001b[1;32m     <a href='vscode-notebook-cell:/home/philipp/Programms/repos/work/collateralization-analysis/btc_lksm_analysis.ipynb#ch0000000?line=18'>19</a>\u001b[0m \u001b[39mprint\u001b[39m(\u001b[39mf\u001b[39m\u001b[39m\"\u001b[39m\u001b[39mUSD/BTC had an annualized std of \u001b[39m\u001b[39m{\u001b[39;00mpair\u001b[39m.\u001b[39mreturns\u001b[39m.\u001b[39mstd()[\u001b[39m0\u001b[39m] \u001b[39m*\u001b[39m\u001b[39m365\u001b[39m\u001b[39m*\u001b[39m\u001b[39m*\u001b[39m\u001b[39m0.5\u001b[39m\u001b[39m}\u001b[39;00m\u001b[39m\"\u001b[39m) \u001b[39m# the std scaled by the square-root of time, 365 days to annulize it, **0.5 to square it\u001b[39;00m\n",
      "File \u001b[0;32m~/Programms/repos/work/collateralization-analysis/data/data_request.py:88\u001b[0m, in \u001b[0;36mToken_Pair.get_prices\u001b[0;34m(self, data_source, start_date, end_date, inverse)\u001b[0m\n\u001b[1;32m     78\u001b[0m \u001b[39m\"\"\"Requests the prices from 'source' \u001b[39;00m\n\u001b[1;32m     79\u001b[0m \n\u001b[1;32m     80\u001b[0m \u001b[39mArgs:\u001b[39;00m\n\u001b[0;32m   (...)\u001b[0m\n\u001b[1;32m     84\u001b[0m \u001b[39m    inverse (bool, optional): Coingecko does not support every token as quote currency. For exotic tokens as quote currency, this must be set to true so that the prices will be inverted. Defaults to False.\u001b[39;00m\n\u001b[1;32m     85\u001b[0m \u001b[39m\"\"\"\u001b[39;00m\n\u001b[1;32m     87\u001b[0m request \u001b[39m=\u001b[39m Data_Request(\u001b[39mself\u001b[39m, data_source, start_date, end_date)\n\u001b[0;32m---> 88\u001b[0m prices \u001b[39m=\u001b[39m request\u001b[39m.\u001b[39;49mrequest_historic_prices()\n\u001b[1;32m     89\u001b[0m \u001b[39mif\u001b[39;00m \u001b[39mnot\u001b[39;00m inverse:\n\u001b[1;32m     90\u001b[0m     \u001b[39mself\u001b[39m\u001b[39m.\u001b[39mprices \u001b[39m=\u001b[39m prices\n",
      "File \u001b[0;32m~/Programms/repos/work/collateralization-analysis/data/data_request.py:159\u001b[0m, in \u001b[0;36mData_Request.request_historic_prices\u001b[0;34m(self)\u001b[0m\n\u001b[1;32m    157\u001b[0m \u001b[39mdef\u001b[39;00m \u001b[39mrequest_historic_prices\u001b[39m(\u001b[39mself\u001b[39m):\n\u001b[1;32m    158\u001b[0m     \u001b[39mself\u001b[39m\u001b[39m.\u001b[39mparse_url()\n\u001b[0;32m--> 159\u001b[0m     price_data \u001b[39m=\u001b[39m requests\u001b[39m.\u001b[39;49mget(\u001b[39mself\u001b[39;49m\u001b[39m.\u001b[39;49m_url_endpoint)\u001b[39m.\u001b[39;49mjson()[\u001b[39m\"\u001b[39;49m\u001b[39mprices\u001b[39;49m\u001b[39m\"\u001b[39;49m]\n\u001b[1;32m    160\u001b[0m     price_data \u001b[39m=\u001b[39m pd\u001b[39m.\u001b[39mDataFrame(price_data, columns\u001b[39m=\u001b[39m[\u001b[39m\"\u001b[39m\u001b[39mDate\u001b[39m\u001b[39m\"\u001b[39m, \u001b[39m\"\u001b[39m\u001b[39mPrice\u001b[39m\u001b[39m\"\u001b[39m])\n\u001b[1;32m    161\u001b[0m     price_data\u001b[39m.\u001b[39mset_index(\u001b[39m\"\u001b[39m\u001b[39mDate\u001b[39m\u001b[39m\"\u001b[39m, inplace\u001b[39m=\u001b[39m\u001b[39mTrue\u001b[39;00m)\n",
      "\u001b[0;31mKeyError\u001b[0m: 'prices'"
     ]
    }
   ],
   "source": [
    "# %%\n",
    "from data.data_request import Token, Token_Pair\n",
    "from analysis.analysis import Analysis\n",
    "from simulation.simulation import Simulation\n",
    "\n",
    "\n",
    "# BTC is the debt in the system and if BTC increases in price, the over-collateralization ratio drops\n",
    "# To model this, we get the inverse price to have BTC as quote currency\n",
    "# If we select the n-th worst trajectories of the inverse price,\n",
    "# it's equivalent to the n-th best price appreciation.\n",
    "# We choose a 5 year period to get a decent sample period with 3 bull runs & crashes\n",
    "quote_currency = Token(\"kusama\", \"KSM\")\n",
    "base_currency = Token(\"bitcoin\", \"BTC\")\n",
    "\n",
    "pair = Token_Pair(base_currency, quote_currency)\n",
    "pair.get_prices(start_date=\"2017-07-01\")\n",
    "pair.calculate_returns()\n",
    "\n",
    "print(f\"USD/BTC had an annualized std of {pair.returns.std()[0] *365**0.5}\") # the std scaled by the square-root of time, 365 days to annulize it, **0.5 to square it\n",
    "print(f\"USD/BTC had an annualized mean return of {pair.calculate_mean_return()}\")"
   ]
  },
  {
   "cell_type": "code",
   "execution_count": 6,
   "metadata": {},
   "outputs": [
    {
     "name": "stdout",
     "output_type": "stream",
     "text": [
      "The estimated liquidation threshold is ~158% of the debt value\n",
      "The estimated premium redeem threshold is ~190% of the debt value\n"
     ]
    }
   ],
   "source": [
    "\n",
    "\n",
    "# Initialize and run the simulation: Each path represents the price change of the collateral/debt\n",
    "# We simulate 10,000 trajectories with a duration of 10 days and 24 hours each\n",
    "# and assume a normal distribution (GBM) with the mean and std of bitcoin over the past 5 years\n",
    "sim = Simulation(pair, strategy=\"GBM\")\n",
    "sim.simulate(steps=24,\n",
    "             maturity=7,\n",
    "             n_simulations=10_000,\n",
    "             initial_value=1,\n",
    "             sigma=adj_btc_std[0],\n",
    "             mu=pair.calculate_mean_return(type=\"arithmetic\", standardization_period=\"daily\"))\n",
    "\n",
    "\n",
    "# Analize the results\n",
    "# Initialize the analysis\n",
    "simple_analysis = Analysis(sim)\n",
    "\n",
    "# This gives us the secure threshold multiplier, stating that:\n",
    "# The collateral/debt ratio will fall below 1 only with a 0.1% chance in 10 days or...\n",
    "# This assumes no premium redeem, additional collateralization or liquidation.\n",
    "liquidation_threshold_margin = simple_analysis.get_threshold_multiplier(alpha=0.999) # <- this can be changed ofc \n",
    "premium_redeem_threshold_margin = simple_analysis.get_threshold_multiplier(alpha=0.90) # <- this can be changed ofc \n",
    "\n",
    "print(f\"The estimated liquidation threshold is ~{int(liquidation_threshold_margin * 100)}% of the debt value\")\n",
    "print(f\"The estimated premium redeem threshold is ~{int(liquidation_threshold_margin * premium_redeem_threshold_margin * 100)}% of the debt value\")"
   ]
  },
  {
   "cell_type": "code",
   "execution_count": 7,
   "metadata": {},
   "outputs": [],
   "source": [
    "\n",
    "# We adjust the variance by adding the covariance of the aUSD/USD pair.\n",
    "corr = ausd_pair.returns.corrwith(pair.returns)\n",
    "cov = corr * pair.returns.std()[0] * ausd_pair.returns.std()[0]\n",
    "# daily var, add 2*covariance and take the square root to get the std\n",
    "adj_btc_std = (pair.returns.var()[0] + 2 * cov) ** 0.5\n",
    "\n",
    "# Initialize and run the simulation: Each path represents the price change of the collateral/debt\n",
    "# We simulate 10,000 trajectories with a duration of 10 days and 24 hours each\n",
    "# and assume a normal distribution (GBM) with the mean and std of bitcoin over the past 5 years\n",
    "sim = Simulation(pair, strategy=\"GBM\")\n",
    "sim.simulate(steps=24,\n",
    "             maturity=21,\n",
    "             n_simulations=10_000,\n",
    "             initial_value=1,\n",
    "             sigma=adj_btc_std[0],\n",
    "             mu=pair.calculate_mean_return(type=\"arithmetic\", standardization_period=\"daily\"))\n",
    "\n"
   ]
  },
  {
   "cell_type": "code",
   "execution_count": 8,
   "metadata": {},
   "outputs": [
    {
     "name": "stdout",
     "output_type": "stream",
     "text": [
      "The estimated secure threshold is ~222% of the debt value\n"
     ]
    }
   ],
   "source": [
    "\n",
    "# Analize the results\n",
    "# Initialize the analysis\n",
    "simple_analysis = Analysis(sim)\n",
    "\n",
    "# This gives us the secure threshold multiplier, stating that:\n",
    "# The collateral/debt ratio will fall below the liquidation_threshold_margin with a 10% chance in 21 days or...\n",
    "# This assumes no premium redeem, additional collateralization or liquidation.\n",
    "secure_threshold_margin = simple_analysis.get_threshold_multiplier(alpha=0.90) # <- this can be changed ofc \n",
    "\n",
    "print(f\"The estimated secure threshold is ~{int(liquidation_threshold_margin * secure_threshold_margin * 100)}% of the debt value\")"
   ]
  },
  {
   "cell_type": "code",
   "execution_count": null,
   "metadata": {},
   "outputs": [],
   "source": []
  }
 ],
 "metadata": {
  "kernelspec": {
   "display_name": "Python 3.10.4 ('venv': venv)",
   "language": "python",
   "name": "python3"
  },
  "language_info": {
   "codemirror_mode": {
    "name": "ipython",
    "version": 3
   },
   "file_extension": ".py",
   "mimetype": "text/x-python",
   "name": "python",
   "nbconvert_exporter": "python",
   "pygments_lexer": "ipython3",
   "version": "3.10.4"
  },
  "orig_nbformat": 4,
  "vscode": {
   "interpreter": {
    "hash": "688ea516a2884bf8ec37e1dc5de3842806dbed6b9c0df617e96ed5229a48f522"
   }
  }
 },
 "nbformat": 4,
 "nbformat_minor": 2
}
