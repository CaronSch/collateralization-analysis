{
 "cells": [
  {
   "cell_type": "code",
   "execution_count": 89,
   "id": "7728fa28",
   "metadata": {},
   "outputs": [],
   "source": [
    "# Kusama/USD daily (01/01/2021 - 09/09/2021): https://api.coingecko.com/api/v3/coins/kusama/market_chart/range?vs_currency=usd&from=1609459200&to=1631189591\n",
    "# Bitcoin/USD daily (01/01/2021 - 09/09/2021): https://api.coingecko.com/api/v3/coins/bitcoin/market_chart/range?vs_currency=usd&from=1609459200&to=1631189591\n",
    "\n",
    "# Kusama/USD hourly (26/03/2021 - 23/06/2021): https://api.coingecko.com/api/v3/coins/kusama/market_chart/range?vs_currency=usd&from=1616716800&to=1624406400\n",
    "# Bitcoin/USD daily (26/03/2021 - 23/06/2021): https://api.coingecko.com/api/v3/coins/bitcoin/market_chart/range?vs_currency=usd&from=1616716800&to=1624406400\n",
    "\n",
    "LIQUIDATION_THRESHOLD = 1.25\n",
    "\n",
    "import json\n",
    "\n",
    "def get_usd_timeseries(file):\n",
    "    f = open(file)\n",
    "    data = json.load(f)\n",
    "    f.close()\n",
    "    return [price for (timestamp, price) in data[\"prices\"]]\n",
    "\n",
    "def determine_price_between_assets(asset_1_prices, asset_2_prices):\n",
    "    return [asset_1_price / asset_2_price for (asset_1_price, asset_2_price) in zip(asset_1_prices, asset_2_prices)]\n",
    "\n",
    "def prices_to_returns(prices):\n",
    "    return [(prices[i]/prices[i - 1] - 1) for i in range(1, len(prices))]\n",
    "  \n",
    "kusama_to_usd_hourly = get_usd_timeseries(\"kusama_to_usd_hourly_Mar_Jun.json\")\n",
    "bitcoin_to_usd_hourly = get_usd_timeseries(\"bitcoin_to_usd_hourly_Mar_Jun.json\")\n",
    "ksm_to_btc_hourly = determine_price_between_assets(kusama_to_usd_hourly, bitcoin_to_usd_hourly)\n",
    "ksm_to_btc_returns_hourly = prices_to_returns(ksm_to_btc_hourly)\n",
    "\n",
    "kusama_to_usd_daily = get_usd_timeseries(\"kusama_to_usd_daily_2021.json\")\n",
    "bitcoin_to_usd_daily = get_usd_timeseries(\"bitcoin_to_usd_daily_2021.json\")\n",
    "ksm_to_btc_daily = determine_price_between_assets(kusama_to_usd_daily, bitcoin_to_usd_daily)\n",
    "ksm_to_btc_returns_daily = prices_to_returns(ksm_to_btc_daily)"
   ]
  },
  {
   "cell_type": "code",
   "execution_count": 90,
   "id": "5413215a",
   "metadata": {},
   "outputs": [
    {
     "data": {
      "image/png": "[encoded data removed]",
      "text/plain": [
       "<Figure size 432x288 with 1 Axes>"
      ]
     },
     "metadata": {
      "needs_background": "light"
     },
     "output_type": "display_data"
    }
   ],
   "source": [
    "import matplotlib.pyplot as plt\n",
    "import numpy as np\n",
    "\n",
    "def plot_returns(returns, data_label):\n",
    "    plt.hist(returns, density=True, bins=30, alpha=0.5, label=data_label)  # density=False would make counts\n",
    "    plt.ylabel('Occurences')\n",
    "    plt.xlabel('Percentage change')\n",
    "    plt.legend(loc='upper right')\n",
    "\n",
    "plot_returns(ksm_to_btc_returns_hourly, 'Hourly')\n",
    "plot_returns(ksm_to_btc_returns_daily, 'Daily')"
   ]
  },
  {
   "cell_type": "code",
   "execution_count": 91,
   "id": "62a48625",
   "metadata": {},
   "outputs": [
    {
     "name": "stdout",
     "output_type": "stream",
     "text": [
      "99% confidence interval max price drop (%): 17.024958983377694\n",
      "Liquidation threshold assumption: 1.25\n",
      "Required collateralization (99% confidence interval): 1.5064771100861387\n",
      "Required collateralization (95% confidence interval): 1.4201839509072898\n"
     ]
    }
   ],
   "source": [
    "import statistics\n",
    "confidence_99 = 2.33\n",
    "confidence_95 = 1.64\n",
    "# Compute stddev using the daily returns, as these have higher volatility\n",
    "# VaR occasionally underestimates the number of large market moves.\n",
    "# Could consider a higher confidence interval to be on the safe side\n",
    "std_dev = statistics.pstdev(ksm_to_btc_returns_daily)\n",
    "expected_loss_percentage_99 = confidence_99 * std_dev\n",
    "expected_loss_percentage_95 = confidence_95 * std_dev\n",
    "print(\"99% confidence interval max price drop (%): \" + str(expected_loss_percentage_99 * 100))\n",
    "required_collateralization_99 = LIQUIDATION_THRESHOLD / (1 - expected_loss_percentage_99)\n",
    "required_collateralization_95 = LIQUIDATION_THRESHOLD / (1 - expected_loss_percentage_95)\n",
    "print(\"Liquidation threshold assumption: \" + str(LIQUIDATION_THRESHOLD))\n",
    "print(\"Required collateralization (99% confidence interval): \" + str(required_collateralization_99))\n",
    "print(\"Required collateralization (95% confidence interval): \" + str(required_collateralization_95))\n"
   ]
  },
  {
   "cell_type": "code",
   "execution_count": null,
   "id": "653ca436",
   "metadata": {},
   "outputs": [],
   "source": []
  }
 ],
 "metadata": {
  "kernelspec": {
   "display_name": "Python 3 (ipykernel)",
   "language": "python",
   "name": "python3"
  },
  "language_info": {
   "codemirror_mode": {
    "name": "ipython",
    "version": 3
   },
   "file_extension": ".py",
   "mimetype": "text/x-python",
   "name": "python",
   "nbconvert_exporter": "python",
   "pygments_lexer": "ipython3",
   "version": "3.8.10"
  }
 },
 "nbformat": 4,
 "nbformat_minor": 5
}
