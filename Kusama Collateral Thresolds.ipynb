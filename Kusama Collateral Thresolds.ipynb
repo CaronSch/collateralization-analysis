{
 "cells": [
  {
   "cell_type": "markdown",
   "id": "5d08fe02",
   "metadata": {},
   "source": [
    "# Introduction\n"
   ]
  },
  {
   "cell_type": "markdown",
   "id": "f3458fd1",
   "metadata": {},
   "source": [
    "This work analyzes the historic data of KSM, DOT and BTC in order to decide on security parameters for the Kintsugi bridge. The code is general enough such that inspecting a new collateral asset can be done with minimal effort.\n",
    "\n",
    "Historic price data is gathered from Coingecko, while order book data is collected from the Binance API. Binance is preferred over the other centralized exchanges because it has by far the largest trading volume (https://coinmarketcap.com/rankings/exchanges/).\n",
    "\n",
    "There are two approaches that have been combined to arrive at a secure configuration, each applied conservatively. One applies and improves on the approach from the Gudgeon et al's DeFi Crisis paper (https://arxiv.org/pdf/2002.08099.pdf), which models price trajectories as stochastic processes. The other, Value at Risk (VaR), is a well-established method of quantifying financial losses. \n",
    "\n",
    "The parameters comprising the security configuration are: DEBT_CEILING_USD, LIQUIDATION_THRESHOLD, SECURE_THRESHOLD. The bridge also uses a PREMIUM_REDEEM_THRESHOLD to increase system security, but premium redeems are assumed not to occur in order to better capture tail risk. Of the three parameters, the first two are selected using the stochastic simulation while the last one is selected using VaR. Given the secure threshold has little bearing on the output of the simulation, its value is determined by VaR to have 99% confidence that a single-day devaluation of the collateral asset will not take vaults below the liquidation threshold.\n",
    "\n",
    "Vaults are modelled as a single entity that mints the maximum wrapped amount on the first simulated day, at the secure threshold. This is a pessimistic assumption aimed at fully stress-testing the system.\n",
    "\n",
    "One step of the simulation generates multiple price trajectories for both the collateral and the wrapped asset. Then, the worst trajectory of the collateral asset is picked. To match historic observation, a price trajectory for the wrapped asset is selected to produce a correlation as close to the real one as possible.\n",
    "\n",
    "If, on any day, vaults fall below the liquidation ratio, their entire collateral is seized by the liquidation vault, causing the 1:1 peg to be destabilised. This is because vaults no longer have something to lose when stealing the BTC in their wallet. At this point, the \"debt\" in the system can only be liquidated by arbitrageurs who burn wrapped tokens in exchange for collateral at a beneficial rate. How beneficial this rate is is initially decided by the liquidation threshold, but if the backing asset keeps decreasing in value arbitrage profits can reach zero. In the event that the liquidation vault becomes undercollateralized, the relative value of the wrapped tokens to BTC would be equal to the collateralization rate.\n",
    "\n",
    "Another conservative assumption is that liquidators mint their own wrapped tokens, thus requiring liquidity in both collateral and BTC. Although Gudgeon et al's paper assumes liquidity is equal to the daily traded volume, this works takes the more thorough approach of training a transaction cost (slippage) model. This is also in spite of simpler solutions being available, such as incorporating the bid-ask spread to obtain a liquidity-adjusted VaR. The larger the debt ceiling in the bridge, the more likely it is that liquidiators will move the market, and the liquidity-adjusted VaR would not have captured this insight. For invidividual KSM trades, which achieve small volumes compared to DOT, there is close to zero correlation between buy order amount (buyer-is-taker) and price movement. However, correlation appears when consecutive buy order are considered (with no sells in-between). After some manual filtering, the slippage model is trained on the most extreme of these data points.\n",
    "\n",
    "In a similar work, Gauntlet (https://medium.com/gauntlet-networks/karura-parameter-recommendation-methodology-6ce7fe06cb77) also train a price impact model to measure how quickly the market recovers after large trades. The many pessimistic assumptions made in this analysis are considered to suffice and price is considered to stabilise by the next day, following the aforementioned trajectory. \n",
    "\n",
    "Among the improvements to be made in the future are the training of a price impact model and the aggregation of order book data from multiple exchanges. Moreover, the impact of buying wrapped tokens with collateral tokens on decentralized exchanges can also be modelled, and a custom loss function should be implemented for sci-kit learn, that prioritises exreme data points.\n",
    "\n",
    "Finally, the selected security configuration for Kintsugi is:\n",
    "```\n",
    "DEBT_CEILING_USD = 20_000_000\n",
    "LIQUIDATION_THRESHOLD = 2.0\n",
    "SECURE_THRESHOLD = 2.5\n",
    "```\n",
    "\n",
    "TODO:\n",
    "- model intraday collateral price plummeting vs slippage from liquidators"
   ]
  },
  {
   "cell_type": "markdown",
   "id": "bb6d3210",
   "metadata": {},
   "source": [
    "# Data reading and processing"
   ]
  },
  {
   "cell_type": "code",
   "execution_count": 1,
   "id": "0938fe31",
   "metadata": {},
   "outputs": [],
   "source": [
    "# KSM/USD daily (queried 25 April 2022): https://api.coingecko.com/api/v3/coins/kusama/market_chart?vs_currency=usd&days=114\n",
    "# KINT/USD daily (queried 25 April 2022): https://api.coingecko.com/api/v3/coins/kintsugi/market_chart?vs_currency=usd&days=114\n",
    "# DOT/USD daily (queried 25 April 2022): https://api.coingecko.com/api/v3/coins/polkadot/market_chart?vs_currency=usd&days=114\n",
    "# BTC/USD daily (queried 25 April 2022): https://api.coingecko.com/api/v3/coins/bitcoin/market_chart?vs_currency=usd&days=114\n",
    "# `./download_trades` script made to download Binance data"
   ]
  },
  {
   "cell_type": "code",
   "execution_count": 2,
   "id": "fbc616ca",
   "metadata": {},
   "outputs": [
    {
     "name": "stdout",
     "output_type": "stream",
     "text": [
      "The nb_black extension is already loaded. To reload it, use:\n",
      "  %reload_ext nb_black\n"
     ]
    },
    {
     "data": {
      "application/javascript": [
       "\n",
       "            setTimeout(function() {\n",
       "                var nbb_cell_id = 2;\n",
       "                var nbb_unformatted_code = \"%load_ext nb_black\\n\\nimport json\\nfrom scipy.stats import pearsonr\\nimport math\\nimport datetime\\n\\nfrom sklearn import linear_model\\nfrom sklearn.preprocessing import FunctionTransformer\\nimport matplotlib.pyplot as plt\\nimport numpy as np\\nimport statistics\\nimport pandas as pd\\n\\n\\ndef get_usd_timeseries(file):\\n    f = open(file)\\n    data = json.load(f)\\n    f.close()\\n    return [price for (timestamp, price) in data[\\\"prices\\\"]]\\n\\n\\ndef get_volume_timeseries(file):\\n    f = open(file)\\n    data = json.load(f)\\n    f.close()\\n    prices = get_usd_timeseries(file)\\n    volumes = []\\n    for i in range(len(data[\\\"total_volumes\\\"])):\\n        (timestamp, usd_volume) = data[\\\"total_volumes\\\"][i]\\n        volumes.append(usd_volume / prices[i])\\n    return volumes\\n\\n\\ndef get_daily_volumes_dict(file):\\n    f = open(file)\\n    data = json.load(f)\\n    f.close()\\n    prices = get_usd_timeseries(file)\\n    volumes = dict()\\n    for i in range(len(data[\\\"total_volumes\\\"])):\\n        (timestamp, usd_volume) = data[\\\"total_volumes\\\"][i]\\n        volumes[timestamp] = usd_volume\\n    return volumes\\n\\n\\ndef determine_price_between_assets(asset_1_prices, asset_2_prices):\\n    return [\\n        asset_1_price / asset_2_price\\n        for (asset_1_price, asset_2_price) in zip(asset_1_prices, asset_2_prices)\\n    ]\\n\\n\\ndef prices_to_returns(prices):\\n    return [(prices[i] / prices[i - 1] - 1) for i in range(1, len(prices))]\\n\\n\\ndef round_timestamp_to_nearest_gmt_date(unix_timestamp):\\n    import os\\n\\n    date_format = \\\"%d/%m/%Y\\\"\\n    os.environ[\\\"TZ\\\"] = \\\"GMT\\\"\\n    parsed_date = datetime.datetime.fromtimestamp(\\n        int(unix_timestamp) / 1000.0\\n    ).strftime(date_format)\\n    return (\\n        int(datetime.datetime.strptime(parsed_date, date_format).timestamp() + 3600)\\n        * 1000\\n    )\\n\\n\\ndef read_trading_data(file):\\n    # Assumes Binance format\\n    # https://github.com/binance/binance-public-data/#trades\\n    names = [\\n        \\\"trade_id\\\",\\n        \\\"price\\\",\\n        \\\"qty\\\",\\n        \\\"quote_qty\\\",\\n        \\\"time\\\",\\n        \\\"is_buyer_maker\\\",\\n        \\\"is_best_match\\\",\\n    ]\\n    df = pd.read_csv(file, names=names)\\n    return df.drop(columns=[\\\"trade_id\\\", \\\"quote_qty\\\", \\\"is_best_match\\\"])\\n\\n\\ndef clean_trading_data_consecutively(\\n    trading_data, daily_volumes_dict, max_item_count, min_total_qty, min_price_change\\n):\\n    # simplify df to be ready for regression\\n    cleaned_df = pd.DataFrame(columns=[\\\"qty\\\", \\\"caused_price_change\\\"])\\n    cleaned_df_index = 0\\n    prev_price = 1\\n    prev_qty = 0\\n    prev_nearest_date = 0\\n    prev_qty_to_volume_ratio = 0\\n    prev_is_buyer_maker = False\\n    i = -1\\n    while i < len(trading_data.index):\\n        i += 1\\n        row = trading_data.iloc[i]\\n        if row[\\\"is_buyer_maker\\\"] == True:\\n            continue\\n        initial_price = row[\\\"price\\\"]\\n        j = i\\n        total_qty = 0\\n        while row[\\\"is_buyer_maker\\\"] == False and j < len(trading_data.index):\\n            row = trading_data.iloc[j]\\n            total_qty += row[\\\"qty\\\"]\\n            j += 1\\n        price_change = (row[\\\"price\\\"] / initial_price) - 1\\n        if i == j or total_qty < min_total_qty or price_change < min_price_change:\\n            continue\\n        cleaned_df.loc[cleaned_df_index] = [\\n            total_qty,\\n            price_change,\\n        ]\\n        cleaned_df_index += 1\\n        print(\\\"Added elements: \\\" + str(cleaned_df_index))\\n        i = j\\n        if cleaned_df_index > max_item_count:\\n            break\\n    return cleaned_df\";\n",
       "                var nbb_formatted_code = \"%load_ext nb_black\\n\\nimport json\\nfrom scipy.stats import pearsonr\\nimport math\\nimport datetime\\n\\nfrom sklearn import linear_model\\nfrom sklearn.preprocessing import FunctionTransformer\\nimport matplotlib.pyplot as plt\\nimport numpy as np\\nimport statistics\\nimport pandas as pd\\n\\n\\ndef get_usd_timeseries(file):\\n    f = open(file)\\n    data = json.load(f)\\n    f.close()\\n    return [price for (timestamp, price) in data[\\\"prices\\\"]]\\n\\n\\ndef get_volume_timeseries(file):\\n    f = open(file)\\n    data = json.load(f)\\n    f.close()\\n    prices = get_usd_timeseries(file)\\n    volumes = []\\n    for i in range(len(data[\\\"total_volumes\\\"])):\\n        (timestamp, usd_volume) = data[\\\"total_volumes\\\"][i]\\n        volumes.append(usd_volume / prices[i])\\n    return volumes\\n\\n\\ndef get_daily_volumes_dict(file):\\n    f = open(file)\\n    data = json.load(f)\\n    f.close()\\n    prices = get_usd_timeseries(file)\\n    volumes = dict()\\n    for i in range(len(data[\\\"total_volumes\\\"])):\\n        (timestamp, usd_volume) = data[\\\"total_volumes\\\"][i]\\n        volumes[timestamp] = usd_volume\\n    return volumes\\n\\n\\ndef determine_price_between_assets(asset_1_prices, asset_2_prices):\\n    return [\\n        asset_1_price / asset_2_price\\n        for (asset_1_price, asset_2_price) in zip(asset_1_prices, asset_2_prices)\\n    ]\\n\\n\\ndef prices_to_returns(prices):\\n    return [(prices[i] / prices[i - 1] - 1) for i in range(1, len(prices))]\\n\\n\\ndef round_timestamp_to_nearest_gmt_date(unix_timestamp):\\n    import os\\n\\n    date_format = \\\"%d/%m/%Y\\\"\\n    os.environ[\\\"TZ\\\"] = \\\"GMT\\\"\\n    parsed_date = datetime.datetime.fromtimestamp(\\n        int(unix_timestamp) / 1000.0\\n    ).strftime(date_format)\\n    return (\\n        int(datetime.datetime.strptime(parsed_date, date_format).timestamp() + 3600)\\n        * 1000\\n    )\\n\\n\\ndef read_trading_data(file):\\n    # Assumes Binance format\\n    # https://github.com/binance/binance-public-data/#trades\\n    names = [\\n        \\\"trade_id\\\",\\n        \\\"price\\\",\\n        \\\"qty\\\",\\n        \\\"quote_qty\\\",\\n        \\\"time\\\",\\n        \\\"is_buyer_maker\\\",\\n        \\\"is_best_match\\\",\\n    ]\\n    df = pd.read_csv(file, names=names)\\n    return df.drop(columns=[\\\"trade_id\\\", \\\"quote_qty\\\", \\\"is_best_match\\\"])\\n\\n\\ndef clean_trading_data_consecutively(\\n    trading_data, daily_volumes_dict, max_item_count, min_total_qty, min_price_change\\n):\\n    # simplify df to be ready for regression\\n    cleaned_df = pd.DataFrame(columns=[\\\"qty\\\", \\\"caused_price_change\\\"])\\n    cleaned_df_index = 0\\n    prev_price = 1\\n    prev_qty = 0\\n    prev_nearest_date = 0\\n    prev_qty_to_volume_ratio = 0\\n    prev_is_buyer_maker = False\\n    i = -1\\n    while i < len(trading_data.index):\\n        i += 1\\n        row = trading_data.iloc[i]\\n        if row[\\\"is_buyer_maker\\\"] == True:\\n            continue\\n        initial_price = row[\\\"price\\\"]\\n        j = i\\n        total_qty = 0\\n        while row[\\\"is_buyer_maker\\\"] == False and j < len(trading_data.index):\\n            row = trading_data.iloc[j]\\n            total_qty += row[\\\"qty\\\"]\\n            j += 1\\n        price_change = (row[\\\"price\\\"] / initial_price) - 1\\n        if i == j or total_qty < min_total_qty or price_change < min_price_change:\\n            continue\\n        cleaned_df.loc[cleaned_df_index] = [\\n            total_qty,\\n            price_change,\\n        ]\\n        cleaned_df_index += 1\\n        print(\\\"Added elements: \\\" + str(cleaned_df_index))\\n        i = j\\n        if cleaned_df_index > max_item_count:\\n            break\\n    return cleaned_df\";\n",
       "                var nbb_cells = Jupyter.notebook.get_cells();\n",
       "                for (var i = 0; i < nbb_cells.length; ++i) {\n",
       "                    if (nbb_cells[i].input_prompt_number == nbb_cell_id) {\n",
       "                        if (nbb_cells[i].get_text() == nbb_unformatted_code) {\n",
       "                             nbb_cells[i].set_text(nbb_formatted_code);\n",
       "                        }\n",
       "                        break;\n",
       "                    }\n",
       "                }\n",
       "            }, 500);\n",
       "            "
      ],
      "text/plain": [
       "<IPython.core.display.Javascript object>"
      ]
     },
     "metadata": {},
     "output_type": "display_data"
    }
   ],
   "source": [
    "%load_ext nb_black\n",
    "\n",
    "import json\n",
    "from scipy.stats import pearsonr\n",
    "import math\n",
    "import datetime\n",
    "\n",
    "from sklearn import linear_model\n",
    "from sklearn.preprocessing import FunctionTransformer\n",
    "import matplotlib.pyplot as plt\n",
    "import numpy as np\n",
    "import statistics\n",
    "import pandas as pd\n",
    "\n",
    "\n",
    "def get_usd_timeseries(file):\n",
    "    f = open(file)\n",
    "    data = json.load(f)\n",
    "    f.close()\n",
    "    return [price for (timestamp, price) in data[\"prices\"]]\n",
    "\n",
    "\n",
    "def get_volume_timeseries(file):\n",
    "    f = open(file)\n",
    "    data = json.load(f)\n",
    "    f.close()\n",
    "    prices = get_usd_timeseries(file)\n",
    "    volumes = []\n",
    "    for i in range(len(data[\"total_volumes\"])):\n",
    "        (timestamp, usd_volume) = data[\"total_volumes\"][i]\n",
    "        volumes.append(usd_volume / prices[i])\n",
    "    return volumes\n",
    "\n",
    "\n",
    "def get_daily_volumes_dict(file):\n",
    "    f = open(file)\n",
    "    data = json.load(f)\n",
    "    f.close()\n",
    "    prices = get_usd_timeseries(file)\n",
    "    volumes = dict()\n",
    "    for i in range(len(data[\"total_volumes\"])):\n",
    "        (timestamp, usd_volume) = data[\"total_volumes\"][i]\n",
    "        volumes[timestamp] = usd_volume\n",
    "    return volumes\n",
    "\n",
    "\n",
    "def determine_price_between_assets(asset_1_prices, asset_2_prices):\n",
    "    return [\n",
    "        asset_1_price / asset_2_price\n",
    "        for (asset_1_price, asset_2_price) in zip(asset_1_prices, asset_2_prices)\n",
    "    ]\n",
    "\n",
    "\n",
    "def prices_to_returns(prices):\n",
    "    return [(prices[i] / prices[i - 1] - 1) for i in range(1, len(prices))]\n",
    "\n",
    "\n",
    "def round_timestamp_to_nearest_gmt_date(unix_timestamp):\n",
    "    import os\n",
    "\n",
    "    date_format = \"%d/%m/%Y\"\n",
    "    os.environ[\"TZ\"] = \"GMT\"\n",
    "    parsed_date = datetime.datetime.fromtimestamp(\n",
    "        int(unix_timestamp) / 1000.0\n",
    "    ).strftime(date_format)\n",
    "    return (\n",
    "        int(datetime.datetime.strptime(parsed_date, date_format).timestamp() + 3600)\n",
    "        * 1000\n",
    "    )\n",
    "\n",
    "\n",
    "def read_trading_data(file):\n",
    "    # Assumes Binance format\n",
    "    # https://github.com/binance/binance-public-data/#trades\n",
    "    names = [\n",
    "        \"trade_id\",\n",
    "        \"price\",\n",
    "        \"qty\",\n",
    "        \"quote_qty\",\n",
    "        \"time\",\n",
    "        \"is_buyer_maker\",\n",
    "        \"is_best_match\",\n",
    "    ]\n",
    "    df = pd.read_csv(file, names=names)\n",
    "    return df.drop(columns=[\"trade_id\", \"quote_qty\", \"is_best_match\"])\n",
    "\n",
    "\n",
    "def clean_trading_data_consecutively(\n",
    "    trading_data, daily_volumes_dict, max_item_count, min_total_qty, min_price_change\n",
    "):\n",
    "    # simplify df to be ready for regression\n",
    "    cleaned_df = pd.DataFrame(columns=[\"qty\", \"caused_price_change\"])\n",
    "    cleaned_df_index = 0\n",
    "    prev_price = 1\n",
    "    prev_qty = 0\n",
    "    prev_nearest_date = 0\n",
    "    prev_qty_to_volume_ratio = 0\n",
    "    prev_is_buyer_maker = False\n",
    "    i = -1\n",
    "    while i < len(trading_data.index):\n",
    "        i += 1\n",
    "        row = trading_data.iloc[i]\n",
    "        if row[\"is_buyer_maker\"] == True:\n",
    "            continue\n",
    "        initial_price = row[\"price\"]\n",
    "        j = i\n",
    "        total_qty = 0\n",
    "        while row[\"is_buyer_maker\"] == False and j < len(trading_data.index):\n",
    "            row = trading_data.iloc[j]\n",
    "            total_qty += row[\"qty\"]\n",
    "            j += 1\n",
    "        price_change = (row[\"price\"] / initial_price) - 1\n",
    "        if i == j or total_qty < min_total_qty or price_change < min_price_change:\n",
    "            continue\n",
    "        cleaned_df.loc[cleaned_df_index] = [\n",
    "            total_qty,\n",
    "            price_change,\n",
    "        ]\n",
    "        cleaned_df_index += 1\n",
    "        print(\"Added elements: \" + str(cleaned_df_index))\n",
    "        i = j\n",
    "        if cleaned_df_index > max_item_count:\n",
    "            break\n",
    "    return cleaned_df"
   ]
  },
  {
   "cell_type": "code",
   "execution_count": 1,
   "id": "9a400af0",
   "metadata": {},
   "outputs": [
    {
     "ename": "FileNotFoundError",
     "evalue": "[Errno 2] No such file or directory: 'kusama_to_usd_daily_2021.json'",
     "output_type": "error",
     "traceback": [
      "\u001b[0;31m---------------------------------------------------------------------------\u001b[0m",
      "\u001b[0;31mFileNotFoundError\u001b[0m                         Traceback (most recent call last)",
      "\u001b[0;32m/tmp/ipykernel_394358/1986937127.py\u001b[0m in \u001b[0;36m<module>\u001b[0;34m\u001b[0m\n\u001b[1;32m    125\u001b[0m \u001b[0;34m\u001b[0m\u001b[0m\n\u001b[1;32m    126\u001b[0m \u001b[0;34m\u001b[0m\u001b[0m\n\u001b[0;32m--> 127\u001b[0;31m \u001b[0mksm_to_usd_daily\u001b[0m \u001b[0;34m=\u001b[0m \u001b[0mget_usd_timeseries\u001b[0m\u001b[0;34m(\u001b[0m\u001b[0;34m\"kusama_to_usd_daily_2021.json\"\u001b[0m\u001b[0;34m)\u001b[0m\u001b[0;34m\u001b[0m\u001b[0;34m\u001b[0m\u001b[0m\n\u001b[0m\u001b[1;32m    128\u001b[0m \u001b[0mksm_usd_returns_daily\u001b[0m \u001b[0;34m=\u001b[0m \u001b[0mprices_to_returns\u001b[0m\u001b[0;34m(\u001b[0m\u001b[0mksm_to_usd_daily\u001b[0m\u001b[0;34m)\u001b[0m\u001b[0;34m\u001b[0m\u001b[0;34m\u001b[0m\u001b[0m\n\u001b[1;32m    129\u001b[0m \u001b[0;34m\u001b[0m\u001b[0m\n",
      "\u001b[0;32m/tmp/ipykernel_394358/1986937127.py\u001b[0m in \u001b[0;36mget_usd_timeseries\u001b[0;34m(file)\u001b[0m\n\u001b[1;32m     15\u001b[0m \u001b[0;34m\u001b[0m\u001b[0m\n\u001b[1;32m     16\u001b[0m \u001b[0;32mdef\u001b[0m \u001b[0mget_usd_timeseries\u001b[0m\u001b[0;34m(\u001b[0m\u001b[0mfile\u001b[0m\u001b[0;34m)\u001b[0m\u001b[0;34m:\u001b[0m\u001b[0;34m\u001b[0m\u001b[0;34m\u001b[0m\u001b[0m\n\u001b[0;32m---> 17\u001b[0;31m     \u001b[0mf\u001b[0m \u001b[0;34m=\u001b[0m \u001b[0mopen\u001b[0m\u001b[0;34m(\u001b[0m\u001b[0mfile\u001b[0m\u001b[0;34m)\u001b[0m\u001b[0;34m\u001b[0m\u001b[0;34m\u001b[0m\u001b[0m\n\u001b[0m\u001b[1;32m     18\u001b[0m     \u001b[0mdata\u001b[0m \u001b[0;34m=\u001b[0m \u001b[0mjson\u001b[0m\u001b[0;34m.\u001b[0m\u001b[0mload\u001b[0m\u001b[0;34m(\u001b[0m\u001b[0mf\u001b[0m\u001b[0;34m)\u001b[0m\u001b[0;34m\u001b[0m\u001b[0;34m\u001b[0m\u001b[0m\n\u001b[1;32m     19\u001b[0m     \u001b[0mf\u001b[0m\u001b[0;34m.\u001b[0m\u001b[0mclose\u001b[0m\u001b[0;34m(\u001b[0m\u001b[0;34m)\u001b[0m\u001b[0;34m\u001b[0m\u001b[0;34m\u001b[0m\u001b[0m\n",
      "\u001b[0;31mFileNotFoundError\u001b[0m: [Errno 2] No such file or directory: 'kusama_to_usd_daily_2021.json'"
     ]
    },
    {
     "data": {
      "application/javascript": [
       "\n",
       "            setTimeout(function() {\n",
       "                var nbb_cell_id = 1;\n",
       "                var nbb_unformatted_code = \"%load_ext nb_black\\n\\nimport json\\nfrom scipy.stats import pearsonr\\nimport math\\nimport datetime\\n\\nfrom sklearn import linear_model\\nfrom sklearn.preprocessing import FunctionTransformer\\nimport matplotlib.pyplot as plt\\nimport numpy as np\\nimport statistics\\nimport pandas as pd\\n\\n\\ndef get_usd_timeseries(file):\\n    f = open(file)\\n    data = json.load(f)\\n    f.close()\\n    return [price for (timestamp, price) in data[\\\"prices\\\"]]\\n\\n\\ndef get_volume_timeseries(file):\\n    f = open(file)\\n    data = json.load(f)\\n    f.close()\\n    prices = get_usd_timeseries(file)\\n    volumes = []\\n    for i in range(len(data[\\\"total_volumes\\\"])):\\n        (timestamp, usd_volume) = data[\\\"total_volumes\\\"][i]\\n        volumes.append(usd_volume / prices[i])\\n    return volumes\\n\\n\\ndef get_daily_volumes_dict(file):\\n    f = open(file)\\n    data = json.load(f)\\n    f.close()\\n    prices = get_usd_timeseries(file)\\n    volumes = dict()\\n    for i in range(len(data[\\\"total_volumes\\\"])):\\n        (timestamp, usd_volume) = data[\\\"total_volumes\\\"][i]\\n        volumes[timestamp] = usd_volume\\n    return volumes\\n\\n\\ndef determine_price_between_assets(asset_1_prices, asset_2_prices):\\n    return [\\n        asset_1_price / asset_2_price\\n        for (asset_1_price, asset_2_price) in zip(asset_1_prices, asset_2_prices)\\n    ]\\n\\n\\ndef prices_to_returns(prices):\\n    return [(prices[i] / prices[i - 1] - 1) for i in range(1, len(prices))]\\n\\n\\ndef round_timestamp_to_nearest_gmt_date(unix_timestamp):\\n    import os\\n\\n    date_format = \\\"%d/%m/%Y\\\"\\n    os.environ[\\\"TZ\\\"] = \\\"GMT\\\"\\n    parsed_date = datetime.datetime.fromtimestamp(\\n        int(unix_timestamp) / 1000.0\\n    ).strftime(date_format)\\n    return (\\n        int(datetime.datetime.strptime(parsed_date, date_format).timestamp() + 3600)\\n        * 1000\\n    )\\n\\n\\ndef read_trading_data(file):\\n    # Assumes Binance format\\n    # https://github.com/binance/binance-public-data/#trades\\n    names = [\\n        \\\"trade_id\\\",\\n        \\\"price\\\",\\n        \\\"qty\\\",\\n        \\\"quote_qty\\\",\\n        \\\"time\\\",\\n        \\\"is_buyer_maker\\\",\\n        \\\"is_best_match\\\",\\n    ]\\n    df = pd.read_csv(file, names=names)\\n    return df.drop(columns=[\\\"trade_id\\\", \\\"quote_qty\\\", \\\"is_best_match\\\"])\\n\\n\\ndef clean_trading_data_consecutively(\\n    trading_data, daily_volumes_dict, max_item_count, min_total_qty, min_price_change\\n):\\n    # simplify df to be ready for regression\\n    cleaned_df = pd.DataFrame(columns=[\\\"qty\\\", \\\"caused_price_change\\\"])\\n    cleaned_df_index = 0\\n    prev_price = 1\\n    prev_qty = 0\\n    prev_nearest_date = 0\\n    prev_qty_to_volume_ratio = 0\\n    prev_is_buyer_maker = False\\n    i = -1\\n    while i < len(trading_data.index):\\n        i += 1\\n        row = trading_data.iloc[i]\\n        if row[\\\"is_buyer_maker\\\"] == True:\\n            continue\\n        initial_price = row[\\\"price\\\"]\\n        j = i\\n        total_qty = 0\\n        while row[\\\"is_buyer_maker\\\"] == False and j < len(trading_data.index):\\n            row = trading_data.iloc[j]\\n            total_qty += row[\\\"qty\\\"]\\n            j += 1\\n        price_change = (row[\\\"price\\\"] / initial_price) - 1\\n        if i == j or total_qty < min_total_qty or price_change < min_price_change:\\n            continue\\n        cleaned_df.loc[cleaned_df_index] = [\\n            total_qty,\\n            price_change,\\n        ]\\n        cleaned_df_index += 1\\n        print(\\\"Added elements: \\\" + str(cleaned_df_index))\\n        i = j\\n        if cleaned_df_index > max_item_count:\\n            break\\n    return cleaned_df\\n\\n\\nksm_to_usd_daily = get_usd_timeseries(\\\"kusama_to_usd_daily_2021.json\\\")\\nksm_usd_returns_daily = prices_to_returns(ksm_to_usd_daily)\\n\\ndot_to_usd_daily = get_usd_timeseries(\\\"polkadot_to_usd_daily_2021.json\\\")\\ndot_usd_returns_daily = prices_to_returns(dot_to_usd_daily)\\n\\nbtc_to_usd_daily = get_usd_timeseries(\\\"bitcoin_to_usd_daily_2021.json\\\")\\nbtc_usd_returns_daily = prices_to_returns(btc_to_usd_daily)\\n\\nksm_to_btc_daily = determine_price_between_assets(ksm_to_usd_daily, btc_to_usd_daily)\\nksm_to_btc_returns_daily = prices_to_returns(ksm_to_btc_daily)\\nobserved_ksm_btc_corr, _ = pearsonr(ksm_usd_returns_daily, btc_usd_returns_daily)\\n\\n\\ndot_to_btc_daily = determine_price_between_assets(dot_to_usd_daily, btc_to_usd_daily)\\ndot_to_btc_returns_daily = prices_to_returns(dot_to_btc_daily)\\nobserved_dot_btc_corr, _ = pearsonr(dot_usd_returns_daily, btc_usd_returns_daily)\\n\\nksm_daily_volumes = get_volume_timeseries(\\\"kusama_to_usd_daily_2021.json\\\")\\nksm_volumes_dict = get_daily_volumes_dict(\\\"kusama_to_usd_daily_2021.json\\\")\\n\\ndot_daily_volumes = get_volume_timeseries(\\\"polkadot_to_usd_daily_2021.json\\\")\\ndot_volumes_dict = get_daily_volumes_dict(\\\"polkadot_to_usd_daily_2021.json\\\")\\n\\nbtc_daily_volumes = get_volume_timeseries(\\\"bitcoin_to_usd_daily_2021.json\\\")\\nbtc_volumes_dict = get_daily_volumes_dict(\\\"bitcoin_to_usd_daily_2021.json\\\")\\n\\nprint(\\\"KSM/BTC correlation is: \\\" + str(observed_ksm_btc_corr))\\nprint(\\\"DOT/BTC correlation is: \\\" + str(observed_dot_btc_corr))\";\n",
       "                var nbb_formatted_code = \"%load_ext nb_black\\n\\nimport json\\nfrom scipy.stats import pearsonr\\nimport math\\nimport datetime\\n\\nfrom sklearn import linear_model\\nfrom sklearn.preprocessing import FunctionTransformer\\nimport matplotlib.pyplot as plt\\nimport numpy as np\\nimport statistics\\nimport pandas as pd\\n\\n\\ndef get_usd_timeseries(file):\\n    f = open(file)\\n    data = json.load(f)\\n    f.close()\\n    return [price for (timestamp, price) in data[\\\"prices\\\"]]\\n\\n\\ndef get_volume_timeseries(file):\\n    f = open(file)\\n    data = json.load(f)\\n    f.close()\\n    prices = get_usd_timeseries(file)\\n    volumes = []\\n    for i in range(len(data[\\\"total_volumes\\\"])):\\n        (timestamp, usd_volume) = data[\\\"total_volumes\\\"][i]\\n        volumes.append(usd_volume / prices[i])\\n    return volumes\\n\\n\\ndef get_daily_volumes_dict(file):\\n    f = open(file)\\n    data = json.load(f)\\n    f.close()\\n    prices = get_usd_timeseries(file)\\n    volumes = dict()\\n    for i in range(len(data[\\\"total_volumes\\\"])):\\n        (timestamp, usd_volume) = data[\\\"total_volumes\\\"][i]\\n        volumes[timestamp] = usd_volume\\n    return volumes\\n\\n\\ndef determine_price_between_assets(asset_1_prices, asset_2_prices):\\n    return [\\n        asset_1_price / asset_2_price\\n        for (asset_1_price, asset_2_price) in zip(asset_1_prices, asset_2_prices)\\n    ]\\n\\n\\ndef prices_to_returns(prices):\\n    return [(prices[i] / prices[i - 1] - 1) for i in range(1, len(prices))]\\n\\n\\ndef round_timestamp_to_nearest_gmt_date(unix_timestamp):\\n    import os\\n\\n    date_format = \\\"%d/%m/%Y\\\"\\n    os.environ[\\\"TZ\\\"] = \\\"GMT\\\"\\n    parsed_date = datetime.datetime.fromtimestamp(\\n        int(unix_timestamp) / 1000.0\\n    ).strftime(date_format)\\n    return (\\n        int(datetime.datetime.strptime(parsed_date, date_format).timestamp() + 3600)\\n        * 1000\\n    )\\n\\n\\ndef read_trading_data(file):\\n    # Assumes Binance format\\n    # https://github.com/binance/binance-public-data/#trades\\n    names = [\\n        \\\"trade_id\\\",\\n        \\\"price\\\",\\n        \\\"qty\\\",\\n        \\\"quote_qty\\\",\\n        \\\"time\\\",\\n        \\\"is_buyer_maker\\\",\\n        \\\"is_best_match\\\",\\n    ]\\n    df = pd.read_csv(file, names=names)\\n    return df.drop(columns=[\\\"trade_id\\\", \\\"quote_qty\\\", \\\"is_best_match\\\"])\\n\\n\\ndef clean_trading_data_consecutively(\\n    trading_data, daily_volumes_dict, max_item_count, min_total_qty, min_price_change\\n):\\n    # simplify df to be ready for regression\\n    cleaned_df = pd.DataFrame(columns=[\\\"qty\\\", \\\"caused_price_change\\\"])\\n    cleaned_df_index = 0\\n    prev_price = 1\\n    prev_qty = 0\\n    prev_nearest_date = 0\\n    prev_qty_to_volume_ratio = 0\\n    prev_is_buyer_maker = False\\n    i = -1\\n    while i < len(trading_data.index):\\n        i += 1\\n        row = trading_data.iloc[i]\\n        if row[\\\"is_buyer_maker\\\"] == True:\\n            continue\\n        initial_price = row[\\\"price\\\"]\\n        j = i\\n        total_qty = 0\\n        while row[\\\"is_buyer_maker\\\"] == False and j < len(trading_data.index):\\n            row = trading_data.iloc[j]\\n            total_qty += row[\\\"qty\\\"]\\n            j += 1\\n        price_change = (row[\\\"price\\\"] / initial_price) - 1\\n        if i == j or total_qty < min_total_qty or price_change < min_price_change:\\n            continue\\n        cleaned_df.loc[cleaned_df_index] = [\\n            total_qty,\\n            price_change,\\n        ]\\n        cleaned_df_index += 1\\n        print(\\\"Added elements: \\\" + str(cleaned_df_index))\\n        i = j\\n        if cleaned_df_index > max_item_count:\\n            break\\n    return cleaned_df\\n\\n\\nksm_to_usd_daily = get_usd_timeseries(\\\"kusama_to_usd_daily_2021.json\\\")\\nksm_usd_returns_daily = prices_to_returns(ksm_to_usd_daily)\\n\\ndot_to_usd_daily = get_usd_timeseries(\\\"polkadot_to_usd_daily_2021.json\\\")\\ndot_usd_returns_daily = prices_to_returns(dot_to_usd_daily)\\n\\nbtc_to_usd_daily = get_usd_timeseries(\\\"bitcoin_to_usd_daily_2021.json\\\")\\nbtc_usd_returns_daily = prices_to_returns(btc_to_usd_daily)\\n\\nksm_to_btc_daily = determine_price_between_assets(ksm_to_usd_daily, btc_to_usd_daily)\\nksm_to_btc_returns_daily = prices_to_returns(ksm_to_btc_daily)\\nobserved_ksm_btc_corr, _ = pearsonr(ksm_usd_returns_daily, btc_usd_returns_daily)\\n\\n\\ndot_to_btc_daily = determine_price_between_assets(dot_to_usd_daily, btc_to_usd_daily)\\ndot_to_btc_returns_daily = prices_to_returns(dot_to_btc_daily)\\nobserved_dot_btc_corr, _ = pearsonr(dot_usd_returns_daily, btc_usd_returns_daily)\\n\\nksm_daily_volumes = get_volume_timeseries(\\\"kusama_to_usd_daily_2021.json\\\")\\nksm_volumes_dict = get_daily_volumes_dict(\\\"kusama_to_usd_daily_2021.json\\\")\\n\\ndot_daily_volumes = get_volume_timeseries(\\\"polkadot_to_usd_daily_2021.json\\\")\\ndot_volumes_dict = get_daily_volumes_dict(\\\"polkadot_to_usd_daily_2021.json\\\")\\n\\nbtc_daily_volumes = get_volume_timeseries(\\\"bitcoin_to_usd_daily_2021.json\\\")\\nbtc_volumes_dict = get_daily_volumes_dict(\\\"bitcoin_to_usd_daily_2021.json\\\")\\n\\nprint(\\\"KSM/BTC correlation is: \\\" + str(observed_ksm_btc_corr))\\nprint(\\\"DOT/BTC correlation is: \\\" + str(observed_dot_btc_corr))\";\n",
       "                var nbb_cells = Jupyter.notebook.get_cells();\n",
       "                for (var i = 0; i < nbb_cells.length; ++i) {\n",
       "                    if (nbb_cells[i].input_prompt_number == nbb_cell_id) {\n",
       "                        if (nbb_cells[i].get_text() == nbb_unformatted_code) {\n",
       "                             nbb_cells[i].set_text(nbb_formatted_code);\n",
       "                        }\n",
       "                        break;\n",
       "                    }\n",
       "                }\n",
       "            }, 500);\n",
       "            "
      ],
      "text/plain": [
       "<IPython.core.display.Javascript object>"
      ]
     },
     "metadata": {},
     "output_type": "display_data"
    }
   ],
   "source": [
    "%load_ext nb_black\n",
    "\n",
    "import json\n",
    "from scipy.stats import pearsonr\n",
    "import math\n",
    "import datetime\n",
    "\n",
    "from sklearn import linear_model\n",
    "from sklearn.preprocessing import FunctionTransformer\n",
    "import matplotlib.pyplot as plt\n",
    "import numpy as np\n",
    "import statistics\n",
    "import pandas as pd\n",
    "\n",
    "\n",
    "def get_usd_timeseries(file):\n",
    "    f = open(file)\n",
    "    data = json.load(f)\n",
    "    f.close()\n",
    "    return [price for (timestamp, price) in data[\"prices\"]]\n",
    "\n",
    "\n",
    "def get_volume_timeseries(file):\n",
    "    f = open(file)\n",
    "    data = json.load(f)\n",
    "    f.close()\n",
    "    prices = get_usd_timeseries(file)\n",
    "    volumes = []\n",
    "    for i in range(len(data[\"total_volumes\"])):\n",
    "        (timestamp, usd_volume) = data[\"total_volumes\"][i]\n",
    "        volumes.append(usd_volume / prices[i])\n",
    "    return volumes\n",
    "\n",
    "\n",
    "def get_daily_volumes_dict(file):\n",
    "    f = open(file)\n",
    "    data = json.load(f)\n",
    "    f.close()\n",
    "    prices = get_usd_timeseries(file)\n",
    "    volumes = dict()\n",
    "    for i in range(len(data[\"total_volumes\"])):\n",
    "        (timestamp, usd_volume) = data[\"total_volumes\"][i]\n",
    "        volumes[timestamp] = usd_volume\n",
    "    return volumes\n",
    "\n",
    "\n",
    "def determine_price_between_assets(asset_1_prices, asset_2_prices):\n",
    "    return [\n",
    "        asset_1_price / asset_2_price\n",
    "        for (asset_1_price, asset_2_price) in zip(asset_1_prices, asset_2_prices)\n",
    "    ]\n",
    "\n",
    "\n",
    "def prices_to_returns(prices):\n",
    "    return [(prices[i] / prices[i - 1] - 1) for i in range(1, len(prices))]\n",
    "\n",
    "\n",
    "def round_timestamp_to_nearest_gmt_date(unix_timestamp):\n",
    "    import os\n",
    "\n",
    "    date_format = \"%d/%m/%Y\"\n",
    "    os.environ[\"TZ\"] = \"GMT\"\n",
    "    parsed_date = datetime.datetime.fromtimestamp(\n",
    "        int(unix_timestamp) / 1000.0\n",
    "    ).strftime(date_format)\n",
    "    return (\n",
    "        int(datetime.datetime.strptime(parsed_date, date_format).timestamp() + 3600)\n",
    "        * 1000\n",
    "    )\n",
    "\n",
    "\n",
    "def read_trading_data(file):\n",
    "    # Assumes Binance format\n",
    "    # https://github.com/binance/binance-public-data/#trades\n",
    "    names = [\n",
    "        \"trade_id\",\n",
    "        \"price\",\n",
    "        \"qty\",\n",
    "        \"quote_qty\",\n",
    "        \"time\",\n",
    "        \"is_buyer_maker\",\n",
    "        \"is_best_match\",\n",
    "    ]\n",
    "    df = pd.read_csv(file, names=names)\n",
    "    return df.drop(columns=[\"trade_id\", \"quote_qty\", \"is_best_match\"])\n",
    "\n",
    "\n",
    "def clean_trading_data_consecutively(\n",
    "    trading_data, daily_volumes_dict, max_item_count, min_total_qty, min_price_change\n",
    "):\n",
    "    # simplify df to be ready for regression\n",
    "    cleaned_df = pd.DataFrame(columns=[\"qty\", \"caused_price_change\"])\n",
    "    cleaned_df_index = 0\n",
    "    prev_price = 1\n",
    "    prev_qty = 0\n",
    "    prev_nearest_date = 0\n",
    "    prev_qty_to_volume_ratio = 0\n",
    "    prev_is_buyer_maker = False\n",
    "    i = -1\n",
    "    while i < len(trading_data.index):\n",
    "        i += 1\n",
    "        row = trading_data.iloc[i]\n",
    "        if row[\"is_buyer_maker\"] == True:\n",
    "            continue\n",
    "        initial_price = row[\"price\"]\n",
    "        j = i\n",
    "        total_qty = 0\n",
    "        while row[\"is_buyer_maker\"] == False and j < len(trading_data.index):\n",
    "            row = trading_data.iloc[j]\n",
    "            total_qty += row[\"qty\"]\n",
    "            j += 1\n",
    "        price_change = (row[\"price\"] / initial_price) - 1\n",
    "        if i == j or total_qty < min_total_qty or price_change < min_price_change:\n",
    "            continue\n",
    "        cleaned_df.loc[cleaned_df_index] = [\n",
    "            total_qty,\n",
    "            price_change,\n",
    "        ]\n",
    "        cleaned_df_index += 1\n",
    "        print(\"Added elements: \" + str(cleaned_df_index))\n",
    "        i = j\n",
    "        if cleaned_df_index > max_item_count:\n",
    "            break\n",
    "    return cleaned_df\n",
    "\n",
    "\n",
    "ksm_to_usd_daily = get_usd_timeseries(\"kusama_to_usd_daily_2021.json\")\n",
    "ksm_usd_returns_daily = prices_to_returns(ksm_to_usd_daily)\n",
    "\n",
    "dot_to_usd_daily = get_usd_timeseries(\"polkadot_to_usd_daily_2021.json\")\n",
    "dot_usd_returns_daily = prices_to_returns(dot_to_usd_daily)\n",
    "\n",
    "btc_to_usd_daily = get_usd_timeseries(\"bitcoin_to_usd_daily_2021.json\")\n",
    "btc_usd_returns_daily = prices_to_returns(btc_to_usd_daily)\n",
    "\n",
    "ksm_to_btc_daily = determine_price_between_assets(ksm_to_usd_daily, btc_to_usd_daily)\n",
    "ksm_to_btc_returns_daily = prices_to_returns(ksm_to_btc_daily)\n",
    "observed_ksm_btc_corr, _ = pearsonr(ksm_usd_returns_daily, btc_usd_returns_daily)\n",
    "\n",
    "\n",
    "dot_to_btc_daily = determine_price_between_assets(dot_to_usd_daily, btc_to_usd_daily)\n",
    "dot_to_btc_returns_daily = prices_to_returns(dot_to_btc_daily)\n",
    "observed_dot_btc_corr, _ = pearsonr(dot_usd_returns_daily, btc_usd_returns_daily)\n",
    "\n",
    "ksm_daily_volumes = get_volume_timeseries(\"kusama_to_usd_daily_2021.json\")\n",
    "ksm_volumes_dict = get_daily_volumes_dict(\"kusama_to_usd_daily_2021.json\")\n",
    "\n",
    "dot_daily_volumes = get_volume_timeseries(\"polkadot_to_usd_daily_2021.json\")\n",
    "dot_volumes_dict = get_daily_volumes_dict(\"polkadot_to_usd_daily_2021.json\")\n",
    "\n",
    "btc_daily_volumes = get_volume_timeseries(\"bitcoin_to_usd_daily_2021.json\")\n",
    "btc_volumes_dict = get_daily_volumes_dict(\"bitcoin_to_usd_daily_2021.json\")\n",
    "\n",
    "print(\"KSM/BTC correlation is: \" + str(observed_ksm_btc_corr))\n",
    "print(\"DOT/BTC correlation is: \" + str(observed_dot_btc_corr))"
   ]
  },
  {
   "cell_type": "code",
   "execution_count": 3,
   "id": "ccebaf73",
   "metadata": {},
   "outputs": [
    {
     "data": {
      "application/javascript": [
       "\n",
       "            setTimeout(function() {\n",
       "                var nbb_cell_id = 65;\n",
       "                var nbb_unformatted_code = \"# Read BTC price history\\nbtc_to_usd_daily = get_usd_timeseries(\\\"price_data/btc_25_april_2022.json\\\")\\nbtc_usd_returns_daily = prices_to_returns(btc_to_usd_daily)\\n\\n# Read KINT price history\\nkint_to_usd_daily = get_usd_timeseries(\\\"price_data/kint_25_april_2022.json\\\")\\nkint_usd_returns_daily = prices_to_returns(kint_to_usd_daily)\\n\\nkint_to_btc_daily = determine_price_between_assets(kint_to_usd_daily, btc_to_usd_daily)\\nkint_to_btc_returns_daily = prices_to_returns(kint_to_btc_daily)\\nobserved_kint_btc_corr, _ = pearsonr(kint_usd_returns_daily, btc_usd_returns_daily)\\n\\n# Read USDC price history\\nusdc_to_usd_daily = get_usd_timeseries(\\\"price_data/usdc_25_april_2022.json\\\")\\nusdc_usd_returns_daily = prices_to_returns(usdc_to_usd_daily)\\n\\nusdc_to_btc_daily = determine_price_between_assets(usdc_to_usd_daily, btc_to_usd_daily)\\nusdc_to_btc_returns_daily = prices_to_returns(usdc_to_btc_daily)\\nobserved_usdc_btc_corr, _ = pearsonr(usdc_usd_returns_daily, btc_usd_returns_daily)\\n\\n# Read KSM price history\\nksm_to_usd_daily = get_usd_timeseries(\\\"price_data/ksm_25_april_2022.json\\\")\\nksm_usd_returns_daily = prices_to_returns(ksm_to_usd_daily)\\n\\nksm_to_btc_daily = determine_price_between_assets(ksm_to_usd_daily, btc_to_usd_daily)\\nksm_to_btc_returns_daily = prices_to_returns(ksm_to_btc_daily)\\nobserved_ksm_btc_corr, _ = pearsonr(ksm_usd_returns_daily, btc_usd_returns_daily)\\n\\n# Read DOT price history\\ndot_to_usd_daily = get_usd_timeseries(\\\"price_data/dot_25_april_2022.json\\\")\\ndot_usd_returns_daily = prices_to_returns(dot_to_usd_daily)\\n\\ndot_to_btc_daily = determine_price_between_assets(dot_to_usd_daily, btc_to_usd_daily)\\ndot_to_btc_returns_daily = prices_to_returns(dot_to_btc_daily)\\nobserved_dot_btc_corr, _ = pearsonr(dot_usd_returns_daily, btc_usd_returns_daily)\\n\\n# Read trading volumes for the liquidity model\\nksm_daily_volumes = get_volume_timeseries(\\\"kusama_to_usd_daily_2021.json\\\")\\nksm_volumes_dict = get_daily_volumes_dict(\\\"kusama_to_usd_daily_2021.json\\\")\\n\\ndot_daily_volumes = get_volume_timeseries(\\\"polkadot_to_usd_daily_2021.json\\\")\\ndot_volumes_dict = get_daily_volumes_dict(\\\"polkadot_to_usd_daily_2021.json\\\")\\n\\nbtc_daily_volumes = get_volume_timeseries(\\\"bitcoin_to_usd_daily_2021.json\\\")\\nbtc_volumes_dict = get_daily_volumes_dict(\\\"bitcoin_to_usd_daily_2021.json\\\")\\n\\nprint(\\\"KINT/BTC correlation is: \\\" + str(observed_kint_btc_corr))\\nprint(\\\"USDC/BTC correlation is: \\\" + str(observed_usdc_btc_corr))\\nprint(\\\"KSM/BTC correlation is: \\\" + str(observed_ksm_btc_corr))\\nprint(\\\"DOT/BTC correlation is: \\\" + str(observed_dot_btc_corr))\";\n",
       "                var nbb_formatted_code = \"# Read BTC price history\\nbtc_to_usd_daily = get_usd_timeseries(\\\"price_data/btc_25_april_2022.json\\\")\\nbtc_usd_returns_daily = prices_to_returns(btc_to_usd_daily)\\n\\n# Read KINT price history\\nkint_to_usd_daily = get_usd_timeseries(\\\"price_data/kint_25_april_2022.json\\\")\\nkint_usd_returns_daily = prices_to_returns(kint_to_usd_daily)\\n\\nkint_to_btc_daily = determine_price_between_assets(kint_to_usd_daily, btc_to_usd_daily)\\nkint_to_btc_returns_daily = prices_to_returns(kint_to_btc_daily)\\nobserved_kint_btc_corr, _ = pearsonr(kint_usd_returns_daily, btc_usd_returns_daily)\\n\\n# Read USDC price history\\nusdc_to_usd_daily = get_usd_timeseries(\\\"price_data/usdc_25_april_2022.json\\\")\\nusdc_usd_returns_daily = prices_to_returns(usdc_to_usd_daily)\\n\\nusdc_to_btc_daily = determine_price_between_assets(usdc_to_usd_daily, btc_to_usd_daily)\\nusdc_to_btc_returns_daily = prices_to_returns(usdc_to_btc_daily)\\nobserved_usdc_btc_corr, _ = pearsonr(usdc_usd_returns_daily, btc_usd_returns_daily)\\n\\n# Read KSM price history\\nksm_to_usd_daily = get_usd_timeseries(\\\"price_data/ksm_25_april_2022.json\\\")\\nksm_usd_returns_daily = prices_to_returns(ksm_to_usd_daily)\\n\\nksm_to_btc_daily = determine_price_between_assets(ksm_to_usd_daily, btc_to_usd_daily)\\nksm_to_btc_returns_daily = prices_to_returns(ksm_to_btc_daily)\\nobserved_ksm_btc_corr, _ = pearsonr(ksm_usd_returns_daily, btc_usd_returns_daily)\\n\\n# Read DOT price history\\ndot_to_usd_daily = get_usd_timeseries(\\\"price_data/dot_25_april_2022.json\\\")\\ndot_usd_returns_daily = prices_to_returns(dot_to_usd_daily)\\n\\ndot_to_btc_daily = determine_price_between_assets(dot_to_usd_daily, btc_to_usd_daily)\\ndot_to_btc_returns_daily = prices_to_returns(dot_to_btc_daily)\\nobserved_dot_btc_corr, _ = pearsonr(dot_usd_returns_daily, btc_usd_returns_daily)\\n\\n# Read trading volumes for the liquidity model\\nksm_daily_volumes = get_volume_timeseries(\\\"kusama_to_usd_daily_2021.json\\\")\\nksm_volumes_dict = get_daily_volumes_dict(\\\"kusama_to_usd_daily_2021.json\\\")\\n\\ndot_daily_volumes = get_volume_timeseries(\\\"polkadot_to_usd_daily_2021.json\\\")\\ndot_volumes_dict = get_daily_volumes_dict(\\\"polkadot_to_usd_daily_2021.json\\\")\\n\\nbtc_daily_volumes = get_volume_timeseries(\\\"bitcoin_to_usd_daily_2021.json\\\")\\nbtc_volumes_dict = get_daily_volumes_dict(\\\"bitcoin_to_usd_daily_2021.json\\\")\\n\\nprint(\\\"KINT/BTC correlation is: \\\" + str(observed_kint_btc_corr))\\nprint(\\\"USDC/BTC correlation is: \\\" + str(observed_usdc_btc_corr))\\nprint(\\\"KSM/BTC correlation is: \\\" + str(observed_ksm_btc_corr))\\nprint(\\\"DOT/BTC correlation is: \\\" + str(observed_dot_btc_corr))\";\n",
       "                var nbb_cells = Jupyter.notebook.get_cells();\n",
       "                for (var i = 0; i < nbb_cells.length; ++i) {\n",
       "                    if (nbb_cells[i].input_prompt_number == nbb_cell_id) {\n",
       "                        if (nbb_cells[i].get_text() == nbb_unformatted_code) {\n",
       "                             nbb_cells[i].set_text(nbb_formatted_code);\n",
       "                        }\n",
       "                        break;\n",
       "                    }\n",
       "                }\n",
       "            }, 500);\n",
       "            "
      ],
      "text/plain": [
       "<IPython.core.display.Javascript object>"
      ]
     },
     "metadata": {},
     "output_type": "display_data"
    }
   ],
   "source": [
    "# Read BTC price history\n",
    "btc_to_usd_daily = get_usd_timeseries(\"price_data/btc_25_april_2022.json\")\n",
    "btc_usd_returns_daily = prices_to_returns(btc_to_usd_daily)\n",
    "\n",
    "# Read KINT price history\n",
    "kint_to_usd_daily = get_usd_timeseries(\"price_data/kint_25_april_2022.json\")\n",
    "kint_usd_returns_daily = prices_to_returns(kint_to_usd_daily)\n",
    "\n",
    "kint_to_btc_daily = determine_price_between_assets(kint_to_usd_daily, btc_to_usd_daily)\n",
    "kint_to_btc_returns_daily = prices_to_returns(kint_to_btc_daily)\n",
    "observed_kint_btc_corr, _ = pearsonr(kint_usd_returns_daily, btc_usd_returns_daily)\n",
    "\n",
    "# Read USDC price history\n",
    "usdc_to_usd_daily = get_usd_timeseries(\"price_data/usdc_25_april_2022.json\")\n",
    "usdc_usd_returns_daily = prices_to_returns(usdc_to_usd_daily)\n",
    "\n",
    "usdc_to_btc_daily = determine_price_between_assets(usdc_to_usd_daily, btc_to_usd_daily)\n",
    "usdc_to_btc_returns_daily = prices_to_returns(usdc_to_btc_daily)\n",
    "observed_usdc_btc_corr, _ = pearsonr(usdc_usd_returns_daily, btc_usd_returns_daily)\n",
    "\n",
    "# Read KSM price history\n",
    "ksm_to_usd_daily = get_usd_timeseries(\"price_data/ksm_25_april_2022.json\")\n",
    "ksm_usd_returns_daily = prices_to_returns(ksm_to_usd_daily)\n",
    "\n",
    "ksm_to_btc_daily = determine_price_between_assets(ksm_to_usd_daily, btc_to_usd_daily)\n",
    "ksm_to_btc_returns_daily = prices_to_returns(ksm_to_btc_daily)\n",
    "observed_ksm_btc_corr, _ = pearsonr(ksm_usd_returns_daily, btc_usd_returns_daily)\n",
    "\n",
    "# Read DOT price history\n",
    "dot_to_usd_daily = get_usd_timeseries(\"price_data/dot_25_april_2022.json\")\n",
    "dot_usd_returns_daily = prices_to_returns(dot_to_usd_daily)\n",
    "\n",
    "dot_to_btc_daily = determine_price_between_assets(dot_to_usd_daily, btc_to_usd_daily)\n",
    "dot_to_btc_returns_daily = prices_to_returns(dot_to_btc_daily)\n",
    "observed_dot_btc_corr, _ = pearsonr(dot_usd_returns_daily, btc_usd_returns_daily)\n",
    "\n",
    "# Read trading volumes for the liquidity model\n",
    "ksm_daily_volumes = get_volume_timeseries(\"kusama_to_usd_daily_2021.json\")\n",
    "ksm_volumes_dict = get_daily_volumes_dict(\"kusama_to_usd_daily_2021.json\")\n",
    "\n",
    "dot_daily_volumes = get_volume_timeseries(\"polkadot_to_usd_daily_2021.json\")\n",
    "dot_volumes_dict = get_daily_volumes_dict(\"polkadot_to_usd_daily_2021.json\")\n",
    "\n",
    "btc_daily_volumes = get_volume_timeseries(\"bitcoin_to_usd_daily_2021.json\")\n",
    "btc_volumes_dict = get_daily_volumes_dict(\"bitcoin_to_usd_daily_2021.json\")\n",
    "\n",
    "print(\"KINT/BTC correlation is: \" + str(observed_kint_btc_corr))\n",
    "print(\"USDC/BTC correlation is: \" + str(observed_usdc_btc_corr))\n",
    "print(\"KSM/BTC correlation is: \" + str(observed_ksm_btc_corr))\n",
    "print(\"DOT/BTC correlation is: \" + str(observed_dot_btc_corr))\n"
   ]
  },
  {
   "cell_type": "code",
   "execution_count": 5,
   "id": "03f7c87e",
   "metadata": {},
   "outputs": [
    {
     "data": {
      "application/javascript": [
       "\n",
       "            setTimeout(function() {\n",
       "                var nbb_cell_id = 5;\n",
       "                var nbb_unformatted_code = \"btc_raw_trading_data = read_trading_data(\\\"BTC_trades.csv\\\")\";\n",
       "                var nbb_formatted_code = \"btc_raw_trading_data = read_trading_data(\\\"BTC_trades.csv\\\")\";\n",
       "                var nbb_cells = Jupyter.notebook.get_cells();\n",
       "                for (var i = 0; i < nbb_cells.length; ++i) {\n",
       "                    if (nbb_cells[i].input_prompt_number == nbb_cell_id) {\n",
       "                        if (nbb_cells[i].get_text() == nbb_unformatted_code) {\n",
       "                             nbb_cells[i].set_text(nbb_formatted_code);\n",
       "                        }\n",
       "                        break;\n",
       "                    }\n",
       "                }\n",
       "            }, 500);\n",
       "            "
      ],
      "text/plain": [
       "<IPython.core.display.Javascript object>"
      ]
     },
     "metadata": {},
     "output_type": "display_data"
    }
   ],
   "source": [
    "btc_raw_trading_data = read_trading_data(\"BTC_trades.csv\")"
   ]
  },
  {
   "cell_type": "code",
   "execution_count": 15,
   "id": "68950eef",
   "metadata": {},
   "outputs": [
    {
     "name": "stdout",
     "output_type": "stream",
     "text": [
      "Added elements: 1\n",
      "Added elements: 2\n",
      "Added elements: 3\n",
      "Added elements: 4\n",
      "Added elements: 5\n",
      "Added elements: 6\n",
      "Added elements: 7\n",
      "Added elements: 8\n",
      "Added elements: 9\n",
      "Added elements: 10\n",
      "Added elements: 11\n",
      "Added elements: 12\n",
      "Added elements: 13\n",
      "Added elements: 14\n",
      "Added elements: 15\n",
      "Added elements: 16\n",
      "Added elements: 17\n",
      "Added elements: 18\n",
      "Added elements: 19\n",
      "Added elements: 20\n",
      "Added elements: 21\n"
     ]
    },
    {
     "data": {
      "application/javascript": [
       "\n",
       "            setTimeout(function() {\n",
       "                var nbb_cell_id = 15;\n",
       "                var nbb_unformatted_code = \"# Filter data to only keep extreme cases, to train a conservative slippage model\\nbtc_trading_data = clean_trading_data_consecutively(\\n    btc_raw_trading_data, btc_volumes_dict, 20, 5, 0.000001\\n)\";\n",
       "                var nbb_formatted_code = \"# Filter data to only keep extreme cases, to train a conservative slippage model\\nbtc_trading_data = clean_trading_data_consecutively(\\n    btc_raw_trading_data, btc_volumes_dict, 20, 5, 0.000001\\n)\";\n",
       "                var nbb_cells = Jupyter.notebook.get_cells();\n",
       "                for (var i = 0; i < nbb_cells.length; ++i) {\n",
       "                    if (nbb_cells[i].input_prompt_number == nbb_cell_id) {\n",
       "                        if (nbb_cells[i].get_text() == nbb_unformatted_code) {\n",
       "                             nbb_cells[i].set_text(nbb_formatted_code);\n",
       "                        }\n",
       "                        break;\n",
       "                    }\n",
       "                }\n",
       "            }, 500);\n",
       "            "
      ],
      "text/plain": [
       "<IPython.core.display.Javascript object>"
      ]
     },
     "metadata": {},
     "output_type": "display_data"
    }
   ],
   "source": [
    "# Filter data to only keep extreme cases, to train a conservative slippage model\n",
    "btc_trading_data = clean_trading_data_consecutively(\n",
    "    btc_raw_trading_data, btc_volumes_dict, 20, 5, 0.000001\n",
    ")"
   ]
  },
  {
   "cell_type": "code",
   "execution_count": 12,
   "id": "7ee3745c",
   "metadata": {},
   "outputs": [
    {
     "data": {
      "application/javascript": [
       "\n",
       "            setTimeout(function() {\n",
       "                var nbb_cell_id = 12;\n",
       "                var nbb_unformatted_code = \"ksm_raw_trading_data = read_trading_data(\\\"KSM_trades.csv\\\")\";\n",
       "                var nbb_formatted_code = \"ksm_raw_trading_data = read_trading_data(\\\"KSM_trades.csv\\\")\";\n",
       "                var nbb_cells = Jupyter.notebook.get_cells();\n",
       "                for (var i = 0; i < nbb_cells.length; ++i) {\n",
       "                    if (nbb_cells[i].input_prompt_number == nbb_cell_id) {\n",
       "                        if (nbb_cells[i].get_text() == nbb_unformatted_code) {\n",
       "                             nbb_cells[i].set_text(nbb_formatted_code);\n",
       "                        }\n",
       "                        break;\n",
       "                    }\n",
       "                }\n",
       "            }, 500);\n",
       "            "
      ],
      "text/plain": [
       "<IPython.core.display.Javascript object>"
      ]
     },
     "metadata": {},
     "output_type": "display_data"
    }
   ],
   "source": [
    "ksm_raw_trading_data = read_trading_data(\"KSM_trades.csv\")"
   ]
  },
  {
   "cell_type": "code",
   "execution_count": 13,
   "id": "2c27f07f",
   "metadata": {},
   "outputs": [
    {
     "name": "stdout",
     "output_type": "stream",
     "text": [
      "Added elements: 1\n",
      "Added elements: 2\n",
      "Added elements: 3\n",
      "Added elements: 4\n",
      "Added elements: 5\n",
      "Added elements: 6\n",
      "Added elements: 7\n",
      "Added elements: 8\n",
      "Added elements: 9\n",
      "Added elements: 10\n",
      "Added elements: 11\n"
     ]
    },
    {
     "data": {
      "application/javascript": [
       "\n",
       "            setTimeout(function() {\n",
       "                var nbb_cell_id = 13;\n",
       "                var nbb_unformatted_code = \"# Filter data to only keep extreme cases, to train a conservative slippage model\\nksm_trading_data = clean_trading_data_consecutively(\\n    ksm_raw_trading_data, ksm_volumes_dict, 10, 10, 0.006\\n)\";\n",
       "                var nbb_formatted_code = \"# Filter data to only keep extreme cases, to train a conservative slippage model\\nksm_trading_data = clean_trading_data_consecutively(\\n    ksm_raw_trading_data, ksm_volumes_dict, 10, 10, 0.006\\n)\";\n",
       "                var nbb_cells = Jupyter.notebook.get_cells();\n",
       "                for (var i = 0; i < nbb_cells.length; ++i) {\n",
       "                    if (nbb_cells[i].input_prompt_number == nbb_cell_id) {\n",
       "                        if (nbb_cells[i].get_text() == nbb_unformatted_code) {\n",
       "                             nbb_cells[i].set_text(nbb_formatted_code);\n",
       "                        }\n",
       "                        break;\n",
       "                    }\n",
       "                }\n",
       "            }, 500);\n",
       "            "
      ],
      "text/plain": [
       "<IPython.core.display.Javascript object>"
      ]
     },
     "metadata": {},
     "output_type": "display_data"
    }
   ],
   "source": [
    "# Filter data to only keep extreme cases, to train a conservative slippage model\n",
    "ksm_trading_data = clean_trading_data_consecutively(\n",
    "    ksm_raw_trading_data, ksm_volumes_dict, 10, 10, 0.006\n",
    ")"
   ]
  },
  {
   "cell_type": "code",
   "execution_count": 7,
   "id": "ab7acad2",
   "metadata": {},
   "outputs": [
    {
     "data": {
      "application/javascript": [
       "\n",
       "            setTimeout(function() {\n",
       "                var nbb_cell_id = 7;\n",
       "                var nbb_unformatted_code = \"dot_raw_trading_data = read_trading_data(\\\"DOT_trades.csv\\\")\";\n",
       "                var nbb_formatted_code = \"dot_raw_trading_data = read_trading_data(\\\"DOT_trades.csv\\\")\";\n",
       "                var nbb_cells = Jupyter.notebook.get_cells();\n",
       "                for (var i = 0; i < nbb_cells.length; ++i) {\n",
       "                    if (nbb_cells[i].input_prompt_number == nbb_cell_id) {\n",
       "                        if (nbb_cells[i].get_text() == nbb_unformatted_code) {\n",
       "                             nbb_cells[i].set_text(nbb_formatted_code);\n",
       "                        }\n",
       "                        break;\n",
       "                    }\n",
       "                }\n",
       "            }, 500);\n",
       "            "
      ],
      "text/plain": [
       "<IPython.core.display.Javascript object>"
      ]
     },
     "metadata": {},
     "output_type": "display_data"
    }
   ],
   "source": [
    "dot_raw_trading_data = read_trading_data(\"DOT_trades.csv\")"
   ]
  },
  {
   "cell_type": "code",
   "execution_count": 10,
   "id": "9077e3b1",
   "metadata": {},
   "outputs": [
    {
     "name": "stdout",
     "output_type": "stream",
     "text": [
      "Added elements: 1\n",
      "Added elements: 2\n",
      "Added elements: 3\n",
      "Added elements: 4\n",
      "Added elements: 5\n",
      "Added elements: 6\n",
      "Added elements: 7\n",
      "Added elements: 8\n",
      "Added elements: 9\n",
      "Added elements: 10\n",
      "Added elements: 11\n",
      "Added elements: 12\n",
      "Added elements: 13\n",
      "Added elements: 14\n",
      "Added elements: 15\n",
      "Added elements: 16\n",
      "Added elements: 17\n",
      "Added elements: 18\n",
      "Added elements: 19\n",
      "Added elements: 20\n",
      "Added elements: 21\n",
      "Added elements: 22\n",
      "Added elements: 23\n",
      "Added elements: 24\n",
      "Added elements: 25\n",
      "Added elements: 26\n",
      "Added elements: 27\n",
      "Added elements: 28\n",
      "Added elements: 29\n",
      "Added elements: 30\n",
      "Added elements: 31\n",
      "Added elements: 32\n",
      "Added elements: 33\n",
      "Added elements: 34\n",
      "Added elements: 35\n",
      "Added elements: 36\n",
      "Added elements: 37\n",
      "Added elements: 38\n",
      "Added elements: 39\n",
      "Added elements: 40\n",
      "Added elements: 41\n",
      "Added elements: 42\n",
      "Added elements: 43\n",
      "Added elements: 44\n",
      "Added elements: 45\n",
      "Added elements: 46\n",
      "Added elements: 47\n",
      "Added elements: 48\n",
      "Added elements: 49\n",
      "Added elements: 50\n",
      "Added elements: 51\n"
     ]
    },
    {
     "data": {
      "application/javascript": [
       "\n",
       "            setTimeout(function() {\n",
       "                var nbb_cell_id = 10;\n",
       "                var nbb_unformatted_code = \"# Filter data to only keep extreme case, to train a conservative slippage model\\ndot_trading_data = clean_trading_data_consecutively(\\n    dot_raw_trading_data, dot_volumes_dict, 50, 200, 0.0005\\n)\";\n",
       "                var nbb_formatted_code = \"# Filter data to only keep extreme case, to train a conservative slippage model\\ndot_trading_data = clean_trading_data_consecutively(\\n    dot_raw_trading_data, dot_volumes_dict, 50, 200, 0.0005\\n)\";\n",
       "                var nbb_cells = Jupyter.notebook.get_cells();\n",
       "                for (var i = 0; i < nbb_cells.length; ++i) {\n",
       "                    if (nbb_cells[i].input_prompt_number == nbb_cell_id) {\n",
       "                        if (nbb_cells[i].get_text() == nbb_unformatted_code) {\n",
       "                             nbb_cells[i].set_text(nbb_formatted_code);\n",
       "                        }\n",
       "                        break;\n",
       "                    }\n",
       "                }\n",
       "            }, 500);\n",
       "            "
      ],
      "text/plain": [
       "<IPython.core.display.Javascript object>"
      ]
     },
     "metadata": {},
     "output_type": "display_data"
    }
   ],
   "source": [
    "# Filter data to only keep extreme case, to train a conservative slippage model\n",
    "dot_trading_data = clean_trading_data_consecutively(\n",
    "    dot_raw_trading_data, dot_volumes_dict, 50, 200, 0.0005\n",
    ")"
   ]
  },
  {
   "cell_type": "code",
   "execution_count": 16,
   "id": "f5176cd1",
   "metadata": {},
   "outputs": [
    {
     "data": {
      "image/png": "[encoded data removed]",
      "text/plain": [
       "<Figure size 432x288 with 1 Axes>"
      ]
     },
     "metadata": {
      "needs_background": "light"
     },
     "output_type": "display_data"
    },
    {
     "data": {
      "image/png": "[encoded data removed]",
      "text/plain": [
       "<Figure size 432x288 with 1 Axes>"
      ]
     },
     "metadata": {
      "needs_background": "light"
     },
     "output_type": "display_data"
    },
    {
     "data": {
      "image/png": "[encoded data removed]",
      "text/plain": [
       "<Figure size 432x288 with 1 Axes>"
      ]
     },
     "metadata": {
      "needs_background": "light"
     },
     "output_type": "display_data"
    },
    {
     "data": {
      "application/javascript": [
       "\n",
       "            setTimeout(function() {\n",
       "                var nbb_cell_id = 16;\n",
       "                var nbb_unformatted_code = \"def get_regression_model(trading_data, min_price_change=None, max_qty=None):\\n    filtered_data = trading_data\\n    if min_price_change and max_qty:\\n        filtered_data = filtered_data[\\n            (filtered_data[\\\"caused_price_change\\\"] > 0.01) & (filtered_data[\\\"qty\\\"] < 400)\\n        ]\\n    x = filtered_data.qty.values\\n    y = filtered_data.caused_price_change.values\\n\\n    x = x.reshape(len(x), 1)\\n    y = y.reshape(len(x), 1)\\n\\n    regr = linear_model.LinearRegression()\\n    result = regr.fit(x, y)\\n    model = result.predict\\n    plt.scatter(x, y, color=\\\"black\\\")\\n    plt.plot(x, model(x), color=\\\"blue\\\", linewidth=1)\\n    plt.ylabel(\\\"price_change (%)\\\")\\n    plt.xlabel(\\\"traded_quantity\\\")\\n    plt.show()\\n    return model\\n\\n\\nksm_liquidity_model = get_regression_model(ksm_trading_data)\\nbtc_liquidity_model = get_regression_model(btc_trading_data)\\ndot_liquidity_model = get_regression_model(dot_trading_data)\";\n",
       "                var nbb_formatted_code = \"def get_regression_model(trading_data, min_price_change=None, max_qty=None):\\n    filtered_data = trading_data\\n    if min_price_change and max_qty:\\n        filtered_data = filtered_data[\\n            (filtered_data[\\\"caused_price_change\\\"] > 0.01) & (filtered_data[\\\"qty\\\"] < 400)\\n        ]\\n    x = filtered_data.qty.values\\n    y = filtered_data.caused_price_change.values\\n\\n    x = x.reshape(len(x), 1)\\n    y = y.reshape(len(x), 1)\\n\\n    regr = linear_model.LinearRegression()\\n    result = regr.fit(x, y)\\n    model = result.predict\\n    plt.scatter(x, y, color=\\\"black\\\")\\n    plt.plot(x, model(x), color=\\\"blue\\\", linewidth=1)\\n    plt.ylabel(\\\"price_change (%)\\\")\\n    plt.xlabel(\\\"traded_quantity\\\")\\n    plt.show()\\n    return model\\n\\n\\nksm_liquidity_model = get_regression_model(ksm_trading_data)\\nbtc_liquidity_model = get_regression_model(btc_trading_data)\\ndot_liquidity_model = get_regression_model(dot_trading_data)\";\n",
       "                var nbb_cells = Jupyter.notebook.get_cells();\n",
       "                for (var i = 0; i < nbb_cells.length; ++i) {\n",
       "                    if (nbb_cells[i].input_prompt_number == nbb_cell_id) {\n",
       "                        if (nbb_cells[i].get_text() == nbb_unformatted_code) {\n",
       "                             nbb_cells[i].set_text(nbb_formatted_code);\n",
       "                        }\n",
       "                        break;\n",
       "                    }\n",
       "                }\n",
       "            }, 500);\n",
       "            "
      ],
      "text/plain": [
       "<IPython.core.display.Javascript object>"
      ]
     },
     "metadata": {},
     "output_type": "display_data"
    }
   ],
   "source": [
    "def get_regression_model(trading_data, min_price_change=None, max_qty=None):\n",
    "    filtered_data = trading_data\n",
    "    if min_price_change and max_qty:\n",
    "        filtered_data = filtered_data[\n",
    "            (filtered_data[\"caused_price_change\"] > 0.01) & (filtered_data[\"qty\"] < 400)\n",
    "        ]\n",
    "    x = filtered_data.qty.values\n",
    "    y = filtered_data.caused_price_change.values\n",
    "\n",
    "    x = x.reshape(len(x), 1)\n",
    "    y = y.reshape(len(x), 1)\n",
    "\n",
    "    regr = linear_model.LinearRegression()\n",
    "    result = regr.fit(x, y)\n",
    "    model = result.predict\n",
    "    plt.scatter(x, y, color=\"black\")\n",
    "    plt.plot(x, model(x), color=\"blue\", linewidth=1)\n",
    "    plt.ylabel(\"price_change (%)\")\n",
    "    plt.xlabel(\"traded_quantity\")\n",
    "    plt.show()\n",
    "    return model\n",
    "\n",
    "\n",
    "ksm_liquidity_model = get_regression_model(ksm_trading_data)\n",
    "btc_liquidity_model = get_regression_model(btc_trading_data)\n",
    "dot_liquidity_model = get_regression_model(dot_trading_data)"
   ]
  },
  {
   "cell_type": "code",
   "execution_count": 358,
   "id": "f6646c0e",
   "metadata": {},
   "outputs": [
    {
     "data": {
      "image/png": "[encoded data removed]",
      "text/plain": [
       "<Figure size 432x288 with 1 Axes>"
      ]
     },
     "metadata": {
      "needs_background": "light"
     },
     "output_type": "display_data"
    },
    {
     "data": {
      "application/javascript": [
       "\n",
       "            setTimeout(function() {\n",
       "                var nbb_cell_id = 358;\n",
       "                var nbb_unformatted_code = \"def plot_returns(returns, data_label, title):\\n    plt.hist(returns, density=True, bins=30, alpha=0.5, label=data_label)\\n    plt.ylabel(\\\"Occurences\\\")\\n    plt.xlabel(\\\"Percentage change\\\")\\n    plt.legend(loc=\\\"upper right\\\")\\n    plt.title(title)\\n\\n\\nplot_returns(ksm_to_btc_returns_daily, \\\"KSM\\\", \\\"Daily returns\\\")\\nplot_returns(dot_to_btc_returns_daily, \\\"DOT\\\", \\\"Daily returns\\\")\";\n",
       "                var nbb_formatted_code = \"def plot_returns(returns, data_label, title):\\n    plt.hist(returns, density=True, bins=30, alpha=0.5, label=data_label)\\n    plt.ylabel(\\\"Occurences\\\")\\n    plt.xlabel(\\\"Percentage change\\\")\\n    plt.legend(loc=\\\"upper right\\\")\\n    plt.title(title)\\n\\n\\nplot_returns(ksm_to_btc_returns_daily, \\\"KSM\\\", \\\"Daily returns\\\")\\nplot_returns(dot_to_btc_returns_daily, \\\"DOT\\\", \\\"Daily returns\\\")\";\n",
       "                var nbb_cells = Jupyter.notebook.get_cells();\n",
       "                for (var i = 0; i < nbb_cells.length; ++i) {\n",
       "                    if (nbb_cells[i].input_prompt_number == nbb_cell_id) {\n",
       "                        if (nbb_cells[i].get_text() == nbb_unformatted_code) {\n",
       "                             nbb_cells[i].set_text(nbb_formatted_code);\n",
       "                        }\n",
       "                        break;\n",
       "                    }\n",
       "                }\n",
       "            }, 500);\n",
       "            "
      ],
      "text/plain": [
       "<IPython.core.display.Javascript object>"
      ]
     },
     "metadata": {},
     "output_type": "display_data"
    },
    {
     "data": {
      "application/javascript": [
       "\n",
       "            setTimeout(function() {\n",
       "                var nbb_cell_id = 358;\n",
       "                var nbb_unformatted_code = \"def plot_returns(returns, data_label, title):\\n    plt.hist(returns, density=True, bins=30, alpha=0.5, label=data_label)\\n    plt.ylabel(\\\"Occurences\\\")\\n    plt.xlabel(\\\"Percentage change\\\")\\n    plt.legend(loc=\\\"upper right\\\")\\n    plt.title(title)\\n\\n\\nplot_returns(ksm_to_btc_returns_daily, \\\"KSM\\\", \\\"Daily returns\\\")\\nplot_returns(dot_to_btc_returns_daily, \\\"DOT\\\", \\\"Daily returns\\\")\";\n",
       "                var nbb_formatted_code = \"def plot_returns(returns, data_label, title):\\n    plt.hist(returns, density=True, bins=30, alpha=0.5, label=data_label)\\n    plt.ylabel(\\\"Occurences\\\")\\n    plt.xlabel(\\\"Percentage change\\\")\\n    plt.legend(loc=\\\"upper right\\\")\\n    plt.title(title)\\n\\n\\nplot_returns(ksm_to_btc_returns_daily, \\\"KSM\\\", \\\"Daily returns\\\")\\nplot_returns(dot_to_btc_returns_daily, \\\"DOT\\\", \\\"Daily returns\\\")\";\n",
       "                var nbb_cells = Jupyter.notebook.get_cells();\n",
       "                for (var i = 0; i < nbb_cells.length; ++i) {\n",
       "                    if (nbb_cells[i].input_prompt_number == nbb_cell_id) {\n",
       "                        if (nbb_cells[i].get_text() == nbb_unformatted_code) {\n",
       "                             nbb_cells[i].set_text(nbb_formatted_code);\n",
       "                        }\n",
       "                        break;\n",
       "                    }\n",
       "                }\n",
       "            }, 500);\n",
       "            "
      ],
      "text/plain": [
       "<IPython.core.display.Javascript object>"
      ]
     },
     "metadata": {},
     "output_type": "display_data"
    },
    {
     "data": {
      "application/javascript": [
       "\n",
       "            setTimeout(function() {\n",
       "                var nbb_cell_id = 358;\n",
       "                var nbb_unformatted_code = \"def plot_returns(returns, data_label, title):\\n    plt.hist(returns, density=True, bins=30, alpha=0.5, label=data_label)\\n    plt.ylabel(\\\"Occurences\\\")\\n    plt.xlabel(\\\"Percentage change\\\")\\n    plt.legend(loc=\\\"upper right\\\")\\n    plt.title(title)\\n\\n\\nplot_returns(ksm_to_btc_returns_daily, \\\"KSM\\\", \\\"Daily returns\\\")\\nplot_returns(dot_to_btc_returns_daily, \\\"DOT\\\", \\\"Daily returns\\\")\";\n",
       "                var nbb_formatted_code = \"def plot_returns(returns, data_label, title):\\n    plt.hist(returns, density=True, bins=30, alpha=0.5, label=data_label)\\n    plt.ylabel(\\\"Occurences\\\")\\n    plt.xlabel(\\\"Percentage change\\\")\\n    plt.legend(loc=\\\"upper right\\\")\\n    plt.title(title)\\n\\n\\nplot_returns(ksm_to_btc_returns_daily, \\\"KSM\\\", \\\"Daily returns\\\")\\nplot_returns(dot_to_btc_returns_daily, \\\"DOT\\\", \\\"Daily returns\\\")\";\n",
       "                var nbb_cells = Jupyter.notebook.get_cells();\n",
       "                for (var i = 0; i < nbb_cells.length; ++i) {\n",
       "                    if (nbb_cells[i].input_prompt_number == nbb_cell_id) {\n",
       "                        if (nbb_cells[i].get_text() == nbb_unformatted_code) {\n",
       "                             nbb_cells[i].set_text(nbb_formatted_code);\n",
       "                        }\n",
       "                        break;\n",
       "                    }\n",
       "                }\n",
       "            }, 500);\n",
       "            "
      ],
      "text/plain": [
       "<IPython.core.display.Javascript object>"
      ]
     },
     "metadata": {},
     "output_type": "display_data"
    },
    {
     "data": {
      "application/javascript": [
       "\n",
       "            setTimeout(function() {\n",
       "                var nbb_cell_id = 358;\n",
       "                var nbb_unformatted_code = \"def plot_returns(returns, data_label, title):\\n    plt.hist(returns, density=True, bins=30, alpha=0.5, label=data_label)\\n    plt.ylabel(\\\"Occurences\\\")\\n    plt.xlabel(\\\"Percentage change\\\")\\n    plt.legend(loc=\\\"upper right\\\")\\n    plt.title(title)\\n\\n\\nplot_returns(ksm_to_btc_returns_daily, \\\"KSM\\\", \\\"Daily returns\\\")\\nplot_returns(dot_to_btc_returns_daily, \\\"DOT\\\", \\\"Daily returns\\\")\";\n",
       "                var nbb_formatted_code = \"def plot_returns(returns, data_label, title):\\n    plt.hist(returns, density=True, bins=30, alpha=0.5, label=data_label)\\n    plt.ylabel(\\\"Occurences\\\")\\n    plt.xlabel(\\\"Percentage change\\\")\\n    plt.legend(loc=\\\"upper right\\\")\\n    plt.title(title)\\n\\n\\nplot_returns(ksm_to_btc_returns_daily, \\\"KSM\\\", \\\"Daily returns\\\")\\nplot_returns(dot_to_btc_returns_daily, \\\"DOT\\\", \\\"Daily returns\\\")\";\n",
       "                var nbb_cells = Jupyter.notebook.get_cells();\n",
       "                for (var i = 0; i < nbb_cells.length; ++i) {\n",
       "                    if (nbb_cells[i].input_prompt_number == nbb_cell_id) {\n",
       "                        if (nbb_cells[i].get_text() == nbb_unformatted_code) {\n",
       "                             nbb_cells[i].set_text(nbb_formatted_code);\n",
       "                        }\n",
       "                        break;\n",
       "                    }\n",
       "                }\n",
       "            }, 500);\n",
       "            "
      ],
      "text/plain": [
       "<IPython.core.display.Javascript object>"
      ]
     },
     "metadata": {},
     "output_type": "display_data"
    },
    {
     "data": {
      "application/javascript": [
       "\n",
       "            setTimeout(function() {\n",
       "                var nbb_cell_id = 358;\n",
       "                var nbb_unformatted_code = \"def plot_returns(returns, data_label, title):\\n    plt.hist(returns, density=True, bins=30, alpha=0.5, label=data_label)\\n    plt.ylabel(\\\"Occurences\\\")\\n    plt.xlabel(\\\"Percentage change\\\")\\n    plt.legend(loc=\\\"upper right\\\")\\n    plt.title(title)\\n\\n\\nplot_returns(ksm_to_btc_returns_daily, \\\"KSM\\\", \\\"Daily returns\\\")\\nplot_returns(dot_to_btc_returns_daily, \\\"DOT\\\", \\\"Daily returns\\\")\";\n",
       "                var nbb_formatted_code = \"def plot_returns(returns, data_label, title):\\n    plt.hist(returns, density=True, bins=30, alpha=0.5, label=data_label)\\n    plt.ylabel(\\\"Occurences\\\")\\n    plt.xlabel(\\\"Percentage change\\\")\\n    plt.legend(loc=\\\"upper right\\\")\\n    plt.title(title)\\n\\n\\nplot_returns(ksm_to_btc_returns_daily, \\\"KSM\\\", \\\"Daily returns\\\")\\nplot_returns(dot_to_btc_returns_daily, \\\"DOT\\\", \\\"Daily returns\\\")\";\n",
       "                var nbb_cells = Jupyter.notebook.get_cells();\n",
       "                for (var i = 0; i < nbb_cells.length; ++i) {\n",
       "                    if (nbb_cells[i].input_prompt_number == nbb_cell_id) {\n",
       "                        if (nbb_cells[i].get_text() == nbb_unformatted_code) {\n",
       "                             nbb_cells[i].set_text(nbb_formatted_code);\n",
       "                        }\n",
       "                        break;\n",
       "                    }\n",
       "                }\n",
       "            }, 500);\n",
       "            "
      ],
      "text/plain": [
       "<IPython.core.display.Javascript object>"
      ]
     },
     "metadata": {},
     "output_type": "display_data"
    },
    {
     "data": {
      "application/javascript": [
       "\n",
       "            setTimeout(function() {\n",
       "                var nbb_cell_id = 358;\n",
       "                var nbb_unformatted_code = \"def plot_returns(returns, data_label, title):\\n    plt.hist(returns, density=True, bins=30, alpha=0.5, label=data_label)\\n    plt.ylabel(\\\"Occurences\\\")\\n    plt.xlabel(\\\"Percentage change\\\")\\n    plt.legend(loc=\\\"upper right\\\")\\n    plt.title(title)\\n\\n\\nplot_returns(ksm_to_btc_returns_daily, \\\"KSM\\\", \\\"Daily returns\\\")\\nplot_returns(dot_to_btc_returns_daily, \\\"DOT\\\", \\\"Daily returns\\\")\";\n",
       "                var nbb_formatted_code = \"def plot_returns(returns, data_label, title):\\n    plt.hist(returns, density=True, bins=30, alpha=0.5, label=data_label)\\n    plt.ylabel(\\\"Occurences\\\")\\n    plt.xlabel(\\\"Percentage change\\\")\\n    plt.legend(loc=\\\"upper right\\\")\\n    plt.title(title)\\n\\n\\nplot_returns(ksm_to_btc_returns_daily, \\\"KSM\\\", \\\"Daily returns\\\")\\nplot_returns(dot_to_btc_returns_daily, \\\"DOT\\\", \\\"Daily returns\\\")\";\n",
       "                var nbb_cells = Jupyter.notebook.get_cells();\n",
       "                for (var i = 0; i < nbb_cells.length; ++i) {\n",
       "                    if (nbb_cells[i].input_prompt_number == nbb_cell_id) {\n",
       "                        if (nbb_cells[i].get_text() == nbb_unformatted_code) {\n",
       "                             nbb_cells[i].set_text(nbb_formatted_code);\n",
       "                        }\n",
       "                        break;\n",
       "                    }\n",
       "                }\n",
       "            }, 500);\n",
       "            "
      ],
      "text/plain": [
       "<IPython.core.display.Javascript object>"
      ]
     },
     "metadata": {},
     "output_type": "display_data"
    },
    {
     "data": {
      "application/javascript": [
       "\n",
       "            setTimeout(function() {\n",
       "                var nbb_cell_id = 358;\n",
       "                var nbb_unformatted_code = \"def plot_returns(returns, data_label, title):\\n    plt.hist(returns, density=True, bins=30, alpha=0.5, label=data_label)\\n    plt.ylabel(\\\"Occurences\\\")\\n    plt.xlabel(\\\"Percentage change\\\")\\n    plt.legend(loc=\\\"upper right\\\")\\n    plt.title(title)\\n\\n\\nplot_returns(ksm_to_btc_returns_daily, \\\"KSM\\\", \\\"Daily returns\\\")\\nplot_returns(dot_to_btc_returns_daily, \\\"DOT\\\", \\\"Daily returns\\\")\";\n",
       "                var nbb_formatted_code = \"def plot_returns(returns, data_label, title):\\n    plt.hist(returns, density=True, bins=30, alpha=0.5, label=data_label)\\n    plt.ylabel(\\\"Occurences\\\")\\n    plt.xlabel(\\\"Percentage change\\\")\\n    plt.legend(loc=\\\"upper right\\\")\\n    plt.title(title)\\n\\n\\nplot_returns(ksm_to_btc_returns_daily, \\\"KSM\\\", \\\"Daily returns\\\")\\nplot_returns(dot_to_btc_returns_daily, \\\"DOT\\\", \\\"Daily returns\\\")\";\n",
       "                var nbb_cells = Jupyter.notebook.get_cells();\n",
       "                for (var i = 0; i < nbb_cells.length; ++i) {\n",
       "                    if (nbb_cells[i].input_prompt_number == nbb_cell_id) {\n",
       "                        if (nbb_cells[i].get_text() == nbb_unformatted_code) {\n",
       "                             nbb_cells[i].set_text(nbb_formatted_code);\n",
       "                        }\n",
       "                        break;\n",
       "                    }\n",
       "                }\n",
       "            }, 500);\n",
       "            "
      ],
      "text/plain": [
       "<IPython.core.display.Javascript object>"
      ]
     },
     "metadata": {},
     "output_type": "display_data"
    },
    {
     "data": {
      "application/javascript": [
       "\n",
       "            setTimeout(function() {\n",
       "                var nbb_cell_id = 358;\n",
       "                var nbb_unformatted_code = \"def plot_returns(returns, data_label, title):\\n    plt.hist(returns, density=True, bins=30, alpha=0.5, label=data_label)\\n    plt.ylabel(\\\"Occurences\\\")\\n    plt.xlabel(\\\"Percentage change\\\")\\n    plt.legend(loc=\\\"upper right\\\")\\n    plt.title(title)\\n\\n\\nplot_returns(ksm_to_btc_returns_daily, \\\"KSM\\\", \\\"Daily returns\\\")\\nplot_returns(dot_to_btc_returns_daily, \\\"DOT\\\", \\\"Daily returns\\\")\";\n",
       "                var nbb_formatted_code = \"def plot_returns(returns, data_label, title):\\n    plt.hist(returns, density=True, bins=30, alpha=0.5, label=data_label)\\n    plt.ylabel(\\\"Occurences\\\")\\n    plt.xlabel(\\\"Percentage change\\\")\\n    plt.legend(loc=\\\"upper right\\\")\\n    plt.title(title)\\n\\n\\nplot_returns(ksm_to_btc_returns_daily, \\\"KSM\\\", \\\"Daily returns\\\")\\nplot_returns(dot_to_btc_returns_daily, \\\"DOT\\\", \\\"Daily returns\\\")\";\n",
       "                var nbb_cells = Jupyter.notebook.get_cells();\n",
       "                for (var i = 0; i < nbb_cells.length; ++i) {\n",
       "                    if (nbb_cells[i].input_prompt_number == nbb_cell_id) {\n",
       "                        if (nbb_cells[i].get_text() == nbb_unformatted_code) {\n",
       "                             nbb_cells[i].set_text(nbb_formatted_code);\n",
       "                        }\n",
       "                        break;\n",
       "                    }\n",
       "                }\n",
       "            }, 500);\n",
       "            "
      ],
      "text/plain": [
       "<IPython.core.display.Javascript object>"
      ]
     },
     "metadata": {},
     "output_type": "display_data"
    },
    {
     "data": {
      "application/javascript": [
       "\n",
       "            setTimeout(function() {\n",
       "                var nbb_cell_id = 358;\n",
       "                var nbb_unformatted_code = \"def plot_returns(returns, data_label, title):\\n    plt.hist(returns, density=True, bins=30, alpha=0.5, label=data_label)\\n    plt.ylabel(\\\"Occurences\\\")\\n    plt.xlabel(\\\"Percentage change\\\")\\n    plt.legend(loc=\\\"upper right\\\")\\n    plt.title(title)\\n\\n\\nplot_returns(ksm_to_btc_returns_daily, \\\"KSM\\\", \\\"Daily returns\\\")\\nplot_returns(dot_to_btc_returns_daily, \\\"DOT\\\", \\\"Daily returns\\\")\";\n",
       "                var nbb_formatted_code = \"def plot_returns(returns, data_label, title):\\n    plt.hist(returns, density=True, bins=30, alpha=0.5, label=data_label)\\n    plt.ylabel(\\\"Occurences\\\")\\n    plt.xlabel(\\\"Percentage change\\\")\\n    plt.legend(loc=\\\"upper right\\\")\\n    plt.title(title)\\n\\n\\nplot_returns(ksm_to_btc_returns_daily, \\\"KSM\\\", \\\"Daily returns\\\")\\nplot_returns(dot_to_btc_returns_daily, \\\"DOT\\\", \\\"Daily returns\\\")\";\n",
       "                var nbb_cells = Jupyter.notebook.get_cells();\n",
       "                for (var i = 0; i < nbb_cells.length; ++i) {\n",
       "                    if (nbb_cells[i].input_prompt_number == nbb_cell_id) {\n",
       "                        if (nbb_cells[i].get_text() == nbb_unformatted_code) {\n",
       "                             nbb_cells[i].set_text(nbb_formatted_code);\n",
       "                        }\n",
       "                        break;\n",
       "                    }\n",
       "                }\n",
       "            }, 500);\n",
       "            "
      ],
      "text/plain": [
       "<IPython.core.display.Javascript object>"
      ]
     },
     "metadata": {},
     "output_type": "display_data"
    },
    {
     "data": {
      "application/javascript": [
       "\n",
       "            setTimeout(function() {\n",
       "                var nbb_cell_id = 358;\n",
       "                var nbb_unformatted_code = \"def plot_returns(returns, data_label, title):\\n    plt.hist(returns, density=True, bins=30, alpha=0.5, label=data_label)\\n    plt.ylabel(\\\"Occurences\\\")\\n    plt.xlabel(\\\"Percentage change\\\")\\n    plt.legend(loc=\\\"upper right\\\")\\n    plt.title(title)\\n\\n\\nplot_returns(ksm_to_btc_returns_daily, \\\"KSM\\\", \\\"Daily returns\\\")\\nplot_returns(dot_to_btc_returns_daily, \\\"DOT\\\", \\\"Daily returns\\\")\";\n",
       "                var nbb_formatted_code = \"def plot_returns(returns, data_label, title):\\n    plt.hist(returns, density=True, bins=30, alpha=0.5, label=data_label)\\n    plt.ylabel(\\\"Occurences\\\")\\n    plt.xlabel(\\\"Percentage change\\\")\\n    plt.legend(loc=\\\"upper right\\\")\\n    plt.title(title)\\n\\n\\nplot_returns(ksm_to_btc_returns_daily, \\\"KSM\\\", \\\"Daily returns\\\")\\nplot_returns(dot_to_btc_returns_daily, \\\"DOT\\\", \\\"Daily returns\\\")\";\n",
       "                var nbb_cells = Jupyter.notebook.get_cells();\n",
       "                for (var i = 0; i < nbb_cells.length; ++i) {\n",
       "                    if (nbb_cells[i].input_prompt_number == nbb_cell_id) {\n",
       "                        if (nbb_cells[i].get_text() == nbb_unformatted_code) {\n",
       "                             nbb_cells[i].set_text(nbb_formatted_code);\n",
       "                        }\n",
       "                        break;\n",
       "                    }\n",
       "                }\n",
       "            }, 500);\n",
       "            "
      ],
      "text/plain": [
       "<IPython.core.display.Javascript object>"
      ]
     },
     "metadata": {},
     "output_type": "display_data"
    },
    {
     "data": {
      "application/javascript": [
       "\n",
       "            setTimeout(function() {\n",
       "                var nbb_cell_id = 358;\n",
       "                var nbb_unformatted_code = \"def plot_returns(returns, data_label, title):\\n    plt.hist(returns, density=True, bins=30, alpha=0.5, label=data_label)\\n    plt.ylabel(\\\"Occurences\\\")\\n    plt.xlabel(\\\"Percentage change\\\")\\n    plt.legend(loc=\\\"upper right\\\")\\n    plt.title(title)\\n\\n\\nplot_returns(ksm_to_btc_returns_daily, \\\"KSM\\\", \\\"Daily returns\\\")\\nplot_returns(dot_to_btc_returns_daily, \\\"DOT\\\", \\\"Daily returns\\\")\";\n",
       "                var nbb_formatted_code = \"def plot_returns(returns, data_label, title):\\n    plt.hist(returns, density=True, bins=30, alpha=0.5, label=data_label)\\n    plt.ylabel(\\\"Occurences\\\")\\n    plt.xlabel(\\\"Percentage change\\\")\\n    plt.legend(loc=\\\"upper right\\\")\\n    plt.title(title)\\n\\n\\nplot_returns(ksm_to_btc_returns_daily, \\\"KSM\\\", \\\"Daily returns\\\")\\nplot_returns(dot_to_btc_returns_daily, \\\"DOT\\\", \\\"Daily returns\\\")\";\n",
       "                var nbb_cells = Jupyter.notebook.get_cells();\n",
       "                for (var i = 0; i < nbb_cells.length; ++i) {\n",
       "                    if (nbb_cells[i].input_prompt_number == nbb_cell_id) {\n",
       "                        if (nbb_cells[i].get_text() == nbb_unformatted_code) {\n",
       "                             nbb_cells[i].set_text(nbb_formatted_code);\n",
       "                        }\n",
       "                        break;\n",
       "                    }\n",
       "                }\n",
       "            }, 500);\n",
       "            "
      ],
      "text/plain": [
       "<IPython.core.display.Javascript object>"
      ]
     },
     "metadata": {},
     "output_type": "display_data"
    },
    {
     "data": {
      "application/javascript": [
       "\n",
       "            setTimeout(function() {\n",
       "                var nbb_cell_id = 358;\n",
       "                var nbb_unformatted_code = \"def plot_returns(returns, data_label, title):\\n    plt.hist(returns, density=True, bins=30, alpha=0.5, label=data_label)\\n    plt.ylabel(\\\"Occurences\\\")\\n    plt.xlabel(\\\"Percentage change\\\")\\n    plt.legend(loc=\\\"upper right\\\")\\n    plt.title(title)\\n\\n\\nplot_returns(ksm_to_btc_returns_daily, \\\"KSM\\\", \\\"Daily returns\\\")\\nplot_returns(dot_to_btc_returns_daily, \\\"DOT\\\", \\\"Daily returns\\\")\";\n",
       "                var nbb_formatted_code = \"def plot_returns(returns, data_label, title):\\n    plt.hist(returns, density=True, bins=30, alpha=0.5, label=data_label)\\n    plt.ylabel(\\\"Occurences\\\")\\n    plt.xlabel(\\\"Percentage change\\\")\\n    plt.legend(loc=\\\"upper right\\\")\\n    plt.title(title)\\n\\n\\nplot_returns(ksm_to_btc_returns_daily, \\\"KSM\\\", \\\"Daily returns\\\")\\nplot_returns(dot_to_btc_returns_daily, \\\"DOT\\\", \\\"Daily returns\\\")\";\n",
       "                var nbb_cells = Jupyter.notebook.get_cells();\n",
       "                for (var i = 0; i < nbb_cells.length; ++i) {\n",
       "                    if (nbb_cells[i].input_prompt_number == nbb_cell_id) {\n",
       "                        if (nbb_cells[i].get_text() == nbb_unformatted_code) {\n",
       "                             nbb_cells[i].set_text(nbb_formatted_code);\n",
       "                        }\n",
       "                        break;\n",
       "                    }\n",
       "                }\n",
       "            }, 500);\n",
       "            "
      ],
      "text/plain": [
       "<IPython.core.display.Javascript object>"
      ]
     },
     "metadata": {},
     "output_type": "display_data"
    },
    {
     "data": {
      "application/javascript": [
       "\n",
       "            setTimeout(function() {\n",
       "                var nbb_cell_id = 358;\n",
       "                var nbb_unformatted_code = \"def plot_returns(returns, data_label, title):\\n    plt.hist(returns, density=True, bins=30, alpha=0.5, label=data_label)\\n    plt.ylabel(\\\"Occurences\\\")\\n    plt.xlabel(\\\"Percentage change\\\")\\n    plt.legend(loc=\\\"upper right\\\")\\n    plt.title(title)\\n\\n\\nplot_returns(ksm_to_btc_returns_daily, \\\"KSM\\\", \\\"Daily returns\\\")\\nplot_returns(dot_to_btc_returns_daily, \\\"DOT\\\", \\\"Daily returns\\\")\";\n",
       "                var nbb_formatted_code = \"def plot_returns(returns, data_label, title):\\n    plt.hist(returns, density=True, bins=30, alpha=0.5, label=data_label)\\n    plt.ylabel(\\\"Occurences\\\")\\n    plt.xlabel(\\\"Percentage change\\\")\\n    plt.legend(loc=\\\"upper right\\\")\\n    plt.title(title)\\n\\n\\nplot_returns(ksm_to_btc_returns_daily, \\\"KSM\\\", \\\"Daily returns\\\")\\nplot_returns(dot_to_btc_returns_daily, \\\"DOT\\\", \\\"Daily returns\\\")\";\n",
       "                var nbb_cells = Jupyter.notebook.get_cells();\n",
       "                for (var i = 0; i < nbb_cells.length; ++i) {\n",
       "                    if (nbb_cells[i].input_prompt_number == nbb_cell_id) {\n",
       "                        if (nbb_cells[i].get_text() == nbb_unformatted_code) {\n",
       "                             nbb_cells[i].set_text(nbb_formatted_code);\n",
       "                        }\n",
       "                        break;\n",
       "                    }\n",
       "                }\n",
       "            }, 500);\n",
       "            "
      ],
      "text/plain": [
       "<IPython.core.display.Javascript object>"
      ]
     },
     "metadata": {},
     "output_type": "display_data"
    },
    {
     "data": {
      "application/javascript": [
       "\n",
       "            setTimeout(function() {\n",
       "                var nbb_cell_id = 358;\n",
       "                var nbb_unformatted_code = \"def plot_returns(returns, data_label, title):\\n    plt.hist(returns, density=True, bins=30, alpha=0.5, label=data_label)\\n    plt.ylabel(\\\"Occurences\\\")\\n    plt.xlabel(\\\"Percentage change\\\")\\n    plt.legend(loc=\\\"upper right\\\")\\n    plt.title(title)\\n\\n\\nplot_returns(ksm_to_btc_returns_daily, \\\"KSM\\\", \\\"Daily returns\\\")\\nplot_returns(dot_to_btc_returns_daily, \\\"DOT\\\", \\\"Daily returns\\\")\";\n",
       "                var nbb_formatted_code = \"def plot_returns(returns, data_label, title):\\n    plt.hist(returns, density=True, bins=30, alpha=0.5, label=data_label)\\n    plt.ylabel(\\\"Occurences\\\")\\n    plt.xlabel(\\\"Percentage change\\\")\\n    plt.legend(loc=\\\"upper right\\\")\\n    plt.title(title)\\n\\n\\nplot_returns(ksm_to_btc_returns_daily, \\\"KSM\\\", \\\"Daily returns\\\")\\nplot_returns(dot_to_btc_returns_daily, \\\"DOT\\\", \\\"Daily returns\\\")\";\n",
       "                var nbb_cells = Jupyter.notebook.get_cells();\n",
       "                for (var i = 0; i < nbb_cells.length; ++i) {\n",
       "                    if (nbb_cells[i].input_prompt_number == nbb_cell_id) {\n",
       "                        if (nbb_cells[i].get_text() == nbb_unformatted_code) {\n",
       "                             nbb_cells[i].set_text(nbb_formatted_code);\n",
       "                        }\n",
       "                        break;\n",
       "                    }\n",
       "                }\n",
       "            }, 500);\n",
       "            "
      ],
      "text/plain": [
       "<IPython.core.display.Javascript object>"
      ]
     },
     "metadata": {},
     "output_type": "display_data"
    },
    {
     "data": {
      "application/javascript": [
       "\n",
       "            setTimeout(function() {\n",
       "                var nbb_cell_id = 358;\n",
       "                var nbb_unformatted_code = \"def plot_returns(returns, data_label, title):\\n    plt.hist(returns, density=True, bins=30, alpha=0.5, label=data_label)\\n    plt.ylabel(\\\"Occurences\\\")\\n    plt.xlabel(\\\"Percentage change\\\")\\n    plt.legend(loc=\\\"upper right\\\")\\n    plt.title(title)\\n\\n\\nplot_returns(ksm_to_btc_returns_daily, \\\"KSM\\\", \\\"Daily returns\\\")\\nplot_returns(dot_to_btc_returns_daily, \\\"DOT\\\", \\\"Daily returns\\\")\";\n",
       "                var nbb_formatted_code = \"def plot_returns(returns, data_label, title):\\n    plt.hist(returns, density=True, bins=30, alpha=0.5, label=data_label)\\n    plt.ylabel(\\\"Occurences\\\")\\n    plt.xlabel(\\\"Percentage change\\\")\\n    plt.legend(loc=\\\"upper right\\\")\\n    plt.title(title)\\n\\n\\nplot_returns(ksm_to_btc_returns_daily, \\\"KSM\\\", \\\"Daily returns\\\")\\nplot_returns(dot_to_btc_returns_daily, \\\"DOT\\\", \\\"Daily returns\\\")\";\n",
       "                var nbb_cells = Jupyter.notebook.get_cells();\n",
       "                for (var i = 0; i < nbb_cells.length; ++i) {\n",
       "                    if (nbb_cells[i].input_prompt_number == nbb_cell_id) {\n",
       "                        if (nbb_cells[i].get_text() == nbb_unformatted_code) {\n",
       "                             nbb_cells[i].set_text(nbb_formatted_code);\n",
       "                        }\n",
       "                        break;\n",
       "                    }\n",
       "                }\n",
       "            }, 500);\n",
       "            "
      ],
      "text/plain": [
       "<IPython.core.display.Javascript object>"
      ]
     },
     "metadata": {},
     "output_type": "display_data"
    },
    {
     "data": {
      "application/javascript": [
       "\n",
       "            setTimeout(function() {\n",
       "                var nbb_cell_id = 358;\n",
       "                var nbb_unformatted_code = \"def plot_returns(returns, data_label, title):\\n    plt.hist(returns, density=True, bins=30, alpha=0.5, label=data_label)\\n    plt.ylabel(\\\"Occurences\\\")\\n    plt.xlabel(\\\"Percentage change\\\")\\n    plt.legend(loc=\\\"upper right\\\")\\n    plt.title(title)\\n\\n\\nplot_returns(ksm_to_btc_returns_daily, \\\"KSM\\\", \\\"Daily returns\\\")\\nplot_returns(dot_to_btc_returns_daily, \\\"DOT\\\", \\\"Daily returns\\\")\";\n",
       "                var nbb_formatted_code = \"def plot_returns(returns, data_label, title):\\n    plt.hist(returns, density=True, bins=30, alpha=0.5, label=data_label)\\n    plt.ylabel(\\\"Occurences\\\")\\n    plt.xlabel(\\\"Percentage change\\\")\\n    plt.legend(loc=\\\"upper right\\\")\\n    plt.title(title)\\n\\n\\nplot_returns(ksm_to_btc_returns_daily, \\\"KSM\\\", \\\"Daily returns\\\")\\nplot_returns(dot_to_btc_returns_daily, \\\"DOT\\\", \\\"Daily returns\\\")\";\n",
       "                var nbb_cells = Jupyter.notebook.get_cells();\n",
       "                for (var i = 0; i < nbb_cells.length; ++i) {\n",
       "                    if (nbb_cells[i].input_prompt_number == nbb_cell_id) {\n",
       "                        if (nbb_cells[i].get_text() == nbb_unformatted_code) {\n",
       "                             nbb_cells[i].set_text(nbb_formatted_code);\n",
       "                        }\n",
       "                        break;\n",
       "                    }\n",
       "                }\n",
       "            }, 500);\n",
       "            "
      ],
      "text/plain": [
       "<IPython.core.display.Javascript object>"
      ]
     },
     "metadata": {},
     "output_type": "display_data"
    },
    {
     "data": {
      "application/javascript": [
       "\n",
       "            setTimeout(function() {\n",
       "                var nbb_cell_id = 358;\n",
       "                var nbb_unformatted_code = \"def plot_returns(returns, data_label, title):\\n    plt.hist(returns, density=True, bins=30, alpha=0.5, label=data_label)\\n    plt.ylabel(\\\"Occurences\\\")\\n    plt.xlabel(\\\"Percentage change\\\")\\n    plt.legend(loc=\\\"upper right\\\")\\n    plt.title(title)\\n\\n\\nplot_returns(ksm_to_btc_returns_daily, \\\"KSM\\\", \\\"Daily returns\\\")\\nplot_returns(dot_to_btc_returns_daily, \\\"DOT\\\", \\\"Daily returns\\\")\";\n",
       "                var nbb_formatted_code = \"def plot_returns(returns, data_label, title):\\n    plt.hist(returns, density=True, bins=30, alpha=0.5, label=data_label)\\n    plt.ylabel(\\\"Occurences\\\")\\n    plt.xlabel(\\\"Percentage change\\\")\\n    plt.legend(loc=\\\"upper right\\\")\\n    plt.title(title)\\n\\n\\nplot_returns(ksm_to_btc_returns_daily, \\\"KSM\\\", \\\"Daily returns\\\")\\nplot_returns(dot_to_btc_returns_daily, \\\"DOT\\\", \\\"Daily returns\\\")\";\n",
       "                var nbb_cells = Jupyter.notebook.get_cells();\n",
       "                for (var i = 0; i < nbb_cells.length; ++i) {\n",
       "                    if (nbb_cells[i].input_prompt_number == nbb_cell_id) {\n",
       "                        if (nbb_cells[i].get_text() == nbb_unformatted_code) {\n",
       "                             nbb_cells[i].set_text(nbb_formatted_code);\n",
       "                        }\n",
       "                        break;\n",
       "                    }\n",
       "                }\n",
       "            }, 500);\n",
       "            "
      ],
      "text/plain": [
       "<IPython.core.display.Javascript object>"
      ]
     },
     "metadata": {},
     "output_type": "display_data"
    },
    {
     "data": {
      "application/javascript": [
       "\n",
       "            setTimeout(function() {\n",
       "                var nbb_cell_id = 358;\n",
       "                var nbb_unformatted_code = \"def plot_returns(returns, data_label, title):\\n    plt.hist(returns, density=True, bins=30, alpha=0.5, label=data_label)\\n    plt.ylabel(\\\"Occurences\\\")\\n    plt.xlabel(\\\"Percentage change\\\")\\n    plt.legend(loc=\\\"upper right\\\")\\n    plt.title(title)\\n\\n\\nplot_returns(ksm_to_btc_returns_daily, \\\"KSM\\\", \\\"Daily returns\\\")\\nplot_returns(dot_to_btc_returns_daily, \\\"DOT\\\", \\\"Daily returns\\\")\";\n",
       "                var nbb_formatted_code = \"def plot_returns(returns, data_label, title):\\n    plt.hist(returns, density=True, bins=30, alpha=0.5, label=data_label)\\n    plt.ylabel(\\\"Occurences\\\")\\n    plt.xlabel(\\\"Percentage change\\\")\\n    plt.legend(loc=\\\"upper right\\\")\\n    plt.title(title)\\n\\n\\nplot_returns(ksm_to_btc_returns_daily, \\\"KSM\\\", \\\"Daily returns\\\")\\nplot_returns(dot_to_btc_returns_daily, \\\"DOT\\\", \\\"Daily returns\\\")\";\n",
       "                var nbb_cells = Jupyter.notebook.get_cells();\n",
       "                for (var i = 0; i < nbb_cells.length; ++i) {\n",
       "                    if (nbb_cells[i].input_prompt_number == nbb_cell_id) {\n",
       "                        if (nbb_cells[i].get_text() == nbb_unformatted_code) {\n",
       "                             nbb_cells[i].set_text(nbb_formatted_code);\n",
       "                        }\n",
       "                        break;\n",
       "                    }\n",
       "                }\n",
       "            }, 500);\n",
       "            "
      ],
      "text/plain": [
       "<IPython.core.display.Javascript object>"
      ]
     },
     "metadata": {},
     "output_type": "display_data"
    },
    {
     "data": {
      "application/javascript": [
       "\n",
       "            setTimeout(function() {\n",
       "                var nbb_cell_id = 358;\n",
       "                var nbb_unformatted_code = \"def plot_returns(returns, data_label, title):\\n    plt.hist(returns, density=True, bins=30, alpha=0.5, label=data_label)\\n    plt.ylabel(\\\"Occurences\\\")\\n    plt.xlabel(\\\"Percentage change\\\")\\n    plt.legend(loc=\\\"upper right\\\")\\n    plt.title(title)\\n\\n\\nplot_returns(ksm_to_btc_returns_daily, \\\"KSM\\\", \\\"Daily returns\\\")\\nplot_returns(dot_to_btc_returns_daily, \\\"DOT\\\", \\\"Daily returns\\\")\";\n",
       "                var nbb_formatted_code = \"def plot_returns(returns, data_label, title):\\n    plt.hist(returns, density=True, bins=30, alpha=0.5, label=data_label)\\n    plt.ylabel(\\\"Occurences\\\")\\n    plt.xlabel(\\\"Percentage change\\\")\\n    plt.legend(loc=\\\"upper right\\\")\\n    plt.title(title)\\n\\n\\nplot_returns(ksm_to_btc_returns_daily, \\\"KSM\\\", \\\"Daily returns\\\")\\nplot_returns(dot_to_btc_returns_daily, \\\"DOT\\\", \\\"Daily returns\\\")\";\n",
       "                var nbb_cells = Jupyter.notebook.get_cells();\n",
       "                for (var i = 0; i < nbb_cells.length; ++i) {\n",
       "                    if (nbb_cells[i].input_prompt_number == nbb_cell_id) {\n",
       "                        if (nbb_cells[i].get_text() == nbb_unformatted_code) {\n",
       "                             nbb_cells[i].set_text(nbb_formatted_code);\n",
       "                        }\n",
       "                        break;\n",
       "                    }\n",
       "                }\n",
       "            }, 500);\n",
       "            "
      ],
      "text/plain": [
       "<IPython.core.display.Javascript object>"
      ]
     },
     "metadata": {},
     "output_type": "display_data"
    },
    {
     "data": {
      "application/javascript": [
       "\n",
       "            setTimeout(function() {\n",
       "                var nbb_cell_id = 358;\n",
       "                var nbb_unformatted_code = \"def plot_returns(returns, data_label, title):\\n    plt.hist(returns, density=True, bins=30, alpha=0.5, label=data_label)\\n    plt.ylabel(\\\"Occurences\\\")\\n    plt.xlabel(\\\"Percentage change\\\")\\n    plt.legend(loc=\\\"upper right\\\")\\n    plt.title(title)\\n\\n\\nplot_returns(ksm_to_btc_returns_daily, \\\"KSM\\\", \\\"Daily returns\\\")\\nplot_returns(dot_to_btc_returns_daily, \\\"DOT\\\", \\\"Daily returns\\\")\";\n",
       "                var nbb_formatted_code = \"def plot_returns(returns, data_label, title):\\n    plt.hist(returns, density=True, bins=30, alpha=0.5, label=data_label)\\n    plt.ylabel(\\\"Occurences\\\")\\n    plt.xlabel(\\\"Percentage change\\\")\\n    plt.legend(loc=\\\"upper right\\\")\\n    plt.title(title)\\n\\n\\nplot_returns(ksm_to_btc_returns_daily, \\\"KSM\\\", \\\"Daily returns\\\")\\nplot_returns(dot_to_btc_returns_daily, \\\"DOT\\\", \\\"Daily returns\\\")\";\n",
       "                var nbb_cells = Jupyter.notebook.get_cells();\n",
       "                for (var i = 0; i < nbb_cells.length; ++i) {\n",
       "                    if (nbb_cells[i].input_prompt_number == nbb_cell_id) {\n",
       "                        if (nbb_cells[i].get_text() == nbb_unformatted_code) {\n",
       "                             nbb_cells[i].set_text(nbb_formatted_code);\n",
       "                        }\n",
       "                        break;\n",
       "                    }\n",
       "                }\n",
       "            }, 500);\n",
       "            "
      ],
      "text/plain": [
       "<IPython.core.display.Javascript object>"
      ]
     },
     "metadata": {},
     "output_type": "display_data"
    },
    {
     "data": {
      "application/javascript": [
       "\n",
       "            setTimeout(function() {\n",
       "                var nbb_cell_id = 358;\n",
       "                var nbb_unformatted_code = \"def plot_returns(returns, data_label, title):\\n    plt.hist(returns, density=True, bins=30, alpha=0.5, label=data_label)\\n    plt.ylabel(\\\"Occurences\\\")\\n    plt.xlabel(\\\"Percentage change\\\")\\n    plt.legend(loc=\\\"upper right\\\")\\n    plt.title(title)\\n\\n\\nplot_returns(ksm_to_btc_returns_daily, \\\"KSM\\\", \\\"Daily returns\\\")\\nplot_returns(dot_to_btc_returns_daily, \\\"DOT\\\", \\\"Daily returns\\\")\";\n",
       "                var nbb_formatted_code = \"def plot_returns(returns, data_label, title):\\n    plt.hist(returns, density=True, bins=30, alpha=0.5, label=data_label)\\n    plt.ylabel(\\\"Occurences\\\")\\n    plt.xlabel(\\\"Percentage change\\\")\\n    plt.legend(loc=\\\"upper right\\\")\\n    plt.title(title)\\n\\n\\nplot_returns(ksm_to_btc_returns_daily, \\\"KSM\\\", \\\"Daily returns\\\")\\nplot_returns(dot_to_btc_returns_daily, \\\"DOT\\\", \\\"Daily returns\\\")\";\n",
       "                var nbb_cells = Jupyter.notebook.get_cells();\n",
       "                for (var i = 0; i < nbb_cells.length; ++i) {\n",
       "                    if (nbb_cells[i].input_prompt_number == nbb_cell_id) {\n",
       "                        if (nbb_cells[i].get_text() == nbb_unformatted_code) {\n",
       "                             nbb_cells[i].set_text(nbb_formatted_code);\n",
       "                        }\n",
       "                        break;\n",
       "                    }\n",
       "                }\n",
       "            }, 500);\n",
       "            "
      ],
      "text/plain": [
       "<IPython.core.display.Javascript object>"
      ]
     },
     "metadata": {},
     "output_type": "display_data"
    },
    {
     "data": {
      "application/javascript": [
       "\n",
       "            setTimeout(function() {\n",
       "                var nbb_cell_id = 358;\n",
       "                var nbb_unformatted_code = \"def plot_returns(returns, data_label, title):\\n    plt.hist(returns, density=True, bins=30, alpha=0.5, label=data_label)\\n    plt.ylabel(\\\"Occurences\\\")\\n    plt.xlabel(\\\"Percentage change\\\")\\n    plt.legend(loc=\\\"upper right\\\")\\n    plt.title(title)\\n\\n\\nplot_returns(ksm_to_btc_returns_daily, \\\"KSM\\\", \\\"Daily returns\\\")\\nplot_returns(dot_to_btc_returns_daily, \\\"DOT\\\", \\\"Daily returns\\\")\";\n",
       "                var nbb_formatted_code = \"def plot_returns(returns, data_label, title):\\n    plt.hist(returns, density=True, bins=30, alpha=0.5, label=data_label)\\n    plt.ylabel(\\\"Occurences\\\")\\n    plt.xlabel(\\\"Percentage change\\\")\\n    plt.legend(loc=\\\"upper right\\\")\\n    plt.title(title)\\n\\n\\nplot_returns(ksm_to_btc_returns_daily, \\\"KSM\\\", \\\"Daily returns\\\")\\nplot_returns(dot_to_btc_returns_daily, \\\"DOT\\\", \\\"Daily returns\\\")\";\n",
       "                var nbb_cells = Jupyter.notebook.get_cells();\n",
       "                for (var i = 0; i < nbb_cells.length; ++i) {\n",
       "                    if (nbb_cells[i].input_prompt_number == nbb_cell_id) {\n",
       "                        if (nbb_cells[i].get_text() == nbb_unformatted_code) {\n",
       "                             nbb_cells[i].set_text(nbb_formatted_code);\n",
       "                        }\n",
       "                        break;\n",
       "                    }\n",
       "                }\n",
       "            }, 500);\n",
       "            "
      ],
      "text/plain": [
       "<IPython.core.display.Javascript object>"
      ]
     },
     "metadata": {},
     "output_type": "display_data"
    },
    {
     "data": {
      "application/javascript": [
       "\n",
       "            setTimeout(function() {\n",
       "                var nbb_cell_id = 358;\n",
       "                var nbb_unformatted_code = \"def plot_returns(returns, data_label, title):\\n    plt.hist(returns, density=True, bins=30, alpha=0.5, label=data_label)\\n    plt.ylabel(\\\"Occurences\\\")\\n    plt.xlabel(\\\"Percentage change\\\")\\n    plt.legend(loc=\\\"upper right\\\")\\n    plt.title(title)\\n\\n\\nplot_returns(ksm_to_btc_returns_daily, \\\"KSM\\\", \\\"Daily returns\\\")\\nplot_returns(dot_to_btc_returns_daily, \\\"DOT\\\", \\\"Daily returns\\\")\";\n",
       "                var nbb_formatted_code = \"def plot_returns(returns, data_label, title):\\n    plt.hist(returns, density=True, bins=30, alpha=0.5, label=data_label)\\n    plt.ylabel(\\\"Occurences\\\")\\n    plt.xlabel(\\\"Percentage change\\\")\\n    plt.legend(loc=\\\"upper right\\\")\\n    plt.title(title)\\n\\n\\nplot_returns(ksm_to_btc_returns_daily, \\\"KSM\\\", \\\"Daily returns\\\")\\nplot_returns(dot_to_btc_returns_daily, \\\"DOT\\\", \\\"Daily returns\\\")\";\n",
       "                var nbb_cells = Jupyter.notebook.get_cells();\n",
       "                for (var i = 0; i < nbb_cells.length; ++i) {\n",
       "                    if (nbb_cells[i].input_prompt_number == nbb_cell_id) {\n",
       "                        if (nbb_cells[i].get_text() == nbb_unformatted_code) {\n",
       "                             nbb_cells[i].set_text(nbb_formatted_code);\n",
       "                        }\n",
       "                        break;\n",
       "                    }\n",
       "                }\n",
       "            }, 500);\n",
       "            "
      ],
      "text/plain": [
       "<IPython.core.display.Javascript object>"
      ]
     },
     "metadata": {},
     "output_type": "display_data"
    },
    {
     "data": {
      "application/javascript": [
       "\n",
       "            setTimeout(function() {\n",
       "                var nbb_cell_id = 358;\n",
       "                var nbb_unformatted_code = \"def plot_returns(returns, data_label, title):\\n    plt.hist(returns, density=True, bins=30, alpha=0.5, label=data_label)\\n    plt.ylabel(\\\"Occurences\\\")\\n    plt.xlabel(\\\"Percentage change\\\")\\n    plt.legend(loc=\\\"upper right\\\")\\n    plt.title(title)\\n\\n\\nplot_returns(ksm_to_btc_returns_daily, \\\"KSM\\\", \\\"Daily returns\\\")\\nplot_returns(dot_to_btc_returns_daily, \\\"DOT\\\", \\\"Daily returns\\\")\";\n",
       "                var nbb_formatted_code = \"def plot_returns(returns, data_label, title):\\n    plt.hist(returns, density=True, bins=30, alpha=0.5, label=data_label)\\n    plt.ylabel(\\\"Occurences\\\")\\n    plt.xlabel(\\\"Percentage change\\\")\\n    plt.legend(loc=\\\"upper right\\\")\\n    plt.title(title)\\n\\n\\nplot_returns(ksm_to_btc_returns_daily, \\\"KSM\\\", \\\"Daily returns\\\")\\nplot_returns(dot_to_btc_returns_daily, \\\"DOT\\\", \\\"Daily returns\\\")\";\n",
       "                var nbb_cells = Jupyter.notebook.get_cells();\n",
       "                for (var i = 0; i < nbb_cells.length; ++i) {\n",
       "                    if (nbb_cells[i].input_prompt_number == nbb_cell_id) {\n",
       "                        if (nbb_cells[i].get_text() == nbb_unformatted_code) {\n",
       "                             nbb_cells[i].set_text(nbb_formatted_code);\n",
       "                        }\n",
       "                        break;\n",
       "                    }\n",
       "                }\n",
       "            }, 500);\n",
       "            "
      ],
      "text/plain": [
       "<IPython.core.display.Javascript object>"
      ]
     },
     "metadata": {},
     "output_type": "display_data"
    },
    {
     "data": {
      "application/javascript": [
       "\n",
       "            setTimeout(function() {\n",
       "                var nbb_cell_id = 358;\n",
       "                var nbb_unformatted_code = \"def plot_returns(returns, data_label, title):\\n    plt.hist(returns, density=True, bins=30, alpha=0.5, label=data_label)\\n    plt.ylabel(\\\"Occurences\\\")\\n    plt.xlabel(\\\"Percentage change\\\")\\n    plt.legend(loc=\\\"upper right\\\")\\n    plt.title(title)\\n\\n\\nplot_returns(ksm_to_btc_returns_daily, \\\"KSM\\\", \\\"Daily returns\\\")\\nplot_returns(dot_to_btc_returns_daily, \\\"DOT\\\", \\\"Daily returns\\\")\";\n",
       "                var nbb_formatted_code = \"def plot_returns(returns, data_label, title):\\n    plt.hist(returns, density=True, bins=30, alpha=0.5, label=data_label)\\n    plt.ylabel(\\\"Occurences\\\")\\n    plt.xlabel(\\\"Percentage change\\\")\\n    plt.legend(loc=\\\"upper right\\\")\\n    plt.title(title)\\n\\n\\nplot_returns(ksm_to_btc_returns_daily, \\\"KSM\\\", \\\"Daily returns\\\")\\nplot_returns(dot_to_btc_returns_daily, \\\"DOT\\\", \\\"Daily returns\\\")\";\n",
       "                var nbb_cells = Jupyter.notebook.get_cells();\n",
       "                for (var i = 0; i < nbb_cells.length; ++i) {\n",
       "                    if (nbb_cells[i].input_prompt_number == nbb_cell_id) {\n",
       "                        if (nbb_cells[i].get_text() == nbb_unformatted_code) {\n",
       "                             nbb_cells[i].set_text(nbb_formatted_code);\n",
       "                        }\n",
       "                        break;\n",
       "                    }\n",
       "                }\n",
       "            }, 500);\n",
       "            "
      ],
      "text/plain": [
       "<IPython.core.display.Javascript object>"
      ]
     },
     "metadata": {},
     "output_type": "display_data"
    },
    {
     "data": {
      "application/javascript": [
       "\n",
       "            setTimeout(function() {\n",
       "                var nbb_cell_id = 358;\n",
       "                var nbb_unformatted_code = \"def plot_returns(returns, data_label, title):\\n    plt.hist(returns, density=True, bins=30, alpha=0.5, label=data_label)\\n    plt.ylabel(\\\"Occurences\\\")\\n    plt.xlabel(\\\"Percentage change\\\")\\n    plt.legend(loc=\\\"upper right\\\")\\n    plt.title(title)\\n\\n\\nplot_returns(ksm_to_btc_returns_daily, \\\"KSM\\\", \\\"Daily returns\\\")\\nplot_returns(dot_to_btc_returns_daily, \\\"DOT\\\", \\\"Daily returns\\\")\";\n",
       "                var nbb_formatted_code = \"def plot_returns(returns, data_label, title):\\n    plt.hist(returns, density=True, bins=30, alpha=0.5, label=data_label)\\n    plt.ylabel(\\\"Occurences\\\")\\n    plt.xlabel(\\\"Percentage change\\\")\\n    plt.legend(loc=\\\"upper right\\\")\\n    plt.title(title)\\n\\n\\nplot_returns(ksm_to_btc_returns_daily, \\\"KSM\\\", \\\"Daily returns\\\")\\nplot_returns(dot_to_btc_returns_daily, \\\"DOT\\\", \\\"Daily returns\\\")\";\n",
       "                var nbb_cells = Jupyter.notebook.get_cells();\n",
       "                for (var i = 0; i < nbb_cells.length; ++i) {\n",
       "                    if (nbb_cells[i].input_prompt_number == nbb_cell_id) {\n",
       "                        if (nbb_cells[i].get_text() == nbb_unformatted_code) {\n",
       "                             nbb_cells[i].set_text(nbb_formatted_code);\n",
       "                        }\n",
       "                        break;\n",
       "                    }\n",
       "                }\n",
       "            }, 500);\n",
       "            "
      ],
      "text/plain": [
       "<IPython.core.display.Javascript object>"
      ]
     },
     "metadata": {},
     "output_type": "display_data"
    },
    {
     "data": {
      "application/javascript": [
       "\n",
       "            setTimeout(function() {\n",
       "                var nbb_cell_id = 358;\n",
       "                var nbb_unformatted_code = \"def plot_returns(returns, data_label, title):\\n    plt.hist(returns, density=True, bins=30, alpha=0.5, label=data_label)\\n    plt.ylabel(\\\"Occurences\\\")\\n    plt.xlabel(\\\"Percentage change\\\")\\n    plt.legend(loc=\\\"upper right\\\")\\n    plt.title(title)\\n\\n\\nplot_returns(ksm_to_btc_returns_daily, \\\"KSM\\\", \\\"Daily returns\\\")\\nplot_returns(dot_to_btc_returns_daily, \\\"DOT\\\", \\\"Daily returns\\\")\";\n",
       "                var nbb_formatted_code = \"def plot_returns(returns, data_label, title):\\n    plt.hist(returns, density=True, bins=30, alpha=0.5, label=data_label)\\n    plt.ylabel(\\\"Occurences\\\")\\n    plt.xlabel(\\\"Percentage change\\\")\\n    plt.legend(loc=\\\"upper right\\\")\\n    plt.title(title)\\n\\n\\nplot_returns(ksm_to_btc_returns_daily, \\\"KSM\\\", \\\"Daily returns\\\")\\nplot_returns(dot_to_btc_returns_daily, \\\"DOT\\\", \\\"Daily returns\\\")\";\n",
       "                var nbb_cells = Jupyter.notebook.get_cells();\n",
       "                for (var i = 0; i < nbb_cells.length; ++i) {\n",
       "                    if (nbb_cells[i].input_prompt_number == nbb_cell_id) {\n",
       "                        if (nbb_cells[i].get_text() == nbb_unformatted_code) {\n",
       "                             nbb_cells[i].set_text(nbb_formatted_code);\n",
       "                        }\n",
       "                        break;\n",
       "                    }\n",
       "                }\n",
       "            }, 500);\n",
       "            "
      ],
      "text/plain": [
       "<IPython.core.display.Javascript object>"
      ]
     },
     "metadata": {},
     "output_type": "display_data"
    },
    {
     "data": {
      "application/javascript": [
       "\n",
       "            setTimeout(function() {\n",
       "                var nbb_cell_id = 358;\n",
       "                var nbb_unformatted_code = \"def plot_returns(returns, data_label, title):\\n    plt.hist(returns, density=True, bins=30, alpha=0.5, label=data_label)\\n    plt.ylabel(\\\"Occurences\\\")\\n    plt.xlabel(\\\"Percentage change\\\")\\n    plt.legend(loc=\\\"upper right\\\")\\n    plt.title(title)\\n\\n\\nplot_returns(ksm_to_btc_returns_daily, \\\"KSM\\\", \\\"Daily returns\\\")\\nplot_returns(dot_to_btc_returns_daily, \\\"DOT\\\", \\\"Daily returns\\\")\";\n",
       "                var nbb_formatted_code = \"def plot_returns(returns, data_label, title):\\n    plt.hist(returns, density=True, bins=30, alpha=0.5, label=data_label)\\n    plt.ylabel(\\\"Occurences\\\")\\n    plt.xlabel(\\\"Percentage change\\\")\\n    plt.legend(loc=\\\"upper right\\\")\\n    plt.title(title)\\n\\n\\nplot_returns(ksm_to_btc_returns_daily, \\\"KSM\\\", \\\"Daily returns\\\")\\nplot_returns(dot_to_btc_returns_daily, \\\"DOT\\\", \\\"Daily returns\\\")\";\n",
       "                var nbb_cells = Jupyter.notebook.get_cells();\n",
       "                for (var i = 0; i < nbb_cells.length; ++i) {\n",
       "                    if (nbb_cells[i].input_prompt_number == nbb_cell_id) {\n",
       "                        if (nbb_cells[i].get_text() == nbb_unformatted_code) {\n",
       "                             nbb_cells[i].set_text(nbb_formatted_code);\n",
       "                        }\n",
       "                        break;\n",
       "                    }\n",
       "                }\n",
       "            }, 500);\n",
       "            "
      ],
      "text/plain": [
       "<IPython.core.display.Javascript object>"
      ]
     },
     "metadata": {},
     "output_type": "display_data"
    },
    {
     "data": {
      "application/javascript": [
       "\n",
       "            setTimeout(function() {\n",
       "                var nbb_cell_id = 358;\n",
       "                var nbb_unformatted_code = \"def plot_returns(returns, data_label, title):\\n    plt.hist(returns, density=True, bins=30, alpha=0.5, label=data_label)\\n    plt.ylabel(\\\"Occurences\\\")\\n    plt.xlabel(\\\"Percentage change\\\")\\n    plt.legend(loc=\\\"upper right\\\")\\n    plt.title(title)\\n\\n\\nplot_returns(ksm_to_btc_returns_daily, \\\"KSM\\\", \\\"Daily returns\\\")\\nplot_returns(dot_to_btc_returns_daily, \\\"DOT\\\", \\\"Daily returns\\\")\";\n",
       "                var nbb_formatted_code = \"def plot_returns(returns, data_label, title):\\n    plt.hist(returns, density=True, bins=30, alpha=0.5, label=data_label)\\n    plt.ylabel(\\\"Occurences\\\")\\n    plt.xlabel(\\\"Percentage change\\\")\\n    plt.legend(loc=\\\"upper right\\\")\\n    plt.title(title)\\n\\n\\nplot_returns(ksm_to_btc_returns_daily, \\\"KSM\\\", \\\"Daily returns\\\")\\nplot_returns(dot_to_btc_returns_daily, \\\"DOT\\\", \\\"Daily returns\\\")\";\n",
       "                var nbb_cells = Jupyter.notebook.get_cells();\n",
       "                for (var i = 0; i < nbb_cells.length; ++i) {\n",
       "                    if (nbb_cells[i].input_prompt_number == nbb_cell_id) {\n",
       "                        if (nbb_cells[i].get_text() == nbb_unformatted_code) {\n",
       "                             nbb_cells[i].set_text(nbb_formatted_code);\n",
       "                        }\n",
       "                        break;\n",
       "                    }\n",
       "                }\n",
       "            }, 500);\n",
       "            "
      ],
      "text/plain": [
       "<IPython.core.display.Javascript object>"
      ]
     },
     "metadata": {},
     "output_type": "display_data"
    },
    {
     "data": {
      "application/javascript": [
       "\n",
       "            setTimeout(function() {\n",
       "                var nbb_cell_id = 358;\n",
       "                var nbb_unformatted_code = \"def plot_returns(returns, data_label, title):\\n    plt.hist(returns, density=True, bins=30, alpha=0.5, label=data_label)\\n    plt.ylabel(\\\"Occurences\\\")\\n    plt.xlabel(\\\"Percentage change\\\")\\n    plt.legend(loc=\\\"upper right\\\")\\n    plt.title(title)\\n\\n\\nplot_returns(ksm_to_btc_returns_daily, \\\"KSM\\\", \\\"Daily returns\\\")\\nplot_returns(dot_to_btc_returns_daily, \\\"DOT\\\", \\\"Daily returns\\\")\";\n",
       "                var nbb_formatted_code = \"def plot_returns(returns, data_label, title):\\n    plt.hist(returns, density=True, bins=30, alpha=0.5, label=data_label)\\n    plt.ylabel(\\\"Occurences\\\")\\n    plt.xlabel(\\\"Percentage change\\\")\\n    plt.legend(loc=\\\"upper right\\\")\\n    plt.title(title)\\n\\n\\nplot_returns(ksm_to_btc_returns_daily, \\\"KSM\\\", \\\"Daily returns\\\")\\nplot_returns(dot_to_btc_returns_daily, \\\"DOT\\\", \\\"Daily returns\\\")\";\n",
       "                var nbb_cells = Jupyter.notebook.get_cells();\n",
       "                for (var i = 0; i < nbb_cells.length; ++i) {\n",
       "                    if (nbb_cells[i].input_prompt_number == nbb_cell_id) {\n",
       "                        if (nbb_cells[i].get_text() == nbb_unformatted_code) {\n",
       "                             nbb_cells[i].set_text(nbb_formatted_code);\n",
       "                        }\n",
       "                        break;\n",
       "                    }\n",
       "                }\n",
       "            }, 500);\n",
       "            "
      ],
      "text/plain": [
       "<IPython.core.display.Javascript object>"
      ]
     },
     "metadata": {},
     "output_type": "display_data"
    },
    {
     "data": {
      "application/javascript": [
       "\n",
       "            setTimeout(function() {\n",
       "                var nbb_cell_id = 358;\n",
       "                var nbb_unformatted_code = \"def plot_returns(returns, data_label, title):\\n    plt.hist(returns, density=True, bins=30, alpha=0.5, label=data_label)\\n    plt.ylabel(\\\"Occurences\\\")\\n    plt.xlabel(\\\"Percentage change\\\")\\n    plt.legend(loc=\\\"upper right\\\")\\n    plt.title(title)\\n\\n\\nplot_returns(ksm_to_btc_returns_daily, \\\"KSM\\\", \\\"Daily returns\\\")\\nplot_returns(dot_to_btc_returns_daily, \\\"DOT\\\", \\\"Daily returns\\\")\";\n",
       "                var nbb_formatted_code = \"def plot_returns(returns, data_label, title):\\n    plt.hist(returns, density=True, bins=30, alpha=0.5, label=data_label)\\n    plt.ylabel(\\\"Occurences\\\")\\n    plt.xlabel(\\\"Percentage change\\\")\\n    plt.legend(loc=\\\"upper right\\\")\\n    plt.title(title)\\n\\n\\nplot_returns(ksm_to_btc_returns_daily, \\\"KSM\\\", \\\"Daily returns\\\")\\nplot_returns(dot_to_btc_returns_daily, \\\"DOT\\\", \\\"Daily returns\\\")\";\n",
       "                var nbb_cells = Jupyter.notebook.get_cells();\n",
       "                for (var i = 0; i < nbb_cells.length; ++i) {\n",
       "                    if (nbb_cells[i].input_prompt_number == nbb_cell_id) {\n",
       "                        if (nbb_cells[i].get_text() == nbb_unformatted_code) {\n",
       "                             nbb_cells[i].set_text(nbb_formatted_code);\n",
       "                        }\n",
       "                        break;\n",
       "                    }\n",
       "                }\n",
       "            }, 500);\n",
       "            "
      ],
      "text/plain": [
       "<IPython.core.display.Javascript object>"
      ]
     },
     "metadata": {},
     "output_type": "display_data"
    },
    {
     "data": {
      "application/javascript": [
       "\n",
       "            setTimeout(function() {\n",
       "                var nbb_cell_id = 358;\n",
       "                var nbb_unformatted_code = \"def plot_returns(returns, data_label, title):\\n    plt.hist(returns, density=True, bins=30, alpha=0.5, label=data_label)\\n    plt.ylabel(\\\"Occurences\\\")\\n    plt.xlabel(\\\"Percentage change\\\")\\n    plt.legend(loc=\\\"upper right\\\")\\n    plt.title(title)\\n\\n\\nplot_returns(ksm_to_btc_returns_daily, \\\"KSM\\\", \\\"Daily returns\\\")\\nplot_returns(dot_to_btc_returns_daily, \\\"DOT\\\", \\\"Daily returns\\\")\";\n",
       "                var nbb_formatted_code = \"def plot_returns(returns, data_label, title):\\n    plt.hist(returns, density=True, bins=30, alpha=0.5, label=data_label)\\n    plt.ylabel(\\\"Occurences\\\")\\n    plt.xlabel(\\\"Percentage change\\\")\\n    plt.legend(loc=\\\"upper right\\\")\\n    plt.title(title)\\n\\n\\nplot_returns(ksm_to_btc_returns_daily, \\\"KSM\\\", \\\"Daily returns\\\")\\nplot_returns(dot_to_btc_returns_daily, \\\"DOT\\\", \\\"Daily returns\\\")\";\n",
       "                var nbb_cells = Jupyter.notebook.get_cells();\n",
       "                for (var i = 0; i < nbb_cells.length; ++i) {\n",
       "                    if (nbb_cells[i].input_prompt_number == nbb_cell_id) {\n",
       "                        if (nbb_cells[i].get_text() == nbb_unformatted_code) {\n",
       "                             nbb_cells[i].set_text(nbb_formatted_code);\n",
       "                        }\n",
       "                        break;\n",
       "                    }\n",
       "                }\n",
       "            }, 500);\n",
       "            "
      ],
      "text/plain": [
       "<IPython.core.display.Javascript object>"
      ]
     },
     "metadata": {},
     "output_type": "display_data"
    }
   ],
   "source": [
    "def plot_returns(returns, data_label, title):\n",
    "    plt.hist(returns, density=True, bins=30, alpha=0.5, label=data_label)\n",
    "    plt.ylabel(\"Occurences\")\n",
    "    plt.xlabel(\"Percentage change\")\n",
    "    plt.legend(loc=\"upper right\")\n",
    "    plt.title(title)\n",
    "\n",
    "\n",
    "plot_returns(ksm_to_btc_returns_daily, \"KSM\", \"Daily returns\")\n",
    "plot_returns(dot_to_btc_returns_daily, \"DOT\", \"Daily returns\")"
   ]
  },
  {
   "cell_type": "markdown",
   "id": "0102f177",
   "metadata": {},
   "source": [
    "# Monte Carlo Simulation\n",
    "https://arxiv.org/pdf/2002.08099.pdf"
   ]
  },
  {
   "cell_type": "markdown",
   "id": "05a0c9f0",
   "metadata": {},
   "source": [
    "Independently simulates the prices of collateral and BTC.\n",
    "\n",
    "Selects the worst collateral/USD price trajectory, then picks the BTC/USD price trajectory that has the closest pearson correlation to the one in the real data sample.\n",
    "\n",
    "All vaults are considered a single entity, but they are separated from the liquidation vault. When vaults become undercollateralized, liquidators acquire as much liquidity as possible to arbitrage, taking slippage into account. Liquidators are assumed ot start up their own vault before liquidating, so both collateral and Bitcoin liquidity need to be modelled.\n",
    "\n",
    "Even if slippage is considered, it is assumed that prices recover by the next day. While this is an optimistic assumption, the conservative slippage model balances it out."
   ]
  },
  {
   "cell_type": "code",
   "execution_count": 56,
   "id": "7728fa28",
   "metadata": {},
   "outputs": [
    {
     "data": {
      "application/javascript": [
       "\n",
       "            setTimeout(function() {\n",
       "                var nbb_cell_id = 56;\n",
       "                var nbb_unformatted_code = \"# Should simulate more scenarios\\nSIMULATED_SCENARIOS = 500\\nPRICE_PATHS_PER_SIMULATION = 500\\nPREDICTED_DAYS = 100\\n\\n# premium redeem is skipped\\nPREMIUM_REDEEM_BONUS = 0.05\";\n",
       "                var nbb_formatted_code = \"# Should simulate more scenarios\\nSIMULATED_SCENARIOS = 500\\nPRICE_PATHS_PER_SIMULATION = 500\\nPREDICTED_DAYS = 100\\n\\n# premium redeem is skipped\\nPREMIUM_REDEEM_BONUS = 0.05\";\n",
       "                var nbb_cells = Jupyter.notebook.get_cells();\n",
       "                for (var i = 0; i < nbb_cells.length; ++i) {\n",
       "                    if (nbb_cells[i].input_prompt_number == nbb_cell_id) {\n",
       "                        if (nbb_cells[i].get_text() == nbb_unformatted_code) {\n",
       "                             nbb_cells[i].set_text(nbb_formatted_code);\n",
       "                        }\n",
       "                        break;\n",
       "                    }\n",
       "                }\n",
       "            }, 500);\n",
       "            "
      ],
      "text/plain": [
       "<IPython.core.display.Javascript object>"
      ]
     },
     "metadata": {},
     "output_type": "display_data"
    },
    {
     "data": {
      "application/javascript": [
       "\n",
       "            setTimeout(function() {\n",
       "                var nbb_cell_id = 56;\n",
       "                var nbb_unformatted_code = \"# Should simulate more scenarios\\nSIMULATED_SCENARIOS = 500\\nPRICE_PATHS_PER_SIMULATION = 500\\nPREDICTED_DAYS = 100\\n\\n# premium redeem is skipped\\nPREMIUM_REDEEM_BONUS = 0.05\";\n",
       "                var nbb_formatted_code = \"# Should simulate more scenarios\\nSIMULATED_SCENARIOS = 500\\nPRICE_PATHS_PER_SIMULATION = 500\\nPREDICTED_DAYS = 100\\n\\n# premium redeem is skipped\\nPREMIUM_REDEEM_BONUS = 0.05\";\n",
       "                var nbb_cells = Jupyter.notebook.get_cells();\n",
       "                for (var i = 0; i < nbb_cells.length; ++i) {\n",
       "                    if (nbb_cells[i].input_prompt_number == nbb_cell_id) {\n",
       "                        if (nbb_cells[i].get_text() == nbb_unformatted_code) {\n",
       "                             nbb_cells[i].set_text(nbb_formatted_code);\n",
       "                        }\n",
       "                        break;\n",
       "                    }\n",
       "                }\n",
       "            }, 500);\n",
       "            "
      ],
      "text/plain": [
       "<IPython.core.display.Javascript object>"
      ]
     },
     "metadata": {},
     "output_type": "display_data"
    }
   ],
   "source": [
    "# Should simulate more scenarios\n",
    "SIMULATED_SCENARIOS = 500\n",
    "PRICE_PATHS_PER_SIMULATION = 500\n",
    "PREDICTED_DAYS = 100\n",
    "\n",
    "# premium redeem is skipped\n",
    "PREMIUM_REDEEM_BONUS = 0.05"
   ]
  },
  {
   "cell_type": "code",
   "execution_count": 18,
   "id": "494e3e39",
   "metadata": {},
   "outputs": [
    {
     "data": {
      "application/javascript": [
       "\n",
       "            setTimeout(function() {\n",
       "                var nbb_cell_id = 18;\n",
       "                var nbb_unformatted_code = \"# Monte Carlo price simulation (Geometric Brownian Motion)\\n# Reference article: https://towardsdatascience.com/simulating-stock-prices-in-python-using-geometric-brownian-motion-8dfd6e8c6b18\\n\\n\\ndef stochastic_price_simulation(\\n    returns, initial_price, prediction_days, scenario_count\\n):\\n    So = initial_price\\n    dt = 1\\n    T = prediction_days\\n    N = T / dt\\n    t = np.arange(1, int(N) + 1)\\n    mu = np.mean(returns)\\n    sigma = np.std(returns)\\n    scen_size = scenario_count\\n    b = {str(scen): np.random.normal(0, 1, int(N)) for scen in range(1, scen_size + 1)}\\n    W = {str(scen): b[str(scen)].cumsum() for scen in range(1, scen_size + 1)}\\n\\n    # Calculating drift and diffusion components\\n    drift = (mu - 0.5 * sigma ** 2) * t\\n    diffusion = {str(scen): sigma * W[str(scen)] for scen in range(1, scen_size + 1)}\\n\\n    # Making the predictions\\n    S = np.array(\\n        [So * np.exp(drift + diffusion[str(scen)]) for scen in range(1, scen_size + 1)]\\n    )\\n    S = np.hstack(\\n        (np.array([[So] for scen in range(scen_size)]), S)\\n    )  # add So to the beginning series\\n\\n    # Plotting the simulations\\n    #     plt.figure(figsize = (20,10))\\n    #     for i in range(scen_size):\\n    #         plt.title(\\\"Daily Volatility: \\\" + str(sigma))\\n    #         plt.plot(S[i, :])\\n    #         plt.ylabel('Price')\\n    #         plt.xlabel('Prediction Days')\\n    #     plt.show()\\n    return S\\n\\n\\ndef get_worst_price_trajectory(S):\\n    min_price = S[0, -1]\\n    index = 0\\n    for i in range(len(S)):\\n        if S[i, -1] < min_price:\\n            min_price = S[i, -1]\\n            index = i\\n    return S[index, :]\\n\\n\\ndef get_trajectory_with_closest_correlation(S, base_trajectory, corr):\\n    picked_trajectory = S[0, :]\\n    index = 0\\n    closest_found_correlation, _ = pearsonr(base_trajectory, S[0, :])\\n    for i in range(len(S)):\\n        tmp_corr, _ = pearsonr(base_trajectory, S[i, :])\\n        if abs(tmp_corr - corr) < abs(closest_found_correlation - corr):\\n            closest_found_correlation = tmp_corr\\n            picked_trajectory = S[i, :]\\n            index = i\\n    return S[index, :], closest_found_correlation\\n\\n\\ndef find_profitable_volume(\\n    secure_threshold,\\n    collateral_usd,\\n    btc_usd,\\n    collateral_liquidity_model,\\n    btc_liquidity_model,\\n    liquidation_vault_issued,\\n    liquidation_vault_collateral,\\n):\\n    burn_exchange_rate = (\\n        (liquidation_vault_collateral * collateral_usd)\\n        / (liquidation_vault_issued * btc_usd)\\n        * (collateral_usd / btc_usd)\\n    )\\n    btc_amount = liquidation_vault_issued\\n    while btc_amount > 0:\\n        collateral_amount = btc_amount * btc_usd / collateral_usd * secure_threshold\\n        btc_price_change = btc_liquidity_model([[btc_amount]])[0][0]\\n        collateral_price_change = collateral_liquidity_model([[collateral_amount]])[0][\\n            0\\n        ]\\n        new_btc_price = btc_usd * (1 + btc_price_change)\\n        new_collateral_price = collateral_usd * (1 + collateral_price_change)\\n        # assume that if new exchange rate is equal to the burn rate,\\n        # we stop buying\\n        new_exchange_rate = new_collateral_price / new_btc_price\\n        if burn_exchange_rate >= new_exchange_rate:\\n            return btc_amount\\n        btc_amount -= 5\\n    return 0\\n\\n\\ndef get_days_of_undercollateralization(\\n    worst_collateral_scenario_trajectory,\\n    correlated_btc_scenario_trajectory,\\n    collateral_liquidity_model,\\n    btc_liquidity_model,\\n    debt_ceiling_usd,\\n    secure_threshold,\\n    liquidation_threshold,\\n):\\n    starting_collateral_price = worst_collateral_scenario_trajectory[0]\\n    starting_btc_price = correlated_btc_scenario_trajectory[0]\\n    vaults_issued = (debt_ceiling_usd / secure_threshold) / starting_btc_price\\n    vaults_collateral = debt_ceiling_usd / starting_collateral_price\\n\\n    liquidation_vault_issued = 0\\n    liquidation_vault_collateral = 0\\n    current_collateral_to_btc_price = starting_collateral_price / starting_btc_price\\n\\n    system_collateral_daily = []\\n    vault_collateral_daily = []\\n    liquidation_vault_btc_daily = []\\n    daily_collateralization = []\\n    days_of_undercollateralization = 0\\n    for (collateral_usd, btc_usd) in zip(\\n        worst_collateral_scenario_trajectory, correlated_btc_scenario_trajectory\\n    ):\\n        current_collateral_to_btc_price = collateral_usd / btc_usd\\n        vault_required_collateral = vaults_issued / current_collateral_to_btc_price\\n        system_required_collateral = (\\n            vaults_issued + liquidation_vault_issued\\n        ) / current_collateral_to_btc_price\\n        system_collateral_daily.append(system_required_collateral)\\n        vault_collateral_daily.append(vaults_collateral)\\n        liquidation_vault_btc_daily.append(liquidation_vault_issued)\\n        system_collateralization = (\\n            vaults_collateral + liquidation_vault_collateral\\n        ) / system_required_collateral\\n        if (\\n            vaults_issued > 0\\n            and vaults_collateral / vault_required_collateral < liquidation_threshold\\n        ):\\n            # liquidate every vault\\n            liquidation_vault_issued = vaults_issued\\n            vaults_issued = 0\\n            liquidation_vault_collateral = vaults_collateral\\n            vaults_collateral = 0\\n        if liquidation_vault_issued > 0:\\n            btc_arbitrage_amount = find_profitable_volume(\\n                secure_threshold,\\n                collateral_usd,\\n                btc_usd,\\n                collateral_liquidity_model,\\n                btc_liquidity_model,\\n                liquidation_vault_issued,\\n                liquidation_vault_collateral,\\n            )\\n\\n            # mint interbtc for the liquidation\\n            newly_added_collateral = (\\n                btc_arbitrage_amount / current_collateral_to_btc_price\\n            ) * secure_threshold\\n            vaults_issued += btc_arbitrage_amount\\n            vaults_collateral += newly_added_collateral\\n\\n            # perform burn redeem\\n            burn_exchange_rate = (\\n                (liquidation_vault_collateral * collateral_usd)\\n                / (liquidation_vault_issued * btc_usd)\\n                * current_collateral_to_btc_price\\n            )\\n            burn_dot_payout = btc_arbitrage_amount / burn_exchange_rate\\n            liquidation_vault_issued -= btc_arbitrage_amount\\n            liquidation_vault_collateral = round(\\n                liquidation_vault_collateral - burn_dot_payout\\n            )\\n        daily_collateralization.append(system_collateralization)\\n        if system_collateralization < 1:\\n            days_of_undercollateralization += 1\\n    return (\\n        days_of_undercollateralization,\\n        daily_collateralization,\\n        liquidation_vault_btc_daily,\\n    )\\n\\n\\ndef get_worst_pair_of_price_trajectories(\\n    scenarios_count,\\n    asset_corr,\\n    debt_ceiling_usd,\\n    secure_threshold,\\n    liquidation_threshold,\\n    collateral_usd_returns_daily,\\n    collateral_to_usd_daily,\\n    collateral_liquidity_model,\\n    btc_usd_returns_daily,\\n    btc_to_usd_daily,\\n    btc_liquidity_model,\\n):\\n    worst_btc_trajectory = []\\n    worst_collateral_trajectory = []\\n    most_days_of_undercollateralization = 0\\n    worst_daily_collateralization_trajectory = []\\n    worst_liquidation_vault_collateral_trajectory = []\\n    for i in range(scenarios_count):\\n        collateral_price_simulations = stochastic_price_simulation(\\n            collateral_usd_returns_daily,\\n            collateral_to_usd_daily[-1],\\n            PREDICTED_DAYS,\\n            PRICE_PATHS_PER_SIMULATION,\\n        )\\n        worst_collateral_scenario_trajectory = get_worst_price_trajectory(\\n            collateral_price_simulations\\n        )\\n        btc_price_simulations = stochastic_price_simulation(\\n            btc_usd_returns_daily,\\n            btc_to_usd_daily[-1],\\n            PREDICTED_DAYS,\\n            PRICE_PATHS_PER_SIMULATION,\\n        )\\n        (\\n            correlated_btc_scenario_trajectory,\\n            closest_found_correlation,\\n        ) = get_trajectory_with_closest_correlation(\\n            btc_price_simulations, worst_collateral_scenario_trajectory, asset_corr\\n        )\\n        (\\n            days_of_undercollateralization,\\n            daily_collateralization,\\n            liquidation_vault_btc_daily,\\n        ) = get_days_of_undercollateralization(\\n            worst_collateral_scenario_trajectory,\\n            correlated_btc_scenario_trajectory,\\n            collateral_liquidity_model,\\n            btc_liquidity_model,\\n            debt_ceiling_usd,\\n            secure_threshold,\\n            liquidation_threshold,\\n        )\\n        if (\\n            days_of_undercollateralization > most_days_of_undercollateralization\\n            or most_days_of_undercollateralization == 0\\n        ):\\n            most_days_of_undercollateralization = days_of_undercollateralization\\n            worst_btc_trajectory = correlated_btc_scenario_trajectory\\n            worst_collateral_trajectory = worst_collateral_scenario_trajectory\\n            worst_daily_collateralization_trajectory = daily_collateralization\\n            worst_liquidation_vault_collateral_trajectory = liquidation_vault_btc_daily\\n    return (\\n        worst_collateral_trajectory,\\n        worst_btc_trajectory,\\n        worst_daily_collateralization_trajectory,\\n        worst_liquidation_vault_collateral_trajectory,\\n        most_days_of_undercollateralization,\\n    )\";\n",
       "                var nbb_formatted_code = \"# Monte Carlo price simulation (Geometric Brownian Motion)\\n# Reference article: https://towardsdatascience.com/simulating-stock-prices-in-python-using-geometric-brownian-motion-8dfd6e8c6b18\\n\\n\\ndef stochastic_price_simulation(\\n    returns, initial_price, prediction_days, scenario_count\\n):\\n    So = initial_price\\n    dt = 1\\n    T = prediction_days\\n    N = T / dt\\n    t = np.arange(1, int(N) + 1)\\n    mu = np.mean(returns)\\n    sigma = np.std(returns)\\n    scen_size = scenario_count\\n    b = {str(scen): np.random.normal(0, 1, int(N)) for scen in range(1, scen_size + 1)}\\n    W = {str(scen): b[str(scen)].cumsum() for scen in range(1, scen_size + 1)}\\n\\n    # Calculating drift and diffusion components\\n    drift = (mu - 0.5 * sigma ** 2) * t\\n    diffusion = {str(scen): sigma * W[str(scen)] for scen in range(1, scen_size + 1)}\\n\\n    # Making the predictions\\n    S = np.array(\\n        [So * np.exp(drift + diffusion[str(scen)]) for scen in range(1, scen_size + 1)]\\n    )\\n    S = np.hstack(\\n        (np.array([[So] for scen in range(scen_size)]), S)\\n    )  # add So to the beginning series\\n\\n    # Plotting the simulations\\n    #     plt.figure(figsize = (20,10))\\n    #     for i in range(scen_size):\\n    #         plt.title(\\\"Daily Volatility: \\\" + str(sigma))\\n    #         plt.plot(S[i, :])\\n    #         plt.ylabel('Price')\\n    #         plt.xlabel('Prediction Days')\\n    #     plt.show()\\n    return S\\n\\n\\ndef get_worst_price_trajectory(S):\\n    min_price = S[0, -1]\\n    index = 0\\n    for i in range(len(S)):\\n        if S[i, -1] < min_price:\\n            min_price = S[i, -1]\\n            index = i\\n    return S[index, :]\\n\\n\\ndef get_trajectory_with_closest_correlation(S, base_trajectory, corr):\\n    picked_trajectory = S[0, :]\\n    index = 0\\n    closest_found_correlation, _ = pearsonr(base_trajectory, S[0, :])\\n    for i in range(len(S)):\\n        tmp_corr, _ = pearsonr(base_trajectory, S[i, :])\\n        if abs(tmp_corr - corr) < abs(closest_found_correlation - corr):\\n            closest_found_correlation = tmp_corr\\n            picked_trajectory = S[i, :]\\n            index = i\\n    return S[index, :], closest_found_correlation\\n\\n\\ndef find_profitable_volume(\\n    secure_threshold,\\n    collateral_usd,\\n    btc_usd,\\n    collateral_liquidity_model,\\n    btc_liquidity_model,\\n    liquidation_vault_issued,\\n    liquidation_vault_collateral,\\n):\\n    burn_exchange_rate = (\\n        (liquidation_vault_collateral * collateral_usd)\\n        / (liquidation_vault_issued * btc_usd)\\n        * (collateral_usd / btc_usd)\\n    )\\n    btc_amount = liquidation_vault_issued\\n    while btc_amount > 0:\\n        collateral_amount = btc_amount * btc_usd / collateral_usd * secure_threshold\\n        btc_price_change = btc_liquidity_model([[btc_amount]])[0][0]\\n        collateral_price_change = collateral_liquidity_model([[collateral_amount]])[0][\\n            0\\n        ]\\n        new_btc_price = btc_usd * (1 + btc_price_change)\\n        new_collateral_price = collateral_usd * (1 + collateral_price_change)\\n        # assume that if new exchange rate is equal to the burn rate,\\n        # we stop buying\\n        new_exchange_rate = new_collateral_price / new_btc_price\\n        if burn_exchange_rate >= new_exchange_rate:\\n            return btc_amount\\n        btc_amount -= 5\\n    return 0\\n\\n\\ndef get_days_of_undercollateralization(\\n    worst_collateral_scenario_trajectory,\\n    correlated_btc_scenario_trajectory,\\n    collateral_liquidity_model,\\n    btc_liquidity_model,\\n    debt_ceiling_usd,\\n    secure_threshold,\\n    liquidation_threshold,\\n):\\n    starting_collateral_price = worst_collateral_scenario_trajectory[0]\\n    starting_btc_price = correlated_btc_scenario_trajectory[0]\\n    vaults_issued = (debt_ceiling_usd / secure_threshold) / starting_btc_price\\n    vaults_collateral = debt_ceiling_usd / starting_collateral_price\\n\\n    liquidation_vault_issued = 0\\n    liquidation_vault_collateral = 0\\n    current_collateral_to_btc_price = starting_collateral_price / starting_btc_price\\n\\n    system_collateral_daily = []\\n    vault_collateral_daily = []\\n    liquidation_vault_btc_daily = []\\n    daily_collateralization = []\\n    days_of_undercollateralization = 0\\n    for (collateral_usd, btc_usd) in zip(\\n        worst_collateral_scenario_trajectory, correlated_btc_scenario_trajectory\\n    ):\\n        current_collateral_to_btc_price = collateral_usd / btc_usd\\n        vault_required_collateral = vaults_issued / current_collateral_to_btc_price\\n        system_required_collateral = (\\n            vaults_issued + liquidation_vault_issued\\n        ) / current_collateral_to_btc_price\\n        system_collateral_daily.append(system_required_collateral)\\n        vault_collateral_daily.append(vaults_collateral)\\n        liquidation_vault_btc_daily.append(liquidation_vault_issued)\\n        system_collateralization = (\\n            vaults_collateral + liquidation_vault_collateral\\n        ) / system_required_collateral\\n        if (\\n            vaults_issued > 0\\n            and vaults_collateral / vault_required_collateral < liquidation_threshold\\n        ):\\n            # liquidate every vault\\n            liquidation_vault_issued = vaults_issued\\n            vaults_issued = 0\\n            liquidation_vault_collateral = vaults_collateral\\n            vaults_collateral = 0\\n        if liquidation_vault_issued > 0:\\n            btc_arbitrage_amount = find_profitable_volume(\\n                secure_threshold,\\n                collateral_usd,\\n                btc_usd,\\n                collateral_liquidity_model,\\n                btc_liquidity_model,\\n                liquidation_vault_issued,\\n                liquidation_vault_collateral,\\n            )\\n\\n            # mint interbtc for the liquidation\\n            newly_added_collateral = (\\n                btc_arbitrage_amount / current_collateral_to_btc_price\\n            ) * secure_threshold\\n            vaults_issued += btc_arbitrage_amount\\n            vaults_collateral += newly_added_collateral\\n\\n            # perform burn redeem\\n            burn_exchange_rate = (\\n                (liquidation_vault_collateral * collateral_usd)\\n                / (liquidation_vault_issued * btc_usd)\\n                * current_collateral_to_btc_price\\n            )\\n            burn_dot_payout = btc_arbitrage_amount / burn_exchange_rate\\n            liquidation_vault_issued -= btc_arbitrage_amount\\n            liquidation_vault_collateral = round(\\n                liquidation_vault_collateral - burn_dot_payout\\n            )\\n        daily_collateralization.append(system_collateralization)\\n        if system_collateralization < 1:\\n            days_of_undercollateralization += 1\\n    return (\\n        days_of_undercollateralization,\\n        daily_collateralization,\\n        liquidation_vault_btc_daily,\\n    )\\n\\n\\ndef get_worst_pair_of_price_trajectories(\\n    scenarios_count,\\n    asset_corr,\\n    debt_ceiling_usd,\\n    secure_threshold,\\n    liquidation_threshold,\\n    collateral_usd_returns_daily,\\n    collateral_to_usd_daily,\\n    collateral_liquidity_model,\\n    btc_usd_returns_daily,\\n    btc_to_usd_daily,\\n    btc_liquidity_model,\\n):\\n    worst_btc_trajectory = []\\n    worst_collateral_trajectory = []\\n    most_days_of_undercollateralization = 0\\n    worst_daily_collateralization_trajectory = []\\n    worst_liquidation_vault_collateral_trajectory = []\\n    for i in range(scenarios_count):\\n        collateral_price_simulations = stochastic_price_simulation(\\n            collateral_usd_returns_daily,\\n            collateral_to_usd_daily[-1],\\n            PREDICTED_DAYS,\\n            PRICE_PATHS_PER_SIMULATION,\\n        )\\n        worst_collateral_scenario_trajectory = get_worst_price_trajectory(\\n            collateral_price_simulations\\n        )\\n        btc_price_simulations = stochastic_price_simulation(\\n            btc_usd_returns_daily,\\n            btc_to_usd_daily[-1],\\n            PREDICTED_DAYS,\\n            PRICE_PATHS_PER_SIMULATION,\\n        )\\n        (\\n            correlated_btc_scenario_trajectory,\\n            closest_found_correlation,\\n        ) = get_trajectory_with_closest_correlation(\\n            btc_price_simulations, worst_collateral_scenario_trajectory, asset_corr\\n        )\\n        (\\n            days_of_undercollateralization,\\n            daily_collateralization,\\n            liquidation_vault_btc_daily,\\n        ) = get_days_of_undercollateralization(\\n            worst_collateral_scenario_trajectory,\\n            correlated_btc_scenario_trajectory,\\n            collateral_liquidity_model,\\n            btc_liquidity_model,\\n            debt_ceiling_usd,\\n            secure_threshold,\\n            liquidation_threshold,\\n        )\\n        if (\\n            days_of_undercollateralization > most_days_of_undercollateralization\\n            or most_days_of_undercollateralization == 0\\n        ):\\n            most_days_of_undercollateralization = days_of_undercollateralization\\n            worst_btc_trajectory = correlated_btc_scenario_trajectory\\n            worst_collateral_trajectory = worst_collateral_scenario_trajectory\\n            worst_daily_collateralization_trajectory = daily_collateralization\\n            worst_liquidation_vault_collateral_trajectory = liquidation_vault_btc_daily\\n    return (\\n        worst_collateral_trajectory,\\n        worst_btc_trajectory,\\n        worst_daily_collateralization_trajectory,\\n        worst_liquidation_vault_collateral_trajectory,\\n        most_days_of_undercollateralization,\\n    )\";\n",
       "                var nbb_cells = Jupyter.notebook.get_cells();\n",
       "                for (var i = 0; i < nbb_cells.length; ++i) {\n",
       "                    if (nbb_cells[i].input_prompt_number == nbb_cell_id) {\n",
       "                        if (nbb_cells[i].get_text() == nbb_unformatted_code) {\n",
       "                             nbb_cells[i].set_text(nbb_formatted_code);\n",
       "                        }\n",
       "                        break;\n",
       "                    }\n",
       "                }\n",
       "            }, 500);\n",
       "            "
      ],
      "text/plain": [
       "<IPython.core.display.Javascript object>"
      ]
     },
     "metadata": {},
     "output_type": "display_data"
    }
   ],
   "source": [
    "# Monte Carlo price simulation (Geometric Brownian Motion)\n",
    "# Reference article: https://towardsdatascience.com/simulating-stock-prices-in-python-using-geometric-brownian-motion-8dfd6e8c6b18\n",
    "\n",
    "\n",
    "def stochastic_price_simulation(\n",
    "    returns, initial_price, prediction_days, scenario_count\n",
    "):\n",
    "    So = initial_price\n",
    "    dt = 1\n",
    "    T = prediction_days\n",
    "    N = T / dt\n",
    "    t = np.arange(1, int(N) + 1)\n",
    "    mu = np.mean(returns)\n",
    "    sigma = np.std(returns)\n",
    "    scen_size = scenario_count\n",
    "    b = {str(scen): np.random.normal(0, 1, int(N)) for scen in range(1, scen_size + 1)}\n",
    "    W = {str(scen): b[str(scen)].cumsum() for scen in range(1, scen_size + 1)}\n",
    "\n",
    "    # Calculating drift and diffusion components\n",
    "    drift = (mu - 0.5 * sigma ** 2) * t\n",
    "    diffusion = {str(scen): sigma * W[str(scen)] for scen in range(1, scen_size + 1)}\n",
    "\n",
    "    # Making the predictions\n",
    "    S = np.array(\n",
    "        [So * np.exp(drift + diffusion[str(scen)]) for scen in range(1, scen_size + 1)]\n",
    "    )\n",
    "    S = np.hstack(\n",
    "        (np.array([[So] for scen in range(scen_size)]), S)\n",
    "    )  # add So to the beginning series\n",
    "\n",
    "    # Plotting the simulations\n",
    "    #     plt.figure(figsize = (20,10))\n",
    "    #     for i in range(scen_size):\n",
    "    #         plt.title(\"Daily Volatility: \" + str(sigma))\n",
    "    #         plt.plot(S[i, :])\n",
    "    #         plt.ylabel('Price')\n",
    "    #         plt.xlabel('Prediction Days')\n",
    "    #     plt.show()\n",
    "    return S\n",
    "\n",
    "\n",
    "def get_worst_price_trajectory(S):\n",
    "    min_price = S[0, -1]\n",
    "    index = 0\n",
    "    for i in range(len(S)):\n",
    "        if S[i, -1] < min_price:\n",
    "            min_price = S[i, -1]\n",
    "            index = i\n",
    "    return S[index, :]\n",
    "\n",
    "\n",
    "def get_trajectory_with_closest_correlation(S, base_trajectory, corr):\n",
    "    picked_trajectory = S[0, :]\n",
    "    index = 0\n",
    "    closest_found_correlation, _ = pearsonr(base_trajectory, S[0, :])\n",
    "    for i in range(len(S)):\n",
    "        tmp_corr, _ = pearsonr(base_trajectory, S[i, :])\n",
    "        if abs(tmp_corr - corr) < abs(closest_found_correlation - corr):\n",
    "            closest_found_correlation = tmp_corr\n",
    "            picked_trajectory = S[i, :]\n",
    "            index = i\n",
    "    return S[index, :], closest_found_correlation\n",
    "\n",
    "\n",
    "def find_profitable_volume(\n",
    "    secure_threshold,\n",
    "    collateral_usd,\n",
    "    btc_usd,\n",
    "    collateral_liquidity_model,\n",
    "    btc_liquidity_model,\n",
    "    liquidation_vault_issued,\n",
    "    liquidation_vault_collateral,\n",
    "):\n",
    "    burn_exchange_rate = (\n",
    "        (liquidation_vault_collateral * collateral_usd)\n",
    "        / (liquidation_vault_issued * btc_usd)\n",
    "        * (collateral_usd / btc_usd)\n",
    "    )\n",
    "    btc_amount = liquidation_vault_issued\n",
    "    while btc_amount > 0:\n",
    "        collateral_amount = btc_amount * btc_usd / collateral_usd * secure_threshold\n",
    "        btc_price_change = btc_liquidity_model([[btc_amount]])[0][0]\n",
    "        collateral_price_change = collateral_liquidity_model([[collateral_amount]])[0][\n",
    "            0\n",
    "        ]\n",
    "        new_btc_price = btc_usd * (1 + btc_price_change)\n",
    "        new_collateral_price = collateral_usd * (1 + collateral_price_change)\n",
    "        # assume that if new exchange rate is equal to the burn rate,\n",
    "        # we stop buying\n",
    "        new_exchange_rate = new_collateral_price / new_btc_price\n",
    "        if burn_exchange_rate >= new_exchange_rate:\n",
    "            return btc_amount\n",
    "        btc_amount -= 5\n",
    "    return 0\n",
    "\n",
    "\n",
    "def get_days_of_undercollateralization(\n",
    "    worst_collateral_scenario_trajectory,\n",
    "    correlated_btc_scenario_trajectory,\n",
    "    collateral_liquidity_model,\n",
    "    btc_liquidity_model,\n",
    "    debt_ceiling_usd,\n",
    "    secure_threshold,\n",
    "    liquidation_threshold,\n",
    "):\n",
    "    starting_collateral_price = worst_collateral_scenario_trajectory[0]\n",
    "    starting_btc_price = correlated_btc_scenario_trajectory[0]\n",
    "    vaults_issued = (debt_ceiling_usd / secure_threshold) / starting_btc_price\n",
    "    vaults_collateral = debt_ceiling_usd / starting_collateral_price\n",
    "\n",
    "    liquidation_vault_issued = 0\n",
    "    liquidation_vault_collateral = 0\n",
    "    current_collateral_to_btc_price = starting_collateral_price / starting_btc_price\n",
    "\n",
    "    system_collateral_daily = []\n",
    "    vault_collateral_daily = []\n",
    "    liquidation_vault_btc_daily = []\n",
    "    daily_collateralization = []\n",
    "    days_of_undercollateralization = 0\n",
    "    for (collateral_usd, btc_usd) in zip(\n",
    "        worst_collateral_scenario_trajectory, correlated_btc_scenario_trajectory\n",
    "    ):\n",
    "        current_collateral_to_btc_price = collateral_usd / btc_usd\n",
    "        vault_required_collateral = vaults_issued / current_collateral_to_btc_price\n",
    "        system_required_collateral = (\n",
    "            vaults_issued + liquidation_vault_issued\n",
    "        ) / current_collateral_to_btc_price\n",
    "        system_collateral_daily.append(system_required_collateral)\n",
    "        vault_collateral_daily.append(vaults_collateral)\n",
    "        liquidation_vault_btc_daily.append(liquidation_vault_issued)\n",
    "        system_collateralization = (\n",
    "            vaults_collateral + liquidation_vault_collateral\n",
    "        ) / system_required_collateral\n",
    "        if (\n",
    "            vaults_issued > 0\n",
    "            and vaults_collateral / vault_required_collateral < liquidation_threshold\n",
    "        ):\n",
    "            # liquidate every vault\n",
    "            liquidation_vault_issued = vaults_issued\n",
    "            vaults_issued = 0\n",
    "            liquidation_vault_collateral = vaults_collateral\n",
    "            vaults_collateral = 0\n",
    "        if liquidation_vault_issued > 0:\n",
    "            btc_arbitrage_amount = find_profitable_volume(\n",
    "                secure_threshold,\n",
    "                collateral_usd,\n",
    "                btc_usd,\n",
    "                collateral_liquidity_model,\n",
    "                btc_liquidity_model,\n",
    "                liquidation_vault_issued,\n",
    "                liquidation_vault_collateral,\n",
    "            )\n",
    "\n",
    "            # mint interbtc for the liquidation\n",
    "            newly_added_collateral = (\n",
    "                btc_arbitrage_amount / current_collateral_to_btc_price\n",
    "            ) * secure_threshold\n",
    "            vaults_issued += btc_arbitrage_amount\n",
    "            vaults_collateral += newly_added_collateral\n",
    "\n",
    "            # perform burn redeem\n",
    "            burn_exchange_rate = (\n",
    "                (liquidation_vault_collateral * collateral_usd)\n",
    "                / (liquidation_vault_issued * btc_usd)\n",
    "                * current_collateral_to_btc_price\n",
    "            )\n",
    "            burn_dot_payout = btc_arbitrage_amount / burn_exchange_rate\n",
    "            liquidation_vault_issued -= btc_arbitrage_amount\n",
    "            liquidation_vault_collateral = round(\n",
    "                liquidation_vault_collateral - burn_dot_payout\n",
    "            )\n",
    "        daily_collateralization.append(system_collateralization)\n",
    "        if system_collateralization < 1:\n",
    "            days_of_undercollateralization += 1\n",
    "    return (\n",
    "        days_of_undercollateralization,\n",
    "        daily_collateralization,\n",
    "        liquidation_vault_btc_daily,\n",
    "    )\n",
    "\n",
    "\n",
    "def get_worst_pair_of_price_trajectories(\n",
    "    scenarios_count,\n",
    "    asset_corr,\n",
    "    debt_ceiling_usd,\n",
    "    secure_threshold,\n",
    "    liquidation_threshold,\n",
    "    collateral_usd_returns_daily,\n",
    "    collateral_to_usd_daily,\n",
    "    collateral_liquidity_model,\n",
    "    btc_usd_returns_daily,\n",
    "    btc_to_usd_daily,\n",
    "    btc_liquidity_model,\n",
    "):\n",
    "    worst_btc_trajectory = []\n",
    "    worst_collateral_trajectory = []\n",
    "    most_days_of_undercollateralization = 0\n",
    "    worst_daily_collateralization_trajectory = []\n",
    "    worst_liquidation_vault_collateral_trajectory = []\n",
    "    for i in range(scenarios_count):\n",
    "        collateral_price_simulations = stochastic_price_simulation(\n",
    "            collateral_usd_returns_daily,\n",
    "            collateral_to_usd_daily[-1],\n",
    "            PREDICTED_DAYS,\n",
    "            PRICE_PATHS_PER_SIMULATION,\n",
    "        )\n",
    "        worst_collateral_scenario_trajectory = get_worst_price_trajectory(\n",
    "            collateral_price_simulations\n",
    "        )\n",
    "        btc_price_simulations = stochastic_price_simulation(\n",
    "            btc_usd_returns_daily,\n",
    "            btc_to_usd_daily[-1],\n",
    "            PREDICTED_DAYS,\n",
    "            PRICE_PATHS_PER_SIMULATION,\n",
    "        )\n",
    "        (\n",
    "            correlated_btc_scenario_trajectory,\n",
    "            closest_found_correlation,\n",
    "        ) = get_trajectory_with_closest_correlation(\n",
    "            btc_price_simulations, worst_collateral_scenario_trajectory, asset_corr\n",
    "        )\n",
    "        (\n",
    "            days_of_undercollateralization,\n",
    "            daily_collateralization,\n",
    "            liquidation_vault_btc_daily,\n",
    "        ) = get_days_of_undercollateralization(\n",
    "            worst_collateral_scenario_trajectory,\n",
    "            correlated_btc_scenario_trajectory,\n",
    "            collateral_liquidity_model,\n",
    "            btc_liquidity_model,\n",
    "            debt_ceiling_usd,\n",
    "            secure_threshold,\n",
    "            liquidation_threshold,\n",
    "        )\n",
    "        if (\n",
    "            days_of_undercollateralization > most_days_of_undercollateralization\n",
    "            or most_days_of_undercollateralization == 0\n",
    "        ):\n",
    "            most_days_of_undercollateralization = days_of_undercollateralization\n",
    "            worst_btc_trajectory = correlated_btc_scenario_trajectory\n",
    "            worst_collateral_trajectory = worst_collateral_scenario_trajectory\n",
    "            worst_daily_collateralization_trajectory = daily_collateralization\n",
    "            worst_liquidation_vault_collateral_trajectory = liquidation_vault_btc_daily\n",
    "    return (\n",
    "        worst_collateral_trajectory,\n",
    "        worst_btc_trajectory,\n",
    "        worst_daily_collateralization_trajectory,\n",
    "        worst_liquidation_vault_collateral_trajectory,\n",
    "        most_days_of_undercollateralization,\n",
    "    )"
   ]
  },
  {
   "cell_type": "code",
   "execution_count": 19,
   "id": "35ecb5d8",
   "metadata": {},
   "outputs": [
    {
     "data": {
      "application/javascript": [
       "\n",
       "            setTimeout(function() {\n",
       "                var nbb_cell_id = 19;\n",
       "                var nbb_unformatted_code = \"%reload_ext nb_black\\n\\n\\ndef plot_collateralization(\\n    subplot,\\n    liquidation_vault_issued_daily,\\n    daily_collateralization,\\n    liquidation_threshold,\\n):\\n    subplot.plot([l / 1000 for l in liquidation_vault_issued_daily])\\n    subplot.plot(daily_collateralization)\\n    subplot.plot([liquidation_threshold] * len(daily_collateralization))\\n    subplot.plot([1.0] * len(daily_collateralization))\\n    subplot.legend(\\n        [\\n            \\\"liquidation_vault_issued (thousands)\\\",\\n            \\\"collateralization\\\",\\n            \\\"liquidation threshold\\\",\\n            \\\"undercollateralization\\\",\\n        ]\\n    )\\n\\n\\ndef plot_prices(subplot, collateral_price_trajectory, btc_price_trajectory):\\n    subplot.plot([price * 1000 for price in collateral_price_trajectory])\\n    subplot.plot(btc_price_trajectory)\\n    subplot.legend([\\\"collateral price (x1000)\\\", \\\"btc price\\\"])\\n\\n\\ndef simulate_and_plot(\\n    simulated_scenarios,\\n    observed_collateral_to_btc_corr,\\n    debt_ceiling_usd,\\n    secure_threshold,\\n    liquidation_threshold,\\n    collateral_usd_returns_daily,\\n    collateral_to_usd_daily,\\n    collateral_liquidity_model,\\n    btc_usd_returns_daily,\\n    btc_to_usd_daily,\\n    btc_liquidity_model,\\n):\\n    (\\n        collateral_price_trajectory,\\n        btc_price_trajectory,\\n        daily_collateralization,\\n        liquidation_vault_issued_daily,\\n        days_of_undercollateralization,\\n    ) = get_worst_pair_of_price_trajectories(\\n        simulated_scenarios,\\n        observed_collateral_to_btc_corr,\\n        debt_ceiling_usd,\\n        secure_threshold,\\n        liquidation_threshold,\\n        collateral_usd_returns_daily,\\n        collateral_to_usd_daily,\\n        collateral_liquidity_model,\\n        btc_usd_returns_daily,\\n        btc_to_usd_daily,\\n        btc_liquidity_model,\\n    )\\n\\n    print(\\\"days of undercollateralization: \\\" + str(days_of_undercollateralization))\\n    fig, axs = plt.subplots(2, figsize=(12, 10))\\n    plot_collateralization(\\n        axs[0],\\n        liquidation_vault_issued_daily,\\n        daily_collateralization,\\n        liquidation_threshold,\\n    )\\n    plot_prices(axs[1], collateral_price_trajectory, btc_price_trajectory)\";\n",
       "                var nbb_formatted_code = \"%reload_ext nb_black\\n\\n\\ndef plot_collateralization(\\n    subplot,\\n    liquidation_vault_issued_daily,\\n    daily_collateralization,\\n    liquidation_threshold,\\n):\\n    subplot.plot([l / 1000 for l in liquidation_vault_issued_daily])\\n    subplot.plot(daily_collateralization)\\n    subplot.plot([liquidation_threshold] * len(daily_collateralization))\\n    subplot.plot([1.0] * len(daily_collateralization))\\n    subplot.legend(\\n        [\\n            \\\"liquidation_vault_issued (thousands)\\\",\\n            \\\"collateralization\\\",\\n            \\\"liquidation threshold\\\",\\n            \\\"undercollateralization\\\",\\n        ]\\n    )\\n\\n\\ndef plot_prices(subplot, collateral_price_trajectory, btc_price_trajectory):\\n    subplot.plot([price * 1000 for price in collateral_price_trajectory])\\n    subplot.plot(btc_price_trajectory)\\n    subplot.legend([\\\"collateral price (x1000)\\\", \\\"btc price\\\"])\\n\\n\\ndef simulate_and_plot(\\n    simulated_scenarios,\\n    observed_collateral_to_btc_corr,\\n    debt_ceiling_usd,\\n    secure_threshold,\\n    liquidation_threshold,\\n    collateral_usd_returns_daily,\\n    collateral_to_usd_daily,\\n    collateral_liquidity_model,\\n    btc_usd_returns_daily,\\n    btc_to_usd_daily,\\n    btc_liquidity_model,\\n):\\n    (\\n        collateral_price_trajectory,\\n        btc_price_trajectory,\\n        daily_collateralization,\\n        liquidation_vault_issued_daily,\\n        days_of_undercollateralization,\\n    ) = get_worst_pair_of_price_trajectories(\\n        simulated_scenarios,\\n        observed_collateral_to_btc_corr,\\n        debt_ceiling_usd,\\n        secure_threshold,\\n        liquidation_threshold,\\n        collateral_usd_returns_daily,\\n        collateral_to_usd_daily,\\n        collateral_liquidity_model,\\n        btc_usd_returns_daily,\\n        btc_to_usd_daily,\\n        btc_liquidity_model,\\n    )\\n\\n    print(\\\"days of undercollateralization: \\\" + str(days_of_undercollateralization))\\n    fig, axs = plt.subplots(2, figsize=(12, 10))\\n    plot_collateralization(\\n        axs[0],\\n        liquidation_vault_issued_daily,\\n        daily_collateralization,\\n        liquidation_threshold,\\n    )\\n    plot_prices(axs[1], collateral_price_trajectory, btc_price_trajectory)\";\n",
       "                var nbb_cells = Jupyter.notebook.get_cells();\n",
       "                for (var i = 0; i < nbb_cells.length; ++i) {\n",
       "                    if (nbb_cells[i].input_prompt_number == nbb_cell_id) {\n",
       "                        if (nbb_cells[i].get_text() == nbb_unformatted_code) {\n",
       "                             nbb_cells[i].set_text(nbb_formatted_code);\n",
       "                        }\n",
       "                        break;\n",
       "                    }\n",
       "                }\n",
       "            }, 500);\n",
       "            "
      ],
      "text/plain": [
       "<IPython.core.display.Javascript object>"
      ]
     },
     "metadata": {},
     "output_type": "display_data"
    },
    {
     "data": {
      "application/javascript": [
       "\n",
       "            setTimeout(function() {\n",
       "                var nbb_cell_id = 19;\n",
       "                var nbb_unformatted_code = \"%reload_ext nb_black\\n\\n\\ndef plot_collateralization(\\n    subplot,\\n    liquidation_vault_issued_daily,\\n    daily_collateralization,\\n    liquidation_threshold,\\n):\\n    subplot.plot([l / 1000 for l in liquidation_vault_issued_daily])\\n    subplot.plot(daily_collateralization)\\n    subplot.plot([liquidation_threshold] * len(daily_collateralization))\\n    subplot.plot([1.0] * len(daily_collateralization))\\n    subplot.legend(\\n        [\\n            \\\"liquidation_vault_issued (thousands)\\\",\\n            \\\"collateralization\\\",\\n            \\\"liquidation threshold\\\",\\n            \\\"undercollateralization\\\",\\n        ]\\n    )\\n\\n\\ndef plot_prices(subplot, collateral_price_trajectory, btc_price_trajectory):\\n    subplot.plot([price * 1000 for price in collateral_price_trajectory])\\n    subplot.plot(btc_price_trajectory)\\n    subplot.legend([\\\"collateral price (x1000)\\\", \\\"btc price\\\"])\\n\\n\\ndef simulate_and_plot(\\n    simulated_scenarios,\\n    observed_collateral_to_btc_corr,\\n    debt_ceiling_usd,\\n    secure_threshold,\\n    liquidation_threshold,\\n    collateral_usd_returns_daily,\\n    collateral_to_usd_daily,\\n    collateral_liquidity_model,\\n    btc_usd_returns_daily,\\n    btc_to_usd_daily,\\n    btc_liquidity_model,\\n):\\n    (\\n        collateral_price_trajectory,\\n        btc_price_trajectory,\\n        daily_collateralization,\\n        liquidation_vault_issued_daily,\\n        days_of_undercollateralization,\\n    ) = get_worst_pair_of_price_trajectories(\\n        simulated_scenarios,\\n        observed_collateral_to_btc_corr,\\n        debt_ceiling_usd,\\n        secure_threshold,\\n        liquidation_threshold,\\n        collateral_usd_returns_daily,\\n        collateral_to_usd_daily,\\n        collateral_liquidity_model,\\n        btc_usd_returns_daily,\\n        btc_to_usd_daily,\\n        btc_liquidity_model,\\n    )\\n\\n    print(\\\"days of undercollateralization: \\\" + str(days_of_undercollateralization))\\n    fig, axs = plt.subplots(2, figsize=(12, 10))\\n    plot_collateralization(\\n        axs[0],\\n        liquidation_vault_issued_daily,\\n        daily_collateralization,\\n        liquidation_threshold,\\n    )\\n    plot_prices(axs[1], collateral_price_trajectory, btc_price_trajectory)\";\n",
       "                var nbb_formatted_code = \"%reload_ext nb_black\\n\\n\\ndef plot_collateralization(\\n    subplot,\\n    liquidation_vault_issued_daily,\\n    daily_collateralization,\\n    liquidation_threshold,\\n):\\n    subplot.plot([l / 1000 for l in liquidation_vault_issued_daily])\\n    subplot.plot(daily_collateralization)\\n    subplot.plot([liquidation_threshold] * len(daily_collateralization))\\n    subplot.plot([1.0] * len(daily_collateralization))\\n    subplot.legend(\\n        [\\n            \\\"liquidation_vault_issued (thousands)\\\",\\n            \\\"collateralization\\\",\\n            \\\"liquidation threshold\\\",\\n            \\\"undercollateralization\\\",\\n        ]\\n    )\\n\\n\\ndef plot_prices(subplot, collateral_price_trajectory, btc_price_trajectory):\\n    subplot.plot([price * 1000 for price in collateral_price_trajectory])\\n    subplot.plot(btc_price_trajectory)\\n    subplot.legend([\\\"collateral price (x1000)\\\", \\\"btc price\\\"])\\n\\n\\ndef simulate_and_plot(\\n    simulated_scenarios,\\n    observed_collateral_to_btc_corr,\\n    debt_ceiling_usd,\\n    secure_threshold,\\n    liquidation_threshold,\\n    collateral_usd_returns_daily,\\n    collateral_to_usd_daily,\\n    collateral_liquidity_model,\\n    btc_usd_returns_daily,\\n    btc_to_usd_daily,\\n    btc_liquidity_model,\\n):\\n    (\\n        collateral_price_trajectory,\\n        btc_price_trajectory,\\n        daily_collateralization,\\n        liquidation_vault_issued_daily,\\n        days_of_undercollateralization,\\n    ) = get_worst_pair_of_price_trajectories(\\n        simulated_scenarios,\\n        observed_collateral_to_btc_corr,\\n        debt_ceiling_usd,\\n        secure_threshold,\\n        liquidation_threshold,\\n        collateral_usd_returns_daily,\\n        collateral_to_usd_daily,\\n        collateral_liquidity_model,\\n        btc_usd_returns_daily,\\n        btc_to_usd_daily,\\n        btc_liquidity_model,\\n    )\\n\\n    print(\\\"days of undercollateralization: \\\" + str(days_of_undercollateralization))\\n    fig, axs = plt.subplots(2, figsize=(12, 10))\\n    plot_collateralization(\\n        axs[0],\\n        liquidation_vault_issued_daily,\\n        daily_collateralization,\\n        liquidation_threshold,\\n    )\\n    plot_prices(axs[1], collateral_price_trajectory, btc_price_trajectory)\";\n",
       "                var nbb_cells = Jupyter.notebook.get_cells();\n",
       "                for (var i = 0; i < nbb_cells.length; ++i) {\n",
       "                    if (nbb_cells[i].input_prompt_number == nbb_cell_id) {\n",
       "                        if (nbb_cells[i].get_text() == nbb_unformatted_code) {\n",
       "                             nbb_cells[i].set_text(nbb_formatted_code);\n",
       "                        }\n",
       "                        break;\n",
       "                    }\n",
       "                }\n",
       "            }, 500);\n",
       "            "
      ],
      "text/plain": [
       "<IPython.core.display.Javascript object>"
      ]
     },
     "metadata": {},
     "output_type": "display_data"
    }
   ],
   "source": [
    "%reload_ext nb_black\n",
    "\n",
    "\n",
    "def plot_collateralization(\n",
    "    subplot,\n",
    "    liquidation_vault_issued_daily,\n",
    "    daily_collateralization,\n",
    "    liquidation_threshold,\n",
    "):\n",
    "    subplot.plot([l / 1000 for l in liquidation_vault_issued_daily])\n",
    "    subplot.plot(daily_collateralization)\n",
    "    subplot.plot([liquidation_threshold] * len(daily_collateralization))\n",
    "    subplot.plot([1.0] * len(daily_collateralization))\n",
    "    subplot.legend(\n",
    "        [\n",
    "            \"liquidation_vault_issued (thousands)\",\n",
    "            \"collateralization\",\n",
    "            \"liquidation threshold\",\n",
    "            \"undercollateralization\",\n",
    "        ]\n",
    "    )\n",
    "\n",
    "\n",
    "def plot_prices(subplot, collateral_price_trajectory, btc_price_trajectory):\n",
    "    subplot.plot([price * 1000 for price in collateral_price_trajectory])\n",
    "    subplot.plot(btc_price_trajectory)\n",
    "    subplot.legend([\"collateral price (x0.001)\", \"btc price\"])\n",
    "\n",
    "\n",
    "def simulate_and_plot(\n",
    "    simulated_scenarios,\n",
    "    observed_collateral_to_btc_corr,\n",
    "    debt_ceiling_usd,\n",
    "    secure_threshold,\n",
    "    liquidation_threshold,\n",
    "    collateral_usd_returns_daily,\n",
    "    collateral_to_usd_daily,\n",
    "    collateral_liquidity_model,\n",
    "    btc_usd_returns_daily,\n",
    "    btc_to_usd_daily,\n",
    "    btc_liquidity_model,\n",
    "):\n",
    "    (\n",
    "        collateral_price_trajectory,\n",
    "        btc_price_trajectory,\n",
    "        daily_collateralization,\n",
    "        liquidation_vault_issued_daily,\n",
    "        days_of_undercollateralization,\n",
    "    ) = get_worst_pair_of_price_trajectories(\n",
    "        simulated_scenarios,\n",
    "        observed_collateral_to_btc_corr,\n",
    "        debt_ceiling_usd,\n",
    "        secure_threshold,\n",
    "        liquidation_threshold,\n",
    "        collateral_usd_returns_daily,\n",
    "        collateral_to_usd_daily,\n",
    "        collateral_liquidity_model,\n",
    "        btc_usd_returns_daily,\n",
    "        btc_to_usd_daily,\n",
    "        btc_liquidity_model,\n",
    "    )\n",
    "\n",
    "    print(\"days of undercollateralization: \" + str(days_of_undercollateralization))\n",
    "    fig, axs = plt.subplots(2, figsize=(12, 10))\n",
    "    plot_collateralization(\n",
    "        axs[0],\n",
    "        liquidation_vault_issued_daily,\n",
    "        daily_collateralization,\n",
    "        liquidation_threshold,\n",
    "    )\n",
    "    plot_prices(axs[1], collateral_price_trajectory, btc_price_trajectory)"
   ]
  },
  {
   "cell_type": "code",
   "execution_count": 64,
   "id": "122c3f6b",
   "metadata": {},
   "outputs": [
    {
     "name": "stdout",
     "output_type": "stream",
     "text": [
      "days of undercollateralization: 25\n"
     ]
    },
    {
     "data": {
      "image/png": "[encoded data removed]",
      "text/plain": [
       "<Figure size 864x720 with 2 Axes>"
      ]
     },
     "metadata": {
      "needs_background": "light"
     },
     "output_type": "display_data"
    }
   ],
   "source": [
    "DEBT_CEILING_USD = 20_000_000\n",
    "SECURE_THRESHOLD = 2.0\n",
    "LIQUIDATION_THRESHOLD = 1.5\n",
    "simulate_and_plot(\n",
    "    SIMULATED_SCENARIOS,\n",
    "    observed_ksm_btc_corr,\n",
    "    DEBT_CEILING_USD,\n",
    "    SECURE_THRESHOLD,\n",
    "    LIQUIDATION_THRESHOLD,\n",
    "    dot_usd_returns_daily,\n",
    "    dot_to_usd_daily,\n",
    "    dot_liquidity_model,\n",
    "    btc_usd_returns_daily,\n",
    "    btc_to_usd_daily,\n",
    "    btc_liquidity_model,\n",
    ")"
   ]
  },
  {
   "cell_type": "code",
   "execution_count": 48,
   "id": "77e2d676",
   "metadata": {},
   "outputs": [
    {
     "name": "stdout",
     "output_type": "stream",
     "text": [
      "trajectory points:\n",
      "2401\n",
      "days of undercollateralization: 1\n"
     ]
    },
    {
     "data": {
      "application/javascript": [
       "\n",
       "            setTimeout(function() {\n",
       "                var nbb_cell_id = 64;\n",
       "                var nbb_unformatted_code = \"DEBT_CEILING_USD = 20_000_000\\nSECURE_THRESHOLD = 7\\nLIQUIDATION_THRESHOLD = 5\\nsimulate_and_plot(\\n    SIMULATED_SCENARIOS,\\n    observed_ksm_btc_corr,\\n    DEBT_CEILING_USD,\\n    SECURE_THRESHOLD,\\n    LIQUIDATION_THRESHOLD,\\n    kint_usd_returns_daily,\\n    kint_to_usd_daily,\\n    ksm_liquidity_model,\\n    btc_usd_returns_daily,\\n    btc_to_usd_daily,\\n    btc_liquidity_model,\\n)\";\n",
       "                var nbb_formatted_code = \"DEBT_CEILING_USD = 20_000_000\\nSECURE_THRESHOLD = 7\\nLIQUIDATION_THRESHOLD = 5\\nsimulate_and_plot(\\n    SIMULATED_SCENARIOS,\\n    observed_ksm_btc_corr,\\n    DEBT_CEILING_USD,\\n    SECURE_THRESHOLD,\\n    LIQUIDATION_THRESHOLD,\\n    kint_usd_returns_daily,\\n    kint_to_usd_daily,\\n    ksm_liquidity_model,\\n    btc_usd_returns_daily,\\n    btc_to_usd_daily,\\n    btc_liquidity_model,\\n)\";\n",
       "                var nbb_cells = Jupyter.notebook.get_cells();\n",
       "                for (var i = 0; i < nbb_cells.length; ++i) {\n",
       "                    if (nbb_cells[i].input_prompt_number == nbb_cell_id) {\n",
       "                        if (nbb_cells[i].get_text() == nbb_unformatted_code) {\n",
       "                             nbb_cells[i].set_text(nbb_formatted_code);\n",
       "                        }\n",
       "                        break;\n",
       "                    }\n",
       "                }\n",
       "            }, 500);\n",
       "            "
      ],
      "text/plain": [
       "<Figure size 864x720 with 2 Axes>"
      ]
     },
     "metadata": {
      "needs_background": "light"
     },
     "output_type": "display_data"
    },
    {
     "data": {
      "application/javascript": [
       "\n",
       "            setTimeout(function() {\n",
       "                var nbb_cell_id = 64;\n",
       "                var nbb_unformatted_code = \"DEBT_CEILING_USD = 20_000_000\\nSECURE_THRESHOLD = 7\\nLIQUIDATION_THRESHOLD = 5\\nsimulate_and_plot(\\n    SIMULATED_SCENARIOS,\\n    observed_ksm_btc_corr,\\n    DEBT_CEILING_USD,\\n    SECURE_THRESHOLD,\\n    LIQUIDATION_THRESHOLD,\\n    kint_usd_returns_daily,\\n    kint_to_usd_daily,\\n    ksm_liquidity_model,\\n    btc_usd_returns_daily,\\n    btc_to_usd_daily,\\n    btc_liquidity_model,\\n)\";\n",
       "                var nbb_formatted_code = \"DEBT_CEILING_USD = 20_000_000\\nSECURE_THRESHOLD = 7\\nLIQUIDATION_THRESHOLD = 5\\nsimulate_and_plot(\\n    SIMULATED_SCENARIOS,\\n    observed_ksm_btc_corr,\\n    DEBT_CEILING_USD,\\n    SECURE_THRESHOLD,\\n    LIQUIDATION_THRESHOLD,\\n    kint_usd_returns_daily,\\n    kint_to_usd_daily,\\n    ksm_liquidity_model,\\n    btc_usd_returns_daily,\\n    btc_to_usd_daily,\\n    btc_liquidity_model,\\n)\";\n",
       "                var nbb_cells = Jupyter.notebook.get_cells();\n",
       "                for (var i = 0; i < nbb_cells.length; ++i) {\n",
       "                    if (nbb_cells[i].input_prompt_number == nbb_cell_id) {\n",
       "                        if (nbb_cells[i].get_text() == nbb_unformatted_code) {\n",
       "                             nbb_cells[i].set_text(nbb_formatted_code);\n",
       "                        }\n",
       "                        break;\n",
       "                    }\n",
       "                }\n",
       "            }, 500);\n",
       "            "
      ],
      "text/plain": [
       "<IPython.core.display.Javascript object>"
      ]
     },
     "metadata": {},
     "output_type": "display_data"
    }
   ],
   "source": [
    "DEBT_CEILING_USD = 20_000_000\n",
    "SECURE_THRESHOLD = 7\n",
    "LIQUIDATION_THRESHOLD = 5\n",
    "simulate_and_plot(\n",
    "    SIMULATED_SCENARIOS,\n",
    "    observed_ksm_btc_corr,\n",
    "    DEBT_CEILING_USD,\n",
    "    SECURE_THRESHOLD,\n",
    "    LIQUIDATION_THRESHOLD,\n",
    "    kint_usd_returns_daily,\n",
    "    kint_to_usd_daily,\n",
    "    ksm_liquidity_model,\n",
    "    btc_usd_returns_daily,\n",
    "    btc_to_usd_daily,\n",
    "    btc_liquidity_model,\n",
    ")"
   ]
  },
  {
   "cell_type": "code",
   "execution_count": 50,
   "id": "457522fd",
   "metadata": {},
   "outputs": [
    {
     "name": "stdout",
     "output_type": "stream",
     "text": [
      "days of undercollateralization: 5\n"
     ]
    },
    {
     "data": {
      "image/png": "[encoded data removed]",
      "text/plain": [
       "<Figure size 864x720 with 2 Axes>"
      ]
     },
     "metadata": {
      "needs_background": "light"
     },
     "output_type": "display_data"
    },
    {
     "data": {
      "application/javascript": [
       "\n",
       "            setTimeout(function() {\n",
       "                var nbb_cell_id = 50;\n",
       "                var nbb_unformatted_code = \"DEBT_CEILING_USD = 20_000_000\\nSECURE_THRESHOLD = 1.6\\nLIQUIDATION_THRESHOLD = 1.2\\nsimulate_and_plot(\\n    SIMULATED_SCENARIOS,\\n    observed_ksm_btc_corr,\\n    DEBT_CEILING_USD,\\n    SECURE_THRESHOLD,\\n    LIQUIDATION_THRESHOLD,\\n    usdc_usd_returns_daily,\\n    usdc_to_usd_daily,\\n    btc_liquidity_model,\\n    btc_usd_returns_daily,\\n    btc_to_usd_daily,\\n    ksm_liquidity_model,\\n)\";\n",
       "                var nbb_formatted_code = \"DEBT_CEILING_USD = 20_000_000\\nSECURE_THRESHOLD = 1.6\\nLIQUIDATION_THRESHOLD = 1.2\\nsimulate_and_plot(\\n    SIMULATED_SCENARIOS,\\n    observed_ksm_btc_corr,\\n    DEBT_CEILING_USD,\\n    SECURE_THRESHOLD,\\n    LIQUIDATION_THRESHOLD,\\n    usdc_usd_returns_daily,\\n    usdc_to_usd_daily,\\n    btc_liquidity_model,\\n    btc_usd_returns_daily,\\n    btc_to_usd_daily,\\n    ksm_liquidity_model,\\n)\";\n",
       "                var nbb_cells = Jupyter.notebook.get_cells();\n",
       "                for (var i = 0; i < nbb_cells.length; ++i) {\n",
       "                    if (nbb_cells[i].input_prompt_number == nbb_cell_id) {\n",
       "                        if (nbb_cells[i].get_text() == nbb_unformatted_code) {\n",
       "                             nbb_cells[i].set_text(nbb_formatted_code);\n",
       "                        }\n",
       "                        break;\n",
       "                    }\n",
       "                }\n",
       "            }, 500);\n",
       "            "
      ],
      "text/plain": [
       "<IPython.core.display.Javascript object>"
      ]
     },
     "metadata": {},
     "output_type": "display_data"
    },
    {
     "data": {
      "application/javascript": [
       "\n",
       "            setTimeout(function() {\n",
       "                var nbb_cell_id = 50;\n",
       "                var nbb_unformatted_code = \"DEBT_CEILING_USD = 20_000_000\\nSECURE_THRESHOLD = 1.6\\nLIQUIDATION_THRESHOLD = 1.2\\nsimulate_and_plot(\\n    SIMULATED_SCENARIOS,\\n    observed_ksm_btc_corr,\\n    DEBT_CEILING_USD,\\n    SECURE_THRESHOLD,\\n    LIQUIDATION_THRESHOLD,\\n    usdc_usd_returns_daily,\\n    usdc_to_usd_daily,\\n    btc_liquidity_model,\\n    btc_usd_returns_daily,\\n    btc_to_usd_daily,\\n    ksm_liquidity_model,\\n)\";\n",
       "                var nbb_formatted_code = \"DEBT_CEILING_USD = 20_000_000\\nSECURE_THRESHOLD = 1.6\\nLIQUIDATION_THRESHOLD = 1.2\\nsimulate_and_plot(\\n    SIMULATED_SCENARIOS,\\n    observed_ksm_btc_corr,\\n    DEBT_CEILING_USD,\\n    SECURE_THRESHOLD,\\n    LIQUIDATION_THRESHOLD,\\n    usdc_usd_returns_daily,\\n    usdc_to_usd_daily,\\n    btc_liquidity_model,\\n    btc_usd_returns_daily,\\n    btc_to_usd_daily,\\n    ksm_liquidity_model,\\n)\";\n",
       "                var nbb_cells = Jupyter.notebook.get_cells();\n",
       "                for (var i = 0; i < nbb_cells.length; ++i) {\n",
       "                    if (nbb_cells[i].input_prompt_number == nbb_cell_id) {\n",
       "                        if (nbb_cells[i].get_text() == nbb_unformatted_code) {\n",
       "                             nbb_cells[i].set_text(nbb_formatted_code);\n",
       "                        }\n",
       "                        break;\n",
       "                    }\n",
       "                }\n",
       "            }, 500);\n",
       "            "
      ],
      "text/plain": [
       "<IPython.core.display.Javascript object>"
      ]
     },
     "metadata": {},
     "output_type": "display_data"
    }
   ],
   "source": [
    "DEBT_CEILING_USD = 20_000_000\n",
    "SECURE_THRESHOLD = 1.6\n",
    "LIQUIDATION_THRESHOLD = 1.2\n",
    "simulate_and_plot(\n",
    "    SIMULATED_SCENARIOS,\n",
    "    observed_ksm_btc_corr,\n",
    "    DEBT_CEILING_USD,\n",
    "    SECURE_THRESHOLD,\n",
    "    LIQUIDATION_THRESHOLD,\n",
    "    usdc_usd_returns_daily,\n",
    "    usdc_to_usd_daily,\n",
    "    btc_liquidity_model,\n",
    "    btc_usd_returns_daily,\n",
    "    btc_to_usd_daily,\n",
    "    ksm_liquidity_model,\n",
    ")"
   ]
  },
  {
   "cell_type": "code",
   "execution_count": 53,
   "id": "5e1d8262",
   "metadata": {},
   "outputs": [
    {
     "name": "stdout",
     "output_type": "stream",
     "text": [
      "days of undercollateralization: 5\n"
     ]
    },
    {
     "data": {
      "image/png": "[encoded data removed]",
      "text/plain": [
       "<Figure size 864x720 with 2 Axes>"
      ]
     },
     "metadata": {
      "needs_background": "light"
     },
     "output_type": "display_data"
    },
    {
     "data": {
      "application/javascript": [
       "\n",
       "            setTimeout(function() {\n",
       "                var nbb_cell_id = 53;\n",
       "                var nbb_unformatted_code = \"DEBT_CEILING_USD = 20_000_000\\nSECURE_THRESHOLD = 2.6\\nLIQUIDATION_THRESHOLD = 1.5\\nsimulate_and_plot(\\n    SIMULATED_SCENARIOS,\\n    observed_ksm_btc_corr,\\n    DEBT_CEILING_USD,\\n    SECURE_THRESHOLD,\\n    LIQUIDATION_THRESHOLD,\\n    ksm_usd_returns_daily,\\n    ksm_to_usd_daily,\\n    ksm_liquidity_model,\\n    btc_usd_returns_daily,\\n    btc_to_usd_daily,\\n    btc_liquidity_model,\\n)\";\n",
       "                var nbb_formatted_code = \"DEBT_CEILING_USD = 20_000_000\\nSECURE_THRESHOLD = 2.6\\nLIQUIDATION_THRESHOLD = 1.5\\nsimulate_and_plot(\\n    SIMULATED_SCENARIOS,\\n    observed_ksm_btc_corr,\\n    DEBT_CEILING_USD,\\n    SECURE_THRESHOLD,\\n    LIQUIDATION_THRESHOLD,\\n    ksm_usd_returns_daily,\\n    ksm_to_usd_daily,\\n    ksm_liquidity_model,\\n    btc_usd_returns_daily,\\n    btc_to_usd_daily,\\n    btc_liquidity_model,\\n)\";\n",
       "                var nbb_cells = Jupyter.notebook.get_cells();\n",
       "                for (var i = 0; i < nbb_cells.length; ++i) {\n",
       "                    if (nbb_cells[i].input_prompt_number == nbb_cell_id) {\n",
       "                        if (nbb_cells[i].get_text() == nbb_unformatted_code) {\n",
       "                             nbb_cells[i].set_text(nbb_formatted_code);\n",
       "                        }\n",
       "                        break;\n",
       "                    }\n",
       "                }\n",
       "            }, 500);\n",
       "            "
      ],
      "text/plain": [
       "<IPython.core.display.Javascript object>"
      ]
     },
     "metadata": {},
     "output_type": "display_data"
    },
    {
     "data": {
      "application/javascript": [
       "\n",
       "            setTimeout(function() {\n",
       "                var nbb_cell_id = 53;\n",
       "                var nbb_unformatted_code = \"DEBT_CEILING_USD = 20_000_000\\nSECURE_THRESHOLD = 2.6\\nLIQUIDATION_THRESHOLD = 1.5\\nsimulate_and_plot(\\n    SIMULATED_SCENARIOS,\\n    observed_ksm_btc_corr,\\n    DEBT_CEILING_USD,\\n    SECURE_THRESHOLD,\\n    LIQUIDATION_THRESHOLD,\\n    ksm_usd_returns_daily,\\n    ksm_to_usd_daily,\\n    ksm_liquidity_model,\\n    btc_usd_returns_daily,\\n    btc_to_usd_daily,\\n    btc_liquidity_model,\\n)\";\n",
       "                var nbb_formatted_code = \"DEBT_CEILING_USD = 20_000_000\\nSECURE_THRESHOLD = 2.6\\nLIQUIDATION_THRESHOLD = 1.5\\nsimulate_and_plot(\\n    SIMULATED_SCENARIOS,\\n    observed_ksm_btc_corr,\\n    DEBT_CEILING_USD,\\n    SECURE_THRESHOLD,\\n    LIQUIDATION_THRESHOLD,\\n    ksm_usd_returns_daily,\\n    ksm_to_usd_daily,\\n    ksm_liquidity_model,\\n    btc_usd_returns_daily,\\n    btc_to_usd_daily,\\n    btc_liquidity_model,\\n)\";\n",
       "                var nbb_cells = Jupyter.notebook.get_cells();\n",
       "                for (var i = 0; i < nbb_cells.length; ++i) {\n",
       "                    if (nbb_cells[i].input_prompt_number == nbb_cell_id) {\n",
       "                        if (nbb_cells[i].get_text() == nbb_unformatted_code) {\n",
       "                             nbb_cells[i].set_text(nbb_formatted_code);\n",
       "                        }\n",
       "                        break;\n",
       "                    }\n",
       "                }\n",
       "            }, 500);\n",
       "            "
      ],
      "text/plain": [
       "<IPython.core.display.Javascript object>"
      ]
     },
     "metadata": {},
     "output_type": "display_data"
    }
   ],
   "source": [
    "DEBT_CEILING_USD = 20_000_000\n",
    "SECURE_THRESHOLD = 2.6\n",
    "LIQUIDATION_THRESHOLD = 1.5\n",
    "simulate_and_plot(\n",
    "    SIMULATED_SCENARIOS,\n",
    "    observed_ksm_btc_corr,\n",
    "    DEBT_CEILING_USD,\n",
    "    SECURE_THRESHOLD,\n",
    "    LIQUIDATION_THRESHOLD,\n",
    "    ksm_usd_returns_daily,\n",
    "    ksm_to_usd_daily,\n",
    "    ksm_liquidity_model,\n",
    "    btc_usd_returns_daily,\n",
    "    btc_to_usd_daily,\n",
    "    btc_liquidity_model,\n",
    ")"
   ]
  },
  {
   "cell_type": "code",
   "execution_count": 57,
   "id": "f971b29f",
   "metadata": {},
   "outputs": [
    {
     "ename": "KeyboardInterrupt",
     "evalue": "",
     "output_type": "error",
     "traceback": [
      "\u001b[0;31m---------------------------------------------------------------------------\u001b[0m",
      "\u001b[0;31mKeyboardInterrupt\u001b[0m                         Traceback (most recent call last)",
      "\u001b[0;32m/tmp/ipykernel_139618/3481162719.py\u001b[0m in \u001b[0;36m<module>\u001b[0;34m\u001b[0m\n\u001b[1;32m      2\u001b[0m \u001b[0mSECURE_THRESHOLD\u001b[0m \u001b[0;34m=\u001b[0m \u001b[0;36m2.0\u001b[0m\u001b[0;34m\u001b[0m\u001b[0;34m\u001b[0m\u001b[0m\n\u001b[1;32m      3\u001b[0m \u001b[0mLIQUIDATION_THRESHOLD\u001b[0m \u001b[0;34m=\u001b[0m \u001b[0;36m1.5\u001b[0m\u001b[0;34m\u001b[0m\u001b[0;34m\u001b[0m\u001b[0m\n\u001b[0;32m----> 4\u001b[0;31m simulate_and_plot(\n\u001b[0m\u001b[1;32m      5\u001b[0m     \u001b[0mSIMULATED_SCENARIOS\u001b[0m\u001b[0;34m,\u001b[0m\u001b[0;34m\u001b[0m\u001b[0;34m\u001b[0m\u001b[0m\n\u001b[1;32m      6\u001b[0m     \u001b[0mobserved_dot_btc_corr\u001b[0m\u001b[0;34m,\u001b[0m\u001b[0;34m\u001b[0m\u001b[0;34m\u001b[0m\u001b[0m\n",
      "\u001b[0;32m/tmp/ipykernel_139618/1712221293.py\u001b[0m in \u001b[0;36msimulate_and_plot\u001b[0;34m(simulated_scenarios, observed_collateral_to_btc_corr, debt_ceiling_usd, secure_threshold, liquidation_threshold, collateral_usd_returns_daily, collateral_to_usd_daily, collateral_liquidity_model, btc_usd_returns_daily, btc_to_usd_daily, btc_liquidity_model)\u001b[0m\n\u001b[1;32m     47\u001b[0m         \u001b[0mliquidation_vault_issued_daily\u001b[0m\u001b[0;34m,\u001b[0m\u001b[0;34m\u001b[0m\u001b[0;34m\u001b[0m\u001b[0m\n\u001b[1;32m     48\u001b[0m         \u001b[0mdays_of_undercollateralization\u001b[0m\u001b[0;34m,\u001b[0m\u001b[0;34m\u001b[0m\u001b[0;34m\u001b[0m\u001b[0m\n\u001b[0;32m---> 49\u001b[0;31m     \u001b[0;34m)\u001b[0m \u001b[0;34m=\u001b[0m \u001b[0mget_worst_pair_of_price_trajectories\u001b[0m\u001b[0;34m(\u001b[0m\u001b[0;34m\u001b[0m\u001b[0;34m\u001b[0m\u001b[0m\n\u001b[0m\u001b[1;32m     50\u001b[0m         \u001b[0msimulated_scenarios\u001b[0m\u001b[0;34m,\u001b[0m\u001b[0;34m\u001b[0m\u001b[0;34m\u001b[0m\u001b[0m\n\u001b[1;32m     51\u001b[0m         \u001b[0mobserved_collateral_to_btc_corr\u001b[0m\u001b[0;34m,\u001b[0m\u001b[0;34m\u001b[0m\u001b[0;34m\u001b[0m\u001b[0m\n",
      "\u001b[0;32m/tmp/ipykernel_139618/3600420915.py\u001b[0m in \u001b[0;36mget_worst_pair_of_price_trajectories\u001b[0;34m(scenarios_count, asset_corr, debt_ceiling_usd, secure_threshold, liquidation_threshold, collateral_usd_returns_daily, collateral_to_usd_daily, collateral_liquidity_model, btc_usd_returns_daily, btc_to_usd_daily, btc_liquidity_model)\u001b[0m\n\u001b[1;32m    224\u001b[0m             \u001b[0mdaily_collateralization\u001b[0m\u001b[0;34m,\u001b[0m\u001b[0;34m\u001b[0m\u001b[0;34m\u001b[0m\u001b[0m\n\u001b[1;32m    225\u001b[0m             \u001b[0mliquidation_vault_btc_daily\u001b[0m\u001b[0;34m,\u001b[0m\u001b[0;34m\u001b[0m\u001b[0;34m\u001b[0m\u001b[0m\n\u001b[0;32m--> 226\u001b[0;31m         \u001b[0;34m)\u001b[0m \u001b[0;34m=\u001b[0m \u001b[0mget_days_of_undercollateralization\u001b[0m\u001b[0;34m(\u001b[0m\u001b[0;34m\u001b[0m\u001b[0;34m\u001b[0m\u001b[0m\n\u001b[0m\u001b[1;32m    227\u001b[0m             \u001b[0mworst_collateral_scenario_trajectory\u001b[0m\u001b[0;34m,\u001b[0m\u001b[0;34m\u001b[0m\u001b[0;34m\u001b[0m\u001b[0m\n\u001b[1;32m    228\u001b[0m             \u001b[0mcorrelated_btc_scenario_trajectory\u001b[0m\u001b[0;34m,\u001b[0m\u001b[0;34m\u001b[0m\u001b[0;34m\u001b[0m\u001b[0m\n",
      "\u001b[0;32m/tmp/ipykernel_139618/3600420915.py\u001b[0m in \u001b[0;36mget_days_of_undercollateralization\u001b[0;34m(worst_collateral_scenario_trajectory, correlated_btc_scenario_trajectory, collateral_liquidity_model, btc_liquidity_model, debt_ceiling_usd, secure_threshold, liquidation_threshold)\u001b[0m\n\u001b[1;32m    142\u001b[0m             \u001b[0mvaults_collateral\u001b[0m \u001b[0;34m=\u001b[0m \u001b[0;36m0\u001b[0m\u001b[0;34m\u001b[0m\u001b[0;34m\u001b[0m\u001b[0m\n\u001b[1;32m    143\u001b[0m         \u001b[0;32mif\u001b[0m \u001b[0mliquidation_vault_issued\u001b[0m \u001b[0;34m>\u001b[0m \u001b[0;36m0\u001b[0m\u001b[0;34m:\u001b[0m\u001b[0;34m\u001b[0m\u001b[0;34m\u001b[0m\u001b[0m\n\u001b[0;32m--> 144\u001b[0;31m             btc_arbitrage_amount = find_profitable_volume(\n\u001b[0m\u001b[1;32m    145\u001b[0m                 \u001b[0msecure_threshold\u001b[0m\u001b[0;34m,\u001b[0m\u001b[0;34m\u001b[0m\u001b[0;34m\u001b[0m\u001b[0m\n\u001b[1;32m    146\u001b[0m                 \u001b[0mcollateral_usd\u001b[0m\u001b[0;34m,\u001b[0m\u001b[0;34m\u001b[0m\u001b[0;34m\u001b[0m\u001b[0m\n",
      "\u001b[0;32m/tmp/ipykernel_139618/3600420915.py\u001b[0m in \u001b[0;36mfind_profitable_volume\u001b[0;34m(secure_threshold, collateral_usd, btc_usd, collateral_liquidity_model, btc_liquidity_model, liquidation_vault_issued, liquidation_vault_collateral)\u001b[0m\n\u001b[1;32m     80\u001b[0m     \u001b[0;32mwhile\u001b[0m \u001b[0mbtc_amount\u001b[0m \u001b[0;34m>\u001b[0m \u001b[0;36m0\u001b[0m\u001b[0;34m:\u001b[0m\u001b[0;34m\u001b[0m\u001b[0;34m\u001b[0m\u001b[0m\n\u001b[1;32m     81\u001b[0m         \u001b[0mcollateral_amount\u001b[0m \u001b[0;34m=\u001b[0m \u001b[0mbtc_amount\u001b[0m \u001b[0;34m*\u001b[0m \u001b[0mbtc_usd\u001b[0m \u001b[0;34m/\u001b[0m \u001b[0mcollateral_usd\u001b[0m \u001b[0;34m*\u001b[0m \u001b[0msecure_threshold\u001b[0m\u001b[0;34m\u001b[0m\u001b[0;34m\u001b[0m\u001b[0m\n\u001b[0;32m---> 82\u001b[0;31m         \u001b[0mbtc_price_change\u001b[0m \u001b[0;34m=\u001b[0m \u001b[0mbtc_liquidity_model\u001b[0m\u001b[0;34m(\u001b[0m\u001b[0;34m[\u001b[0m\u001b[0;34m[\u001b[0m\u001b[0mbtc_amount\u001b[0m\u001b[0;34m]\u001b[0m\u001b[0;34m]\u001b[0m\u001b[0;34m)\u001b[0m\u001b[0;34m[\u001b[0m\u001b[0;36m0\u001b[0m\u001b[0;34m]\u001b[0m\u001b[0;34m[\u001b[0m\u001b[0;36m0\u001b[0m\u001b[0;34m]\u001b[0m\u001b[0;34m\u001b[0m\u001b[0;34m\u001b[0m\u001b[0m\n\u001b[0m\u001b[1;32m     83\u001b[0m         collateral_price_change = collateral_liquidity_model([[collateral_amount]])[0][\n\u001b[1;32m     84\u001b[0m             \u001b[0;36m0\u001b[0m\u001b[0;34m\u001b[0m\u001b[0;34m\u001b[0m\u001b[0m\n",
      "\u001b[0;32m~/interlay/collateralization/venv/lib/python3.8/site-packages/sklearn/linear_model/_base.py\u001b[0m in \u001b[0;36mpredict\u001b[0;34m(self, X)\u001b[0m\n\u001b[1;32m    236\u001b[0m             \u001b[0mReturns\u001b[0m \u001b[0mpredicted\u001b[0m \u001b[0mvalues\u001b[0m\u001b[0;34m.\u001b[0m\u001b[0;34m\u001b[0m\u001b[0;34m\u001b[0m\u001b[0m\n\u001b[1;32m    237\u001b[0m         \"\"\"\n\u001b[0;32m--> 238\u001b[0;31m         \u001b[0;32mreturn\u001b[0m \u001b[0mself\u001b[0m\u001b[0;34m.\u001b[0m\u001b[0m_decision_function\u001b[0m\u001b[0;34m(\u001b[0m\u001b[0mX\u001b[0m\u001b[0;34m)\u001b[0m\u001b[0;34m\u001b[0m\u001b[0;34m\u001b[0m\u001b[0m\n\u001b[0m\u001b[1;32m    239\u001b[0m \u001b[0;34m\u001b[0m\u001b[0m\n\u001b[1;32m    240\u001b[0m     \u001b[0m_preprocess_data\u001b[0m \u001b[0;34m=\u001b[0m \u001b[0mstaticmethod\u001b[0m\u001b[0;34m(\u001b[0m\u001b[0m_preprocess_data\u001b[0m\u001b[0;34m)\u001b[0m\u001b[0;34m\u001b[0m\u001b[0;34m\u001b[0m\u001b[0m\n",
      "\u001b[0;32m~/interlay/collateralization/venv/lib/python3.8/site-packages/sklearn/linear_model/_base.py\u001b[0m in \u001b[0;36m_decision_function\u001b[0;34m(self, X)\u001b[0m\n\u001b[1;32m    216\u001b[0m \u001b[0;34m\u001b[0m\u001b[0m\n\u001b[1;32m    217\u001b[0m     \u001b[0;32mdef\u001b[0m \u001b[0m_decision_function\u001b[0m\u001b[0;34m(\u001b[0m\u001b[0mself\u001b[0m\u001b[0;34m,\u001b[0m \u001b[0mX\u001b[0m\u001b[0;34m)\u001b[0m\u001b[0;34m:\u001b[0m\u001b[0;34m\u001b[0m\u001b[0;34m\u001b[0m\u001b[0m\n\u001b[0;32m--> 218\u001b[0;31m         \u001b[0mcheck_is_fitted\u001b[0m\u001b[0;34m(\u001b[0m\u001b[0mself\u001b[0m\u001b[0;34m)\u001b[0m\u001b[0;34m\u001b[0m\u001b[0;34m\u001b[0m\u001b[0m\n\u001b[0m\u001b[1;32m    219\u001b[0m \u001b[0;34m\u001b[0m\u001b[0m\n\u001b[1;32m    220\u001b[0m         \u001b[0mX\u001b[0m \u001b[0;34m=\u001b[0m \u001b[0mcheck_array\u001b[0m\u001b[0;34m(\u001b[0m\u001b[0mX\u001b[0m\u001b[0;34m,\u001b[0m \u001b[0maccept_sparse\u001b[0m\u001b[0;34m=\u001b[0m\u001b[0;34m[\u001b[0m\u001b[0;34m'csr'\u001b[0m\u001b[0;34m,\u001b[0m \u001b[0;34m'csc'\u001b[0m\u001b[0;34m,\u001b[0m \u001b[0;34m'coo'\u001b[0m\u001b[0;34m]\u001b[0m\u001b[0;34m)\u001b[0m\u001b[0;34m\u001b[0m\u001b[0;34m\u001b[0m\u001b[0m\n",
      "\u001b[0;32m~/interlay/collateralization/venv/lib/python3.8/site-packages/sklearn/utils/validation.py\u001b[0m in \u001b[0;36minner_f\u001b[0;34m(*args, **kwargs)\u001b[0m\n\u001b[1;32m     61\u001b[0m             \u001b[0mextra_args\u001b[0m \u001b[0;34m=\u001b[0m \u001b[0mlen\u001b[0m\u001b[0;34m(\u001b[0m\u001b[0margs\u001b[0m\u001b[0;34m)\u001b[0m \u001b[0;34m-\u001b[0m \u001b[0mlen\u001b[0m\u001b[0;34m(\u001b[0m\u001b[0mall_args\u001b[0m\u001b[0;34m)\u001b[0m\u001b[0;34m\u001b[0m\u001b[0;34m\u001b[0m\u001b[0m\n\u001b[1;32m     62\u001b[0m             \u001b[0;32mif\u001b[0m \u001b[0mextra_args\u001b[0m \u001b[0;34m<=\u001b[0m \u001b[0;36m0\u001b[0m\u001b[0;34m:\u001b[0m\u001b[0;34m\u001b[0m\u001b[0;34m\u001b[0m\u001b[0m\n\u001b[0;32m---> 63\u001b[0;31m                 \u001b[0;32mreturn\u001b[0m \u001b[0mf\u001b[0m\u001b[0;34m(\u001b[0m\u001b[0;34m*\u001b[0m\u001b[0margs\u001b[0m\u001b[0;34m,\u001b[0m \u001b[0;34m**\u001b[0m\u001b[0mkwargs\u001b[0m\u001b[0;34m)\u001b[0m\u001b[0;34m\u001b[0m\u001b[0;34m\u001b[0m\u001b[0m\n\u001b[0m\u001b[1;32m     64\u001b[0m \u001b[0;34m\u001b[0m\u001b[0m\n\u001b[1;32m     65\u001b[0m             \u001b[0;31m# extra_args > 0\u001b[0m\u001b[0;34m\u001b[0m\u001b[0;34m\u001b[0m\u001b[0;34m\u001b[0m\u001b[0m\n",
      "\u001b[0;32m~/interlay/collateralization/venv/lib/python3.8/site-packages/sklearn/utils/validation.py\u001b[0m in \u001b[0;36mcheck_is_fitted\u001b[0;34m(estimator, attributes, msg, all_or_any)\u001b[0m\n\u001b[1;32m   1092\u001b[0m         \u001b[0mattrs\u001b[0m \u001b[0;34m=\u001b[0m \u001b[0mall_or_any\u001b[0m\u001b[0;34m(\u001b[0m\u001b[0;34m[\u001b[0m\u001b[0mhasattr\u001b[0m\u001b[0;34m(\u001b[0m\u001b[0mestimator\u001b[0m\u001b[0;34m,\u001b[0m \u001b[0mattr\u001b[0m\u001b[0;34m)\u001b[0m \u001b[0;32mfor\u001b[0m \u001b[0mattr\u001b[0m \u001b[0;32min\u001b[0m \u001b[0mattributes\u001b[0m\u001b[0;34m]\u001b[0m\u001b[0;34m)\u001b[0m\u001b[0;34m\u001b[0m\u001b[0;34m\u001b[0m\u001b[0m\n\u001b[1;32m   1093\u001b[0m     \u001b[0;32melse\u001b[0m\u001b[0;34m:\u001b[0m\u001b[0;34m\u001b[0m\u001b[0;34m\u001b[0m\u001b[0m\n\u001b[0;32m-> 1094\u001b[0;31m         attrs = [v for v in vars(estimator)\n\u001b[0m\u001b[1;32m   1095\u001b[0m                  if v.endswith(\"_\") and not v.startswith(\"__\")]\n\u001b[1;32m   1096\u001b[0m \u001b[0;34m\u001b[0m\u001b[0m\n",
      "\u001b[0;32m~/interlay/collateralization/venv/lib/python3.8/site-packages/sklearn/utils/validation.py\u001b[0m in \u001b[0;36m<listcomp>\u001b[0;34m(.0)\u001b[0m\n\u001b[1;32m   1093\u001b[0m     \u001b[0;32melse\u001b[0m\u001b[0;34m:\u001b[0m\u001b[0;34m\u001b[0m\u001b[0;34m\u001b[0m\u001b[0m\n\u001b[1;32m   1094\u001b[0m         attrs = [v for v in vars(estimator)\n\u001b[0;32m-> 1095\u001b[0;31m                  if v.endswith(\"_\") and not v.startswith(\"__\")]\n\u001b[0m\u001b[1;32m   1096\u001b[0m \u001b[0;34m\u001b[0m\u001b[0m\n\u001b[1;32m   1097\u001b[0m     \u001b[0;32mif\u001b[0m \u001b[0;32mnot\u001b[0m \u001b[0mattrs\u001b[0m\u001b[0;34m:\u001b[0m\u001b[0;34m\u001b[0m\u001b[0;34m\u001b[0m\u001b[0m\n",
      "\u001b[0;31mKeyboardInterrupt\u001b[0m: "
     ]
    },
    {
     "data": {
      "application/javascript": [
       "\n",
       "            setTimeout(function() {\n",
       "                var nbb_cell_id = 57;\n",
       "                var nbb_unformatted_code = \"DEBT_CEILING_USD = 2_000_000_000\\nSECURE_THRESHOLD = 2.0\\nLIQUIDATION_THRESHOLD = 1.5\\nsimulate_and_plot(\\n    SIMULATED_SCENARIOS,\\n    observed_dot_btc_corr,\\n    DEBT_CEILING_USD,\\n    SECURE_THRESHOLD,\\n    LIQUIDATION_THRESHOLD,\\n    dot_usd_returns_daily,\\n    dot_to_usd_daily,\\n    dot_liquidity_model,\\n    btc_usd_returns_daily,\\n    btc_to_usd_daily,\\n    btc_liquidity_model,\\n)\";\n",
       "                var nbb_formatted_code = \"DEBT_CEILING_USD = 2_000_000_000\\nSECURE_THRESHOLD = 2.0\\nLIQUIDATION_THRESHOLD = 1.5\\nsimulate_and_plot(\\n    SIMULATED_SCENARIOS,\\n    observed_dot_btc_corr,\\n    DEBT_CEILING_USD,\\n    SECURE_THRESHOLD,\\n    LIQUIDATION_THRESHOLD,\\n    dot_usd_returns_daily,\\n    dot_to_usd_daily,\\n    dot_liquidity_model,\\n    btc_usd_returns_daily,\\n    btc_to_usd_daily,\\n    btc_liquidity_model,\\n)\";\n",
       "                var nbb_cells = Jupyter.notebook.get_cells();\n",
       "                for (var i = 0; i < nbb_cells.length; ++i) {\n",
       "                    if (nbb_cells[i].input_prompt_number == nbb_cell_id) {\n",
       "                        if (nbb_cells[i].get_text() == nbb_unformatted_code) {\n",
       "                             nbb_cells[i].set_text(nbb_formatted_code);\n",
       "                        }\n",
       "                        break;\n",
       "                    }\n",
       "                }\n",
       "            }, 500);\n",
       "            "
      ],
      "text/plain": [
       "<IPython.core.display.Javascript object>"
      ]
     },
     "metadata": {},
     "output_type": "display_data"
    },
    {
     "data": {
      "application/javascript": [
       "\n",
       "            setTimeout(function() {\n",
       "                var nbb_cell_id = 57;\n",
       "                var nbb_unformatted_code = \"DEBT_CEILING_USD = 2_000_000_000\\nSECURE_THRESHOLD = 2.0\\nLIQUIDATION_THRESHOLD = 1.5\\nsimulate_and_plot(\\n    SIMULATED_SCENARIOS,\\n    observed_dot_btc_corr,\\n    DEBT_CEILING_USD,\\n    SECURE_THRESHOLD,\\n    LIQUIDATION_THRESHOLD,\\n    dot_usd_returns_daily,\\n    dot_to_usd_daily,\\n    dot_liquidity_model,\\n    btc_usd_returns_daily,\\n    btc_to_usd_daily,\\n    btc_liquidity_model,\\n)\";\n",
       "                var nbb_formatted_code = \"DEBT_CEILING_USD = 2_000_000_000\\nSECURE_THRESHOLD = 2.0\\nLIQUIDATION_THRESHOLD = 1.5\\nsimulate_and_plot(\\n    SIMULATED_SCENARIOS,\\n    observed_dot_btc_corr,\\n    DEBT_CEILING_USD,\\n    SECURE_THRESHOLD,\\n    LIQUIDATION_THRESHOLD,\\n    dot_usd_returns_daily,\\n    dot_to_usd_daily,\\n    dot_liquidity_model,\\n    btc_usd_returns_daily,\\n    btc_to_usd_daily,\\n    btc_liquidity_model,\\n)\";\n",
       "                var nbb_cells = Jupyter.notebook.get_cells();\n",
       "                for (var i = 0; i < nbb_cells.length; ++i) {\n",
       "                    if (nbb_cells[i].input_prompt_number == nbb_cell_id) {\n",
       "                        if (nbb_cells[i].get_text() == nbb_unformatted_code) {\n",
       "                             nbb_cells[i].set_text(nbb_formatted_code);\n",
       "                        }\n",
       "                        break;\n",
       "                    }\n",
       "                }\n",
       "            }, 500);\n",
       "            "
      ],
      "text/plain": [
       "<IPython.core.display.Javascript object>"
      ]
     },
     "metadata": {},
     "output_type": "display_data"
    }
   ],
   "source": [
    "DEBT_CEILING_USD = 20_000_000\n",
    "SECURE_THRESHOLD = 2.8\n",
    "LIQUIDATION_THRESHOLD = 2.2\n",
    "simulate_and_plot(\n",
    "    SIMULATED_SCENARIOS,\n",
    "    observed_ksm_btc_corr,\n",
    "    DEBT_CEILING_USD,\n",
    "    SECURE_THRESHOLD,\n",
    "    LIQUIDATION_THRESHOLD,\n",
    "    ksm_usd_returns_daily,\n",
    "    ksm_to_usd_daily,\n",
    "    ksm_liquidity_model,\n",
    "    btc_usd_returns_daily,\n",
    "    btc_to_usd_daily,\n",
    "    btc_liquidity_model,\n",
    ")"
   ]
  },
  {
   "cell_type": "code",
   "execution_count": null,
   "id": "befed1f0",
   "metadata": {},
   "outputs": [],
   "source": []
  },
  {
   "cell_type": "markdown",
   "id": "dba72eae",
   "metadata": {},
   "source": [
    "# Value At Risk (VAR) Model\n",
    "https://ocw.mit.edu/courses/mathematics/18-s096-topics-in-mathematics-with-applications-in-finance-fall-2013/lecture-notes/MIT18_S096F13_lecnote7.pdf"
   ]
  },
  {
   "cell_type": "code",
   "execution_count": 58,
   "id": "8212210e",
   "metadata": {},
   "outputs": [
    {
     "name": "stdout",
     "output_type": "stream",
     "text": [
      "DOT VaR results\n",
      "99.9% confidence interval max price drop (%): 19.542940371123173\n",
      "Liquidation threshold assumption: 2.6\n",
      "Required collateralization (99.9% confidence interval): 3.2315374337478704\n",
      "Required collateralization (99% confidence interval): 3.0684282832872705\n",
      "Required collateralization (95% confidence interval): 2.942594600606168\n",
      "\n",
      "KSM VaR results\n",
      "99.9% confidence interval max price drop (%): 22.06529964569\n",
      "Liquidation threshold assumption: 2.8\n",
      "Required collateralization (99.9% confidence interval): 3.592751351157472\n",
      "Required collateralization (99% confidence interval): 3.3831305779788847\n",
      "Required collateralization (95% confidence interval): 3.2237743185558307\n"
     ]
    },
    {
     "data": {
      "application/javascript": [
       "\n",
       "            setTimeout(function() {\n",
       "                var nbb_cell_id = 58;\n",
       "                var nbb_unformatted_code = \"def get_var(bid_ask_spread, threshold, daily_returns):\\n    confidence_99_9 = 3.29\\n    confidence_99 = 2.57\\n    confidence_95 = 1.96\\n    # Compute stddev using the daily returns, as these have higher volatility\\n    # VaR occasionally underestimates the number of large market moves.\\n    # Could consider a higher confidence interval to be on the safe side\\n    std_dev = statistics.pstdev(daily_returns)\\n    expected_loss_percentage_99_9 = confidence_99_9 * std_dev * (bid_ask_spread / 2 + 1)\\n    expected_loss_percentage_99 = confidence_99 * std_dev * (bid_ask_spread / 2 + 1)\\n    expected_loss_percentage_95 = confidence_95 * std_dev * (bid_ask_spread / 2 + 1)\\n    print(\\n        \\\"99.9% confidence interval max price drop (%): \\\"\\n        + str(expected_loss_percentage_99_9 * 100)\\n    )\\n    required_collateralization_99_9 = threshold / (1 - expected_loss_percentage_99_9)\\n    required_collateralization_99 = threshold / (1 - expected_loss_percentage_99)\\n    required_collateralization_95 = threshold / (1 - expected_loss_percentage_95)\\n    print(\\\"Liquidation threshold assumption: \\\" + str(threshold))\\n    print(\\n        \\\"Required collateralization (99.9% confidence interval): \\\"\\n        + str(required_collateralization_99_9)\\n    )\\n    print(\\n        \\\"Required collateralization (99% confidence interval): \\\"\\n        + str(required_collateralization_99)\\n    )\\n    print(\\n        \\\"Required collateralization (95% confidence interval): \\\"\\n        + str(required_collateralization_95)\\n    )\\n\\n\\nDOT_BTC_bid_ask_spread = 0.001\\nDOT_PREMIUM_REDEEM_THRESHOLD = 2.6\\nprint(\\\"DOT VaR results\\\")\\nget_var(DOT_BTC_bid_ask_spread, DOT_PREMIUM_REDEEM_THRESHOLD, dot_to_btc_returns_daily)\\nprint()\\nprint(\\\"KSM VaR results\\\")\\nKSM_BTC_bid_ask_spread = 0.003\\nKSM_PREMIUM_REDEEM_THRESHOLD = 2.8\\nget_var(KSM_BTC_bid_ask_spread, KSM_PREMIUM_REDEEM_THRESHOLD, ksm_to_btc_returns_daily)\";\n",
       "                var nbb_formatted_code = \"def get_var(bid_ask_spread, threshold, daily_returns):\\n    confidence_99_9 = 3.29\\n    confidence_99 = 2.57\\n    confidence_95 = 1.96\\n    # Compute stddev using the daily returns, as these have higher volatility\\n    # VaR occasionally underestimates the number of large market moves.\\n    # Could consider a higher confidence interval to be on the safe side\\n    std_dev = statistics.pstdev(daily_returns)\\n    expected_loss_percentage_99_9 = confidence_99_9 * std_dev * (bid_ask_spread / 2 + 1)\\n    expected_loss_percentage_99 = confidence_99 * std_dev * (bid_ask_spread / 2 + 1)\\n    expected_loss_percentage_95 = confidence_95 * std_dev * (bid_ask_spread / 2 + 1)\\n    print(\\n        \\\"99.9% confidence interval max price drop (%): \\\"\\n        + str(expected_loss_percentage_99_9 * 100)\\n    )\\n    required_collateralization_99_9 = threshold / (1 - expected_loss_percentage_99_9)\\n    required_collateralization_99 = threshold / (1 - expected_loss_percentage_99)\\n    required_collateralization_95 = threshold / (1 - expected_loss_percentage_95)\\n    print(\\\"Liquidation threshold assumption: \\\" + str(threshold))\\n    print(\\n        \\\"Required collateralization (99.9% confidence interval): \\\"\\n        + str(required_collateralization_99_9)\\n    )\\n    print(\\n        \\\"Required collateralization (99% confidence interval): \\\"\\n        + str(required_collateralization_99)\\n    )\\n    print(\\n        \\\"Required collateralization (95% confidence interval): \\\"\\n        + str(required_collateralization_95)\\n    )\\n\\n\\nDOT_BTC_bid_ask_spread = 0.001\\nDOT_PREMIUM_REDEEM_THRESHOLD = 2.6\\nprint(\\\"DOT VaR results\\\")\\nget_var(DOT_BTC_bid_ask_spread, DOT_PREMIUM_REDEEM_THRESHOLD, dot_to_btc_returns_daily)\\nprint()\\nprint(\\\"KSM VaR results\\\")\\nKSM_BTC_bid_ask_spread = 0.003\\nKSM_PREMIUM_REDEEM_THRESHOLD = 2.8\\nget_var(KSM_BTC_bid_ask_spread, KSM_PREMIUM_REDEEM_THRESHOLD, ksm_to_btc_returns_daily)\";\n",
       "                var nbb_cells = Jupyter.notebook.get_cells();\n",
       "                for (var i = 0; i < nbb_cells.length; ++i) {\n",
       "                    if (nbb_cells[i].input_prompt_number == nbb_cell_id) {\n",
       "                        if (nbb_cells[i].get_text() == nbb_unformatted_code) {\n",
       "                             nbb_cells[i].set_text(nbb_formatted_code);\n",
       "                        }\n",
       "                        break;\n",
       "                    }\n",
       "                }\n",
       "            }, 500);\n",
       "            "
      ],
      "text/plain": [
       "<IPython.core.display.Javascript object>"
      ]
     },
     "metadata": {},
     "output_type": "display_data"
    },
    {
     "data": {
      "application/javascript": [
       "\n",
       "            setTimeout(function() {\n",
       "                var nbb_cell_id = 58;\n",
       "                var nbb_unformatted_code = \"def get_var(bid_ask_spread, threshold, daily_returns):\\n    confidence_99_9 = 3.29\\n    confidence_99 = 2.57\\n    confidence_95 = 1.96\\n    # Compute stddev using the daily returns, as these have higher volatility\\n    # VaR occasionally underestimates the number of large market moves.\\n    # Could consider a higher confidence interval to be on the safe side\\n    std_dev = statistics.pstdev(daily_returns)\\n    expected_loss_percentage_99_9 = confidence_99_9 * std_dev * (bid_ask_spread / 2 + 1)\\n    expected_loss_percentage_99 = confidence_99 * std_dev * (bid_ask_spread / 2 + 1)\\n    expected_loss_percentage_95 = confidence_95 * std_dev * (bid_ask_spread / 2 + 1)\\n    print(\\n        \\\"99.9% confidence interval max price drop (%): \\\"\\n        + str(expected_loss_percentage_99_9 * 100)\\n    )\\n    required_collateralization_99_9 = threshold / (1 - expected_loss_percentage_99_9)\\n    required_collateralization_99 = threshold / (1 - expected_loss_percentage_99)\\n    required_collateralization_95 = threshold / (1 - expected_loss_percentage_95)\\n    print(\\\"Liquidation threshold assumption: \\\" + str(threshold))\\n    print(\\n        \\\"Required collateralization (99.9% confidence interval): \\\"\\n        + str(required_collateralization_99_9)\\n    )\\n    print(\\n        \\\"Required collateralization (99% confidence interval): \\\"\\n        + str(required_collateralization_99)\\n    )\\n    print(\\n        \\\"Required collateralization (95% confidence interval): \\\"\\n        + str(required_collateralization_95)\\n    )\\n\\n\\nDOT_BTC_bid_ask_spread = 0.001\\nDOT_PREMIUM_REDEEM_THRESHOLD = 2.6\\nprint(\\\"DOT VaR results\\\")\\nget_var(DOT_BTC_bid_ask_spread, DOT_PREMIUM_REDEEM_THRESHOLD, dot_to_btc_returns_daily)\\nprint()\\nprint(\\\"KSM VaR results\\\")\\nKSM_BTC_bid_ask_spread = 0.003\\nKSM_PREMIUM_REDEEM_THRESHOLD = 2.8\\nget_var(KSM_BTC_bid_ask_spread, KSM_PREMIUM_REDEEM_THRESHOLD, ksm_to_btc_returns_daily)\";\n",
       "                var nbb_formatted_code = \"def get_var(bid_ask_spread, threshold, daily_returns):\\n    confidence_99_9 = 3.29\\n    confidence_99 = 2.57\\n    confidence_95 = 1.96\\n    # Compute stddev using the daily returns, as these have higher volatility\\n    # VaR occasionally underestimates the number of large market moves.\\n    # Could consider a higher confidence interval to be on the safe side\\n    std_dev = statistics.pstdev(daily_returns)\\n    expected_loss_percentage_99_9 = confidence_99_9 * std_dev * (bid_ask_spread / 2 + 1)\\n    expected_loss_percentage_99 = confidence_99 * std_dev * (bid_ask_spread / 2 + 1)\\n    expected_loss_percentage_95 = confidence_95 * std_dev * (bid_ask_spread / 2 + 1)\\n    print(\\n        \\\"99.9% confidence interval max price drop (%): \\\"\\n        + str(expected_loss_percentage_99_9 * 100)\\n    )\\n    required_collateralization_99_9 = threshold / (1 - expected_loss_percentage_99_9)\\n    required_collateralization_99 = threshold / (1 - expected_loss_percentage_99)\\n    required_collateralization_95 = threshold / (1 - expected_loss_percentage_95)\\n    print(\\\"Liquidation threshold assumption: \\\" + str(threshold))\\n    print(\\n        \\\"Required collateralization (99.9% confidence interval): \\\"\\n        + str(required_collateralization_99_9)\\n    )\\n    print(\\n        \\\"Required collateralization (99% confidence interval): \\\"\\n        + str(required_collateralization_99)\\n    )\\n    print(\\n        \\\"Required collateralization (95% confidence interval): \\\"\\n        + str(required_collateralization_95)\\n    )\\n\\n\\nDOT_BTC_bid_ask_spread = 0.001\\nDOT_PREMIUM_REDEEM_THRESHOLD = 2.6\\nprint(\\\"DOT VaR results\\\")\\nget_var(DOT_BTC_bid_ask_spread, DOT_PREMIUM_REDEEM_THRESHOLD, dot_to_btc_returns_daily)\\nprint()\\nprint(\\\"KSM VaR results\\\")\\nKSM_BTC_bid_ask_spread = 0.003\\nKSM_PREMIUM_REDEEM_THRESHOLD = 2.8\\nget_var(KSM_BTC_bid_ask_spread, KSM_PREMIUM_REDEEM_THRESHOLD, ksm_to_btc_returns_daily)\";\n",
       "                var nbb_cells = Jupyter.notebook.get_cells();\n",
       "                for (var i = 0; i < nbb_cells.length; ++i) {\n",
       "                    if (nbb_cells[i].input_prompt_number == nbb_cell_id) {\n",
       "                        if (nbb_cells[i].get_text() == nbb_unformatted_code) {\n",
       "                             nbb_cells[i].set_text(nbb_formatted_code);\n",
       "                        }\n",
       "                        break;\n",
       "                    }\n",
       "                }\n",
       "            }, 500);\n",
       "            "
      ],
      "text/plain": [
       "<IPython.core.display.Javascript object>"
      ]
     },
     "metadata": {},
     "output_type": "display_data"
    },
    {
     "data": {
      "application/javascript": [
       "\n",
       "            setTimeout(function() {\n",
       "                var nbb_cell_id = 58;\n",
       "                var nbb_unformatted_code = \"def get_var(bid_ask_spread, threshold, daily_returns):\\n    confidence_99_9 = 3.29\\n    confidence_99 = 2.57\\n    confidence_95 = 1.96\\n    # Compute stddev using the daily returns, as these have higher volatility\\n    # VaR occasionally underestimates the number of large market moves.\\n    # Could consider a higher confidence interval to be on the safe side\\n    std_dev = statistics.pstdev(daily_returns)\\n    expected_loss_percentage_99_9 = confidence_99_9 * std_dev * (bid_ask_spread / 2 + 1)\\n    expected_loss_percentage_99 = confidence_99 * std_dev * (bid_ask_spread / 2 + 1)\\n    expected_loss_percentage_95 = confidence_95 * std_dev * (bid_ask_spread / 2 + 1)\\n    print(\\n        \\\"99.9% confidence interval max price drop (%): \\\"\\n        + str(expected_loss_percentage_99_9 * 100)\\n    )\\n    required_collateralization_99_9 = threshold / (1 - expected_loss_percentage_99_9)\\n    required_collateralization_99 = threshold / (1 - expected_loss_percentage_99)\\n    required_collateralization_95 = threshold / (1 - expected_loss_percentage_95)\\n    print(\\\"Liquidation threshold assumption: \\\" + str(threshold))\\n    print(\\n        \\\"Required collateralization (99.9% confidence interval): \\\"\\n        + str(required_collateralization_99_9)\\n    )\\n    print(\\n        \\\"Required collateralization (99% confidence interval): \\\"\\n        + str(required_collateralization_99)\\n    )\\n    print(\\n        \\\"Required collateralization (95% confidence interval): \\\"\\n        + str(required_collateralization_95)\\n    )\\n\\n\\nDOT_BTC_bid_ask_spread = 0.001\\nDOT_PREMIUM_REDEEM_THRESHOLD = 2.6\\nprint(\\\"DOT VaR results\\\")\\nget_var(DOT_BTC_bid_ask_spread, DOT_PREMIUM_REDEEM_THRESHOLD, dot_to_btc_returns_daily)\\nprint()\\nprint(\\\"KSM VaR results\\\")\\nKSM_BTC_bid_ask_spread = 0.003\\nKSM_PREMIUM_REDEEM_THRESHOLD = 2.8\\nget_var(KSM_BTC_bid_ask_spread, KSM_PREMIUM_REDEEM_THRESHOLD, ksm_to_btc_returns_daily)\";\n",
       "                var nbb_formatted_code = \"def get_var(bid_ask_spread, threshold, daily_returns):\\n    confidence_99_9 = 3.29\\n    confidence_99 = 2.57\\n    confidence_95 = 1.96\\n    # Compute stddev using the daily returns, as these have higher volatility\\n    # VaR occasionally underestimates the number of large market moves.\\n    # Could consider a higher confidence interval to be on the safe side\\n    std_dev = statistics.pstdev(daily_returns)\\n    expected_loss_percentage_99_9 = confidence_99_9 * std_dev * (bid_ask_spread / 2 + 1)\\n    expected_loss_percentage_99 = confidence_99 * std_dev * (bid_ask_spread / 2 + 1)\\n    expected_loss_percentage_95 = confidence_95 * std_dev * (bid_ask_spread / 2 + 1)\\n    print(\\n        \\\"99.9% confidence interval max price drop (%): \\\"\\n        + str(expected_loss_percentage_99_9 * 100)\\n    )\\n    required_collateralization_99_9 = threshold / (1 - expected_loss_percentage_99_9)\\n    required_collateralization_99 = threshold / (1 - expected_loss_percentage_99)\\n    required_collateralization_95 = threshold / (1 - expected_loss_percentage_95)\\n    print(\\\"Liquidation threshold assumption: \\\" + str(threshold))\\n    print(\\n        \\\"Required collateralization (99.9% confidence interval): \\\"\\n        + str(required_collateralization_99_9)\\n    )\\n    print(\\n        \\\"Required collateralization (99% confidence interval): \\\"\\n        + str(required_collateralization_99)\\n    )\\n    print(\\n        \\\"Required collateralization (95% confidence interval): \\\"\\n        + str(required_collateralization_95)\\n    )\\n\\n\\nDOT_BTC_bid_ask_spread = 0.001\\nDOT_PREMIUM_REDEEM_THRESHOLD = 2.6\\nprint(\\\"DOT VaR results\\\")\\nget_var(DOT_BTC_bid_ask_spread, DOT_PREMIUM_REDEEM_THRESHOLD, dot_to_btc_returns_daily)\\nprint()\\nprint(\\\"KSM VaR results\\\")\\nKSM_BTC_bid_ask_spread = 0.003\\nKSM_PREMIUM_REDEEM_THRESHOLD = 2.8\\nget_var(KSM_BTC_bid_ask_spread, KSM_PREMIUM_REDEEM_THRESHOLD, ksm_to_btc_returns_daily)\";\n",
       "                var nbb_cells = Jupyter.notebook.get_cells();\n",
       "                for (var i = 0; i < nbb_cells.length; ++i) {\n",
       "                    if (nbb_cells[i].input_prompt_number == nbb_cell_id) {\n",
       "                        if (nbb_cells[i].get_text() == nbb_unformatted_code) {\n",
       "                             nbb_cells[i].set_text(nbb_formatted_code);\n",
       "                        }\n",
       "                        break;\n",
       "                    }\n",
       "                }\n",
       "            }, 500);\n",
       "            "
      ],
      "text/plain": [
       "<IPython.core.display.Javascript object>"
      ]
     },
     "metadata": {},
     "output_type": "display_data"
    },
    {
     "data": {
      "application/javascript": [
       "\n",
       "            setTimeout(function() {\n",
       "                var nbb_cell_id = 58;\n",
       "                var nbb_unformatted_code = \"def get_var(bid_ask_spread, threshold, daily_returns):\\n    confidence_99_9 = 3.29\\n    confidence_99 = 2.57\\n    confidence_95 = 1.96\\n    # Compute stddev using the daily returns, as these have higher volatility\\n    # VaR occasionally underestimates the number of large market moves.\\n    # Could consider a higher confidence interval to be on the safe side\\n    std_dev = statistics.pstdev(daily_returns)\\n    expected_loss_percentage_99_9 = confidence_99_9 * std_dev * (bid_ask_spread / 2 + 1)\\n    expected_loss_percentage_99 = confidence_99 * std_dev * (bid_ask_spread / 2 + 1)\\n    expected_loss_percentage_95 = confidence_95 * std_dev * (bid_ask_spread / 2 + 1)\\n    print(\\n        \\\"99.9% confidence interval max price drop (%): \\\"\\n        + str(expected_loss_percentage_99_9 * 100)\\n    )\\n    required_collateralization_99_9 = threshold / (1 - expected_loss_percentage_99_9)\\n    required_collateralization_99 = threshold / (1 - expected_loss_percentage_99)\\n    required_collateralization_95 = threshold / (1 - expected_loss_percentage_95)\\n    print(\\\"Liquidation threshold assumption: \\\" + str(threshold))\\n    print(\\n        \\\"Required collateralization (99.9% confidence interval): \\\"\\n        + str(required_collateralization_99_9)\\n    )\\n    print(\\n        \\\"Required collateralization (99% confidence interval): \\\"\\n        + str(required_collateralization_99)\\n    )\\n    print(\\n        \\\"Required collateralization (95% confidence interval): \\\"\\n        + str(required_collateralization_95)\\n    )\\n\\n\\nDOT_BTC_bid_ask_spread = 0.001\\nDOT_PREMIUM_REDEEM_THRESHOLD = 2.6\\nprint(\\\"DOT VaR results\\\")\\nget_var(DOT_BTC_bid_ask_spread, DOT_PREMIUM_REDEEM_THRESHOLD, dot_to_btc_returns_daily)\\nprint()\\nprint(\\\"KSM VaR results\\\")\\nKSM_BTC_bid_ask_spread = 0.003\\nKSM_PREMIUM_REDEEM_THRESHOLD = 2.8\\nget_var(KSM_BTC_bid_ask_spread, KSM_PREMIUM_REDEEM_THRESHOLD, ksm_to_btc_returns_daily)\";\n",
       "                var nbb_formatted_code = \"def get_var(bid_ask_spread, threshold, daily_returns):\\n    confidence_99_9 = 3.29\\n    confidence_99 = 2.57\\n    confidence_95 = 1.96\\n    # Compute stddev using the daily returns, as these have higher volatility\\n    # VaR occasionally underestimates the number of large market moves.\\n    # Could consider a higher confidence interval to be on the safe side\\n    std_dev = statistics.pstdev(daily_returns)\\n    expected_loss_percentage_99_9 = confidence_99_9 * std_dev * (bid_ask_spread / 2 + 1)\\n    expected_loss_percentage_99 = confidence_99 * std_dev * (bid_ask_spread / 2 + 1)\\n    expected_loss_percentage_95 = confidence_95 * std_dev * (bid_ask_spread / 2 + 1)\\n    print(\\n        \\\"99.9% confidence interval max price drop (%): \\\"\\n        + str(expected_loss_percentage_99_9 * 100)\\n    )\\n    required_collateralization_99_9 = threshold / (1 - expected_loss_percentage_99_9)\\n    required_collateralization_99 = threshold / (1 - expected_loss_percentage_99)\\n    required_collateralization_95 = threshold / (1 - expected_loss_percentage_95)\\n    print(\\\"Liquidation threshold assumption: \\\" + str(threshold))\\n    print(\\n        \\\"Required collateralization (99.9% confidence interval): \\\"\\n        + str(required_collateralization_99_9)\\n    )\\n    print(\\n        \\\"Required collateralization (99% confidence interval): \\\"\\n        + str(required_collateralization_99)\\n    )\\n    print(\\n        \\\"Required collateralization (95% confidence interval): \\\"\\n        + str(required_collateralization_95)\\n    )\\n\\n\\nDOT_BTC_bid_ask_spread = 0.001\\nDOT_PREMIUM_REDEEM_THRESHOLD = 2.6\\nprint(\\\"DOT VaR results\\\")\\nget_var(DOT_BTC_bid_ask_spread, DOT_PREMIUM_REDEEM_THRESHOLD, dot_to_btc_returns_daily)\\nprint()\\nprint(\\\"KSM VaR results\\\")\\nKSM_BTC_bid_ask_spread = 0.003\\nKSM_PREMIUM_REDEEM_THRESHOLD = 2.8\\nget_var(KSM_BTC_bid_ask_spread, KSM_PREMIUM_REDEEM_THRESHOLD, ksm_to_btc_returns_daily)\";\n",
       "                var nbb_cells = Jupyter.notebook.get_cells();\n",
       "                for (var i = 0; i < nbb_cells.length; ++i) {\n",
       "                    if (nbb_cells[i].input_prompt_number == nbb_cell_id) {\n",
       "                        if (nbb_cells[i].get_text() == nbb_unformatted_code) {\n",
       "                             nbb_cells[i].set_text(nbb_formatted_code);\n",
       "                        }\n",
       "                        break;\n",
       "                    }\n",
       "                }\n",
       "            }, 500);\n",
       "            "
      ],
      "text/plain": [
       "<IPython.core.display.Javascript object>"
      ]
     },
     "metadata": {},
     "output_type": "display_data"
    }
   ],
   "source": [
    "def get_var(bid_ask_spread, threshold, daily_returns):\n",
    "    confidence_99_9 = 3.29\n",
    "    confidence_99 = 2.57\n",
    "    confidence_95 = 1.96\n",
    "    # Compute stddev using the daily returns, as these have higher volatility\n",
    "    # VaR occasionally underestimates the number of large market moves.\n",
    "    # Could consider a higher confidence interval to be on the safe side\n",
    "    std_dev = statistics.pstdev(daily_returns)\n",
    "    expected_loss_percentage_99_9 = confidence_99_9 * std_dev * (bid_ask_spread / 2 + 1)\n",
    "    expected_loss_percentage_99 = confidence_99 * std_dev * (bid_ask_spread / 2 + 1)\n",
    "    expected_loss_percentage_95 = confidence_95 * std_dev * (bid_ask_spread / 2 + 1)\n",
    "    print(\n",
    "        \"99.9% confidence interval max price drop (%): \"\n",
    "        + str(expected_loss_percentage_99_9 * 100)\n",
    "    )\n",
    "    required_collateralization_99_9 = threshold / (1 - expected_loss_percentage_99_9)\n",
    "    required_collateralization_99 = threshold / (1 - expected_loss_percentage_99)\n",
    "    required_collateralization_95 = threshold / (1 - expected_loss_percentage_95)\n",
    "    print(\"Liquidation threshold assumption: \" + str(threshold))\n",
    "    print(\n",
    "        \"Required collateralization (99.9% confidence interval): \"\n",
    "        + str(required_collateralization_99_9)\n",
    "    )\n",
    "    print(\n",
    "        \"Required collateralization (99% confidence interval): \"\n",
    "        + str(required_collateralization_99)\n",
    "    )\n",
    "    print(\n",
    "        \"Required collateralization (95% confidence interval): \"\n",
    "        + str(required_collateralization_95)\n",
    "    )\n",
    "\n",
    "\n",
    "DOT_BTC_bid_ask_spread = 0.001\n",
    "DOT_PREMIUM_REDEEM_THRESHOLD = 2.6\n",
    "print(\"DOT VaR results\")\n",
    "get_var(DOT_BTC_bid_ask_spread, DOT_PREMIUM_REDEEM_THRESHOLD, dot_to_btc_returns_daily)\n",
    "print()\n",
    "print(\"KSM VaR results\")\n",
    "KSM_BTC_bid_ask_spread = 0.003\n",
    "KSM_PREMIUM_REDEEM_THRESHOLD = 2.8\n",
    "get_var(KSM_BTC_bid_ask_spread, KSM_PREMIUM_REDEEM_THRESHOLD, ksm_to_btc_returns_daily)"
   ]
  },
  {
   "cell_type": "code",
   "execution_count": 59,
   "id": "170f938c",
   "metadata": {},
   "outputs": [
    {
     "data": {
      "application/javascript": [
       "\n",
       "            setTimeout(function() {\n",
       "                var nbb_cell_id = 59;\n",
       "                var nbb_unformatted_code = \"# Selected parameters DOT\\n# DEBT_CEILING_USD = 20_000_000\\n\\nSECURE_THRESHOLD = 3.3\\nPREMIUM_REDEEM_THRESHOLD = 2.6\\nLIQUIDATION_THRESHOLD = 2.0\\n\\n# Selected parameters KSM\\n# DEBT_CEILING_USD = 20_000_000\\n\\nSECURE_THRESHOLD = 3.6\\nPREMIUM_REDEEM_THRESHOLD = 2.8\\nLIQUIDATION_THRESHOLD = 2.2\";\n",
       "                var nbb_formatted_code = \"# Selected parameters DOT\\n# DEBT_CEILING_USD = 20_000_000\\n\\nSECURE_THRESHOLD = 3.3\\nPREMIUM_REDEEM_THRESHOLD = 2.6\\nLIQUIDATION_THRESHOLD = 2.0\\n\\n# Selected parameters KSM\\n# DEBT_CEILING_USD = 20_000_000\\n\\nSECURE_THRESHOLD = 3.6\\nPREMIUM_REDEEM_THRESHOLD = 2.8\\nLIQUIDATION_THRESHOLD = 2.2\";\n",
       "                var nbb_cells = Jupyter.notebook.get_cells();\n",
       "                for (var i = 0; i < nbb_cells.length; ++i) {\n",
       "                    if (nbb_cells[i].input_prompt_number == nbb_cell_id) {\n",
       "                        if (nbb_cells[i].get_text() == nbb_unformatted_code) {\n",
       "                             nbb_cells[i].set_text(nbb_formatted_code);\n",
       "                        }\n",
       "                        break;\n",
       "                    }\n",
       "                }\n",
       "            }, 500);\n",
       "            "
      ],
      "text/plain": [
       "<IPython.core.display.Javascript object>"
      ]
     },
     "metadata": {},
     "output_type": "display_data"
    },
    {
     "data": {
      "application/javascript": [
       "\n",
       "            setTimeout(function() {\n",
       "                var nbb_cell_id = 59;\n",
       "                var nbb_unformatted_code = \"# Selected parameters DOT\\n# DEBT_CEILING_USD = 20_000_000\\n\\nSECURE_THRESHOLD = 3.3\\nPREMIUM_REDEEM_THRESHOLD = 2.6\\nLIQUIDATION_THRESHOLD = 2.0\\n\\n# Selected parameters KSM\\n# DEBT_CEILING_USD = 20_000_000\\n\\nSECURE_THRESHOLD = 3.6\\nPREMIUM_REDEEM_THRESHOLD = 2.8\\nLIQUIDATION_THRESHOLD = 2.2\";\n",
       "                var nbb_formatted_code = \"# Selected parameters DOT\\n# DEBT_CEILING_USD = 20_000_000\\n\\nSECURE_THRESHOLD = 3.3\\nPREMIUM_REDEEM_THRESHOLD = 2.6\\nLIQUIDATION_THRESHOLD = 2.0\\n\\n# Selected parameters KSM\\n# DEBT_CEILING_USD = 20_000_000\\n\\nSECURE_THRESHOLD = 3.6\\nPREMIUM_REDEEM_THRESHOLD = 2.8\\nLIQUIDATION_THRESHOLD = 2.2\";\n",
       "                var nbb_cells = Jupyter.notebook.get_cells();\n",
       "                for (var i = 0; i < nbb_cells.length; ++i) {\n",
       "                    if (nbb_cells[i].input_prompt_number == nbb_cell_id) {\n",
       "                        if (nbb_cells[i].get_text() == nbb_unformatted_code) {\n",
       "                             nbb_cells[i].set_text(nbb_formatted_code);\n",
       "                        }\n",
       "                        break;\n",
       "                    }\n",
       "                }\n",
       "            }, 500);\n",
       "            "
      ],
      "text/plain": [
       "<IPython.core.display.Javascript object>"
      ]
     },
     "metadata": {},
     "output_type": "display_data"
    },
    {
     "data": {
      "application/javascript": [
       "\n",
       "            setTimeout(function() {\n",
       "                var nbb_cell_id = 59;\n",
       "                var nbb_unformatted_code = \"# Selected parameters DOT\\n# DEBT_CEILING_USD = 20_000_000\\n\\nSECURE_THRESHOLD = 3.3\\nPREMIUM_REDEEM_THRESHOLD = 2.6\\nLIQUIDATION_THRESHOLD = 2.0\\n\\n# Selected parameters KSM\\n# DEBT_CEILING_USD = 20_000_000\\n\\nSECURE_THRESHOLD = 3.6\\nPREMIUM_REDEEM_THRESHOLD = 2.8\\nLIQUIDATION_THRESHOLD = 2.2\";\n",
       "                var nbb_formatted_code = \"# Selected parameters DOT\\n# DEBT_CEILING_USD = 20_000_000\\n\\nSECURE_THRESHOLD = 3.3\\nPREMIUM_REDEEM_THRESHOLD = 2.6\\nLIQUIDATION_THRESHOLD = 2.0\\n\\n# Selected parameters KSM\\n# DEBT_CEILING_USD = 20_000_000\\n\\nSECURE_THRESHOLD = 3.6\\nPREMIUM_REDEEM_THRESHOLD = 2.8\\nLIQUIDATION_THRESHOLD = 2.2\";\n",
       "                var nbb_cells = Jupyter.notebook.get_cells();\n",
       "                for (var i = 0; i < nbb_cells.length; ++i) {\n",
       "                    if (nbb_cells[i].input_prompt_number == nbb_cell_id) {\n",
       "                        if (nbb_cells[i].get_text() == nbb_unformatted_code) {\n",
       "                             nbb_cells[i].set_text(nbb_formatted_code);\n",
       "                        }\n",
       "                        break;\n",
       "                    }\n",
       "                }\n",
       "            }, 500);\n",
       "            "
      ],
      "text/plain": [
       "<IPython.core.display.Javascript object>"
      ]
     },
     "metadata": {},
     "output_type": "display_data"
    },
    {
     "data": {
      "application/javascript": [
       "\n",
       "            setTimeout(function() {\n",
       "                var nbb_cell_id = 59;\n",
       "                var nbb_unformatted_code = \"# Selected parameters DOT\\n# DEBT_CEILING_USD = 20_000_000\\n\\nSECURE_THRESHOLD = 3.3\\nPREMIUM_REDEEM_THRESHOLD = 2.6\\nLIQUIDATION_THRESHOLD = 2.0\\n\\n# Selected parameters KSM\\n# DEBT_CEILING_USD = 20_000_000\\n\\nSECURE_THRESHOLD = 3.6\\nPREMIUM_REDEEM_THRESHOLD = 2.8\\nLIQUIDATION_THRESHOLD = 2.2\";\n",
       "                var nbb_formatted_code = \"# Selected parameters DOT\\n# DEBT_CEILING_USD = 20_000_000\\n\\nSECURE_THRESHOLD = 3.3\\nPREMIUM_REDEEM_THRESHOLD = 2.6\\nLIQUIDATION_THRESHOLD = 2.0\\n\\n# Selected parameters KSM\\n# DEBT_CEILING_USD = 20_000_000\\n\\nSECURE_THRESHOLD = 3.6\\nPREMIUM_REDEEM_THRESHOLD = 2.8\\nLIQUIDATION_THRESHOLD = 2.2\";\n",
       "                var nbb_cells = Jupyter.notebook.get_cells();\n",
       "                for (var i = 0; i < nbb_cells.length; ++i) {\n",
       "                    if (nbb_cells[i].input_prompt_number == nbb_cell_id) {\n",
       "                        if (nbb_cells[i].get_text() == nbb_unformatted_code) {\n",
       "                             nbb_cells[i].set_text(nbb_formatted_code);\n",
       "                        }\n",
       "                        break;\n",
       "                    }\n",
       "                }\n",
       "            }, 500);\n",
       "            "
      ],
      "text/plain": [
       "<IPython.core.display.Javascript object>"
      ]
     },
     "metadata": {},
     "output_type": "display_data"
    }
   ],
   "source": [
    "# Selected parameters DOT\n",
    "# DEBT_CEILING_USD = 20_000_000\n",
    "\n",
    "SECURE_THRESHOLD = 3.3\n",
    "PREMIUM_REDEEM_THRESHOLD = 2.6\n",
    "LIQUIDATION_THRESHOLD = 2.0\n",
    "\n",
    "# Selected parameters KSM\n",
    "# DEBT_CEILING_USD = 20_000_000\n",
    "\n",
    "SECURE_THRESHOLD = 3.6\n",
    "PREMIUM_REDEEM_THRESHOLD = 2.8\n",
    "LIQUIDATION_THRESHOLD = 2.2"
   ]
  },
  {
   "cell_type": "code",
   "execution_count": null,
   "id": "7499e69f",
   "metadata": {},
   "outputs": [],
   "source": []
  }
 ],
 "metadata": {
  "kernelspec": {
   "display_name": "Python 3 (ipykernel)",
   "language": "python",
   "name": "python3"
  },
  "language_info": {
   "codemirror_mode": {
    "name": "ipython",
    "version": 3
   },
   "file_extension": ".py",
   "mimetype": "text/x-python",
   "name": "python",
   "nbconvert_exporter": "python",
   "pygments_lexer": "ipython3",
   "version": "3.8.10"
  }
 },
 "nbformat": 4,
 "nbformat_minor": 5
}
